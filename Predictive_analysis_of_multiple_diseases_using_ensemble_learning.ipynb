{
  "metadata": {
    "kernelspec": {
      "language": "python",
      "display_name": "Python 3",
      "name": "python3"
    },
    "language_info": {
      "pygments_lexer": "ipython3",
      "nbconvert_exporter": "python",
      "version": "3.6.4",
      "file_extension": ".py",
      "codemirror_mode": {
        "name": "ipython",
        "version": 3
      },
      "name": "python",
      "mimetype": "text/x-python"
    },
    "colab": {
      "name": "Predictive analysis of multiple diseases using ensemble learning.ipynb",
      "provenance": [],
      "collapsed_sections": [
        "V9UyhmEmtNAX"
      ]
    },
    "accelerator": "GPU",
    "gpuClass": "standard"
  },
  "nbformat_minor": 0,
  "nbformat": 4,
  "cells": [
    {
      "cell_type": "markdown",
      "source": [
        "# **`Predictive analysis of multiple diseases using ensemle learning`**\n",
        "\n",
        "---\n",
        "\n",
        "\n",
        "\n",
        "\n",
        "\n",
        "\n",
        "\n",
        "\n",
        "\n",
        "\n",
        "\n",
        "\n",
        "\n",
        "---\n",
        "\n"
      ],
      "metadata": {
        "id": "QjShMPjgoxry"
      }
    },
    {
      "cell_type": "markdown",
      "source": [
        "**Importing libraries**"
      ],
      "metadata": {
        "id": "FqadkcL7zpWA"
      }
    },
    {
      "cell_type": "code",
      "source": [
        "import pandas as pd\n",
        "import numpy as np\n",
        "import matplotlib.pyplot as plt\n",
        "from sklearn.model_selection import train_test_split,KFold,cross_val_score,GridSearchCV\n",
        "from sklearn.svm import SVC\n",
        "from sklearn.metrics import f1_score, accuracy_score, confusion_matrix,classification_report,plot_confusion_matrix,plot_roc_curve,precision_score,roc_curve,recall_score\n",
        "import seaborn as sns\n",
        "from sklearn.utils import shuffle\n",
        "from pandas_profiling import ProfileReport\n",
        "from sklearn.linear_model import LogisticRegression, Perceptron, RidgeClassifier, SGDClassifier\n",
        "from sklearn.svm import SVC, LinearSVC\n",
        "from sklearn.ensemble import RandomForestClassifier, GradientBoostingClassifier, ExtraTreesClassifier \n",
        "from sklearn.ensemble import BaggingClassifier, AdaBoostClassifier, VotingClassifier \n",
        "from sklearn.neighbors import KNeighborsClassifier\n",
        "from sklearn.naive_bayes import GaussianNB\n",
        "from sklearn.tree import DecisionTreeClassifier\n",
        "from sklearn import metrics"
      ],
      "metadata": {
        "_cell_guid": "b1076dfc-b9ad-4769-8c92-a6c4dae69d19",
        "_uuid": "8f2839f25d086af736a60e9eeb907d3b93b6e0e5",
        "papermill": {
          "duration": 1.394335,
          "end_time": "2021-08-30T15:05:17.551091",
          "exception": false,
          "start_time": "2021-08-30T15:05:16.156756",
          "status": "completed"
        },
        "tags": [],
        "execution": {
          "iopub.status.busy": "2022-06-18T14:12:49.372687Z",
          "iopub.execute_input": "2022-06-18T14:12:49.373222Z",
          "iopub.status.idle": "2022-06-18T14:12:51.594057Z",
          "shell.execute_reply.started": "2022-06-18T14:12:49.373086Z",
          "shell.execute_reply": "2022-06-18T14:12:51.593327Z"
        },
        "trusted": true,
        "id": "ObMD11ZntNAI"
      },
      "execution_count": 1,
      "outputs": []
    },
    {
      "cell_type": "code",
      "source": [
        "from google.colab import drive\n",
        "drive.mount('/content/drive')"
      ],
      "metadata": {
        "colab": {
          "base_uri": "https://localhost:8080/"
        },
        "id": "n9mDk42pwfbj",
        "outputId": "e95f1272-537e-49dc-da1a-8c1dad5bdc52"
      },
      "execution_count": 2,
      "outputs": [
        {
          "output_type": "stream",
          "name": "stdout",
          "text": [
            "Mounted at /content/drive\n"
          ]
        }
      ]
    },
    {
      "cell_type": "markdown",
      "source": [
        "**Read and shuffle the dataset**"
      ],
      "metadata": {
        "papermill": {
          "duration": 0.024723,
          "end_time": "2021-08-30T15:05:17.748249",
          "exception": false,
          "start_time": "2021-08-30T15:05:17.723526",
          "status": "completed"
        },
        "tags": [],
        "id": "OglwbABftNAN"
      }
    },
    {
      "cell_type": "code",
      "source": [
        "path = \"/content/drive/MyDrive/syptomsds/dataset.csv\"\n",
        "df = pd.read_csv(path)\n"
      ],
      "metadata": {
        "_cell_guid": "79c7e3d0-c299-4dcb-8224-4455121ee9b0",
        "_uuid": "d629ff2d2480ee46fbb7e2d37f6b5fab8052498a",
        "papermill": {
          "duration": 0.098404,
          "end_time": "2021-08-30T15:05:17.923833",
          "exception": false,
          "start_time": "2021-08-30T15:05:17.825429",
          "status": "completed"
        },
        "tags": [],
        "execution": {
          "iopub.status.busy": "2022-06-18T14:12:51.627641Z",
          "iopub.execute_input": "2022-06-18T14:12:51.628113Z",
          "iopub.status.idle": "2022-06-18T14:12:51.685185Z",
          "shell.execute_reply.started": "2022-06-18T14:12:51.628073Z",
          "shell.execute_reply": "2022-06-18T14:12:51.684446Z"
        },
        "trusted": true,
        "id": "XttZk__PtNAO"
      },
      "execution_count": 3,
      "outputs": []
    },
    {
      "cell_type": "code",
      "source": [
        "df = shuffle(df,random_state=42)\n",
        "df.head()"
      ],
      "metadata": {
        "colab": {
          "base_uri": "https://localhost:8080/",
          "height": 285
        },
        "id": "NbsGib4Qx7FB",
        "outputId": "003c74e4-48fc-442e-b9ed-5bf47b75d4e8"
      },
      "execution_count": 4,
      "outputs": [
        {
          "output_type": "execute_result",
          "data": {
            "text/plain": [
              "                  Disease        Symptom_1            Symptom_2  \\\n",
              "373                  Acne        skin_rash           blackheads   \n",
              "4916                 Acne        skin_rash   pus_filled_pimples   \n",
              "1550      Hyperthyroidism          fatigue          mood_swings   \n",
              "3081                 AIDS   muscle_wasting    patches_in_throat   \n",
              "3857  Chronic cholestasis          itching             vomiting   \n",
              "\n",
              "            Symptom_3                Symptom_4          Symptom_5  \\\n",
              "373          scurring                      NaN                NaN   \n",
              "4916       blackheads                 scurring                NaN   \n",
              "1550      weight_loss             restlessness           sweating   \n",
              "3081       high_fever   extra_marital_contacts                NaN   \n",
              "3857   yellowish_skin                   nausea   loss_of_appetite   \n",
              "\n",
              "            Symptom_6           Symptom_7          Symptom_8  \\\n",
              "373               NaN                 NaN                NaN   \n",
              "4916              NaN                 NaN                NaN   \n",
              "1550        diarrhoea     fast_heart_rate   excessive_hunger   \n",
              "3081              NaN                 NaN                NaN   \n",
              "3857   abdominal_pain   yellowing_of_eyes                NaN   \n",
              "\n",
              "             Symptom_9     Symptom_10              Symptom_11 Symptom_12  \\\n",
              "373                NaN            NaN                     NaN        NaN   \n",
              "4916               NaN            NaN                     NaN        NaN   \n",
              "1550   muscle_weakness   irritability   abnormal_menstruation        NaN   \n",
              "3081               NaN            NaN                     NaN        NaN   \n",
              "3857               NaN            NaN                     NaN        NaN   \n",
              "\n",
              "     Symptom_13 Symptom_14 Symptom_15 Symptom_16 Symptom_17  \n",
              "373         NaN        NaN        NaN        NaN        NaN  \n",
              "4916        NaN        NaN        NaN        NaN        NaN  \n",
              "1550        NaN        NaN        NaN        NaN        NaN  \n",
              "3081        NaN        NaN        NaN        NaN        NaN  \n",
              "3857        NaN        NaN        NaN        NaN        NaN  "
            ],
            "text/html": [
              "\n",
              "  <div id=\"df-fdf6dfef-cc16-4c7f-8a74-5d781d7a3430\">\n",
              "    <div class=\"colab-df-container\">\n",
              "      <div>\n",
              "<style scoped>\n",
              "    .dataframe tbody tr th:only-of-type {\n",
              "        vertical-align: middle;\n",
              "    }\n",
              "\n",
              "    .dataframe tbody tr th {\n",
              "        vertical-align: top;\n",
              "    }\n",
              "\n",
              "    .dataframe thead th {\n",
              "        text-align: right;\n",
              "    }\n",
              "</style>\n",
              "<table border=\"1\" class=\"dataframe\">\n",
              "  <thead>\n",
              "    <tr style=\"text-align: right;\">\n",
              "      <th></th>\n",
              "      <th>Disease</th>\n",
              "      <th>Symptom_1</th>\n",
              "      <th>Symptom_2</th>\n",
              "      <th>Symptom_3</th>\n",
              "      <th>Symptom_4</th>\n",
              "      <th>Symptom_5</th>\n",
              "      <th>Symptom_6</th>\n",
              "      <th>Symptom_7</th>\n",
              "      <th>Symptom_8</th>\n",
              "      <th>Symptom_9</th>\n",
              "      <th>Symptom_10</th>\n",
              "      <th>Symptom_11</th>\n",
              "      <th>Symptom_12</th>\n",
              "      <th>Symptom_13</th>\n",
              "      <th>Symptom_14</th>\n",
              "      <th>Symptom_15</th>\n",
              "      <th>Symptom_16</th>\n",
              "      <th>Symptom_17</th>\n",
              "    </tr>\n",
              "  </thead>\n",
              "  <tbody>\n",
              "    <tr>\n",
              "      <th>373</th>\n",
              "      <td>Acne</td>\n",
              "      <td>skin_rash</td>\n",
              "      <td>blackheads</td>\n",
              "      <td>scurring</td>\n",
              "      <td>NaN</td>\n",
              "      <td>NaN</td>\n",
              "      <td>NaN</td>\n",
              "      <td>NaN</td>\n",
              "      <td>NaN</td>\n",
              "      <td>NaN</td>\n",
              "      <td>NaN</td>\n",
              "      <td>NaN</td>\n",
              "      <td>NaN</td>\n",
              "      <td>NaN</td>\n",
              "      <td>NaN</td>\n",
              "      <td>NaN</td>\n",
              "      <td>NaN</td>\n",
              "      <td>NaN</td>\n",
              "    </tr>\n",
              "    <tr>\n",
              "      <th>4916</th>\n",
              "      <td>Acne</td>\n",
              "      <td>skin_rash</td>\n",
              "      <td>pus_filled_pimples</td>\n",
              "      <td>blackheads</td>\n",
              "      <td>scurring</td>\n",
              "      <td>NaN</td>\n",
              "      <td>NaN</td>\n",
              "      <td>NaN</td>\n",
              "      <td>NaN</td>\n",
              "      <td>NaN</td>\n",
              "      <td>NaN</td>\n",
              "      <td>NaN</td>\n",
              "      <td>NaN</td>\n",
              "      <td>NaN</td>\n",
              "      <td>NaN</td>\n",
              "      <td>NaN</td>\n",
              "      <td>NaN</td>\n",
              "      <td>NaN</td>\n",
              "    </tr>\n",
              "    <tr>\n",
              "      <th>1550</th>\n",
              "      <td>Hyperthyroidism</td>\n",
              "      <td>fatigue</td>\n",
              "      <td>mood_swings</td>\n",
              "      <td>weight_loss</td>\n",
              "      <td>restlessness</td>\n",
              "      <td>sweating</td>\n",
              "      <td>diarrhoea</td>\n",
              "      <td>fast_heart_rate</td>\n",
              "      <td>excessive_hunger</td>\n",
              "      <td>muscle_weakness</td>\n",
              "      <td>irritability</td>\n",
              "      <td>abnormal_menstruation</td>\n",
              "      <td>NaN</td>\n",
              "      <td>NaN</td>\n",
              "      <td>NaN</td>\n",
              "      <td>NaN</td>\n",
              "      <td>NaN</td>\n",
              "      <td>NaN</td>\n",
              "    </tr>\n",
              "    <tr>\n",
              "      <th>3081</th>\n",
              "      <td>AIDS</td>\n",
              "      <td>muscle_wasting</td>\n",
              "      <td>patches_in_throat</td>\n",
              "      <td>high_fever</td>\n",
              "      <td>extra_marital_contacts</td>\n",
              "      <td>NaN</td>\n",
              "      <td>NaN</td>\n",
              "      <td>NaN</td>\n",
              "      <td>NaN</td>\n",
              "      <td>NaN</td>\n",
              "      <td>NaN</td>\n",
              "      <td>NaN</td>\n",
              "      <td>NaN</td>\n",
              "      <td>NaN</td>\n",
              "      <td>NaN</td>\n",
              "      <td>NaN</td>\n",
              "      <td>NaN</td>\n",
              "      <td>NaN</td>\n",
              "    </tr>\n",
              "    <tr>\n",
              "      <th>3857</th>\n",
              "      <td>Chronic cholestasis</td>\n",
              "      <td>itching</td>\n",
              "      <td>vomiting</td>\n",
              "      <td>yellowish_skin</td>\n",
              "      <td>nausea</td>\n",
              "      <td>loss_of_appetite</td>\n",
              "      <td>abdominal_pain</td>\n",
              "      <td>yellowing_of_eyes</td>\n",
              "      <td>NaN</td>\n",
              "      <td>NaN</td>\n",
              "      <td>NaN</td>\n",
              "      <td>NaN</td>\n",
              "      <td>NaN</td>\n",
              "      <td>NaN</td>\n",
              "      <td>NaN</td>\n",
              "      <td>NaN</td>\n",
              "      <td>NaN</td>\n",
              "      <td>NaN</td>\n",
              "    </tr>\n",
              "  </tbody>\n",
              "</table>\n",
              "</div>\n",
              "      <button class=\"colab-df-convert\" onclick=\"convertToInteractive('df-fdf6dfef-cc16-4c7f-8a74-5d781d7a3430')\"\n",
              "              title=\"Convert this dataframe to an interactive table.\"\n",
              "              style=\"display:none;\">\n",
              "        \n",
              "  <svg xmlns=\"http://www.w3.org/2000/svg\" height=\"24px\"viewBox=\"0 0 24 24\"\n",
              "       width=\"24px\">\n",
              "    <path d=\"M0 0h24v24H0V0z\" fill=\"none\"/>\n",
              "    <path d=\"M18.56 5.44l.94 2.06.94-2.06 2.06-.94-2.06-.94-.94-2.06-.94 2.06-2.06.94zm-11 1L8.5 8.5l.94-2.06 2.06-.94-2.06-.94L8.5 2.5l-.94 2.06-2.06.94zm10 10l.94 2.06.94-2.06 2.06-.94-2.06-.94-.94-2.06-.94 2.06-2.06.94z\"/><path d=\"M17.41 7.96l-1.37-1.37c-.4-.4-.92-.59-1.43-.59-.52 0-1.04.2-1.43.59L10.3 9.45l-7.72 7.72c-.78.78-.78 2.05 0 2.83L4 21.41c.39.39.9.59 1.41.59.51 0 1.02-.2 1.41-.59l7.78-7.78 2.81-2.81c.8-.78.8-2.07 0-2.86zM5.41 20L4 18.59l7.72-7.72 1.47 1.35L5.41 20z\"/>\n",
              "  </svg>\n",
              "      </button>\n",
              "      \n",
              "  <style>\n",
              "    .colab-df-container {\n",
              "      display:flex;\n",
              "      flex-wrap:wrap;\n",
              "      gap: 12px;\n",
              "    }\n",
              "\n",
              "    .colab-df-convert {\n",
              "      background-color: #E8F0FE;\n",
              "      border: none;\n",
              "      border-radius: 50%;\n",
              "      cursor: pointer;\n",
              "      display: none;\n",
              "      fill: #1967D2;\n",
              "      height: 32px;\n",
              "      padding: 0 0 0 0;\n",
              "      width: 32px;\n",
              "    }\n",
              "\n",
              "    .colab-df-convert:hover {\n",
              "      background-color: #E2EBFA;\n",
              "      box-shadow: 0px 1px 2px rgba(60, 64, 67, 0.3), 0px 1px 3px 1px rgba(60, 64, 67, 0.15);\n",
              "      fill: #174EA6;\n",
              "    }\n",
              "\n",
              "    [theme=dark] .colab-df-convert {\n",
              "      background-color: #3B4455;\n",
              "      fill: #D2E3FC;\n",
              "    }\n",
              "\n",
              "    [theme=dark] .colab-df-convert:hover {\n",
              "      background-color: #434B5C;\n",
              "      box-shadow: 0px 1px 3px 1px rgba(0, 0, 0, 0.15);\n",
              "      filter: drop-shadow(0px 1px 2px rgba(0, 0, 0, 0.3));\n",
              "      fill: #FFFFFF;\n",
              "    }\n",
              "  </style>\n",
              "\n",
              "      <script>\n",
              "        const buttonEl =\n",
              "          document.querySelector('#df-fdf6dfef-cc16-4c7f-8a74-5d781d7a3430 button.colab-df-convert');\n",
              "        buttonEl.style.display =\n",
              "          google.colab.kernel.accessAllowed ? 'block' : 'none';\n",
              "\n",
              "        async function convertToInteractive(key) {\n",
              "          const element = document.querySelector('#df-fdf6dfef-cc16-4c7f-8a74-5d781d7a3430');\n",
              "          const dataTable =\n",
              "            await google.colab.kernel.invokeFunction('convertToInteractive',\n",
              "                                                     [key], {});\n",
              "          if (!dataTable) return;\n",
              "\n",
              "          const docLinkHtml = 'Like what you see? Visit the ' +\n",
              "            '<a target=\"_blank\" href=https://colab.research.google.com/notebooks/data_table.ipynb>data table notebook</a>'\n",
              "            + ' to learn more about interactive tables.';\n",
              "          element.innerHTML = '';\n",
              "          dataTable['output_type'] = 'display_data';\n",
              "          await google.colab.output.renderOutput(dataTable, element);\n",
              "          const docLink = document.createElement('div');\n",
              "          docLink.innerHTML = docLinkHtml;\n",
              "          element.appendChild(docLink);\n",
              "        }\n",
              "      </script>\n",
              "    </div>\n",
              "  </div>\n",
              "  "
            ]
          },
          "metadata": {},
          "execution_count": 4
        }
      ]
    },
    {
      "cell_type": "markdown",
      "source": [
        "**Removing Hyphen from strings**"
      ],
      "metadata": {
        "id": "BjR-sZH_tNAP"
      }
    },
    {
      "cell_type": "code",
      "source": [
        "for col in df.columns:\n",
        "    \n",
        "    df[col] = df[col].str.replace('_',' ')\n",
        "df.head()    "
      ],
      "metadata": {
        "execution": {
          "iopub.status.busy": "2022-06-18T14:12:51.686352Z",
          "iopub.execute_input": "2022-06-18T14:12:51.686699Z",
          "iopub.status.idle": "2022-06-18T14:12:51.737683Z",
          "shell.execute_reply.started": "2022-06-18T14:12:51.686665Z",
          "shell.execute_reply": "2022-06-18T14:12:51.736946Z"
        },
        "trusted": true,
        "colab": {
          "base_uri": "https://localhost:8080/",
          "height": 336
        },
        "id": "RJoEYc6ytNAP",
        "outputId": "f373b59e-6d0b-4e9d-c4a6-5c875be09bc6"
      },
      "execution_count": 5,
      "outputs": [
        {
          "output_type": "execute_result",
          "data": {
            "text/plain": [
              "                  Disease        Symptom_1            Symptom_2  \\\n",
              "373                  Acne        skin rash           blackheads   \n",
              "4916                 Acne        skin rash   pus filled pimples   \n",
              "1550      Hyperthyroidism          fatigue          mood swings   \n",
              "3081                 AIDS   muscle wasting    patches in throat   \n",
              "3857  Chronic cholestasis          itching             vomiting   \n",
              "\n",
              "            Symptom_3                Symptom_4          Symptom_5  \\\n",
              "373          scurring                      NaN                NaN   \n",
              "4916       blackheads                 scurring                NaN   \n",
              "1550      weight loss             restlessness           sweating   \n",
              "3081       high fever   extra marital contacts                NaN   \n",
              "3857   yellowish skin                   nausea   loss of appetite   \n",
              "\n",
              "            Symptom_6           Symptom_7          Symptom_8  \\\n",
              "373               NaN                 NaN                NaN   \n",
              "4916              NaN                 NaN                NaN   \n",
              "1550        diarrhoea     fast heart rate   excessive hunger   \n",
              "3081              NaN                 NaN                NaN   \n",
              "3857   abdominal pain   yellowing of eyes                NaN   \n",
              "\n",
              "             Symptom_9     Symptom_10              Symptom_11 Symptom_12  \\\n",
              "373                NaN            NaN                     NaN        NaN   \n",
              "4916               NaN            NaN                     NaN        NaN   \n",
              "1550   muscle weakness   irritability   abnormal menstruation        NaN   \n",
              "3081               NaN            NaN                     NaN        NaN   \n",
              "3857               NaN            NaN                     NaN        NaN   \n",
              "\n",
              "     Symptom_13 Symptom_14 Symptom_15 Symptom_16 Symptom_17  \n",
              "373         NaN        NaN        NaN        NaN        NaN  \n",
              "4916        NaN        NaN        NaN        NaN        NaN  \n",
              "1550        NaN        NaN        NaN        NaN        NaN  \n",
              "3081        NaN        NaN        NaN        NaN        NaN  \n",
              "3857        NaN        NaN        NaN        NaN        NaN  "
            ],
            "text/html": [
              "\n",
              "  <div id=\"df-303b5834-2d79-420e-8e95-1a2bf3594cfe\">\n",
              "    <div class=\"colab-df-container\">\n",
              "      <div>\n",
              "<style scoped>\n",
              "    .dataframe tbody tr th:only-of-type {\n",
              "        vertical-align: middle;\n",
              "    }\n",
              "\n",
              "    .dataframe tbody tr th {\n",
              "        vertical-align: top;\n",
              "    }\n",
              "\n",
              "    .dataframe thead th {\n",
              "        text-align: right;\n",
              "    }\n",
              "</style>\n",
              "<table border=\"1\" class=\"dataframe\">\n",
              "  <thead>\n",
              "    <tr style=\"text-align: right;\">\n",
              "      <th></th>\n",
              "      <th>Disease</th>\n",
              "      <th>Symptom_1</th>\n",
              "      <th>Symptom_2</th>\n",
              "      <th>Symptom_3</th>\n",
              "      <th>Symptom_4</th>\n",
              "      <th>Symptom_5</th>\n",
              "      <th>Symptom_6</th>\n",
              "      <th>Symptom_7</th>\n",
              "      <th>Symptom_8</th>\n",
              "      <th>Symptom_9</th>\n",
              "      <th>Symptom_10</th>\n",
              "      <th>Symptom_11</th>\n",
              "      <th>Symptom_12</th>\n",
              "      <th>Symptom_13</th>\n",
              "      <th>Symptom_14</th>\n",
              "      <th>Symptom_15</th>\n",
              "      <th>Symptom_16</th>\n",
              "      <th>Symptom_17</th>\n",
              "    </tr>\n",
              "  </thead>\n",
              "  <tbody>\n",
              "    <tr>\n",
              "      <th>373</th>\n",
              "      <td>Acne</td>\n",
              "      <td>skin rash</td>\n",
              "      <td>blackheads</td>\n",
              "      <td>scurring</td>\n",
              "      <td>NaN</td>\n",
              "      <td>NaN</td>\n",
              "      <td>NaN</td>\n",
              "      <td>NaN</td>\n",
              "      <td>NaN</td>\n",
              "      <td>NaN</td>\n",
              "      <td>NaN</td>\n",
              "      <td>NaN</td>\n",
              "      <td>NaN</td>\n",
              "      <td>NaN</td>\n",
              "      <td>NaN</td>\n",
              "      <td>NaN</td>\n",
              "      <td>NaN</td>\n",
              "      <td>NaN</td>\n",
              "    </tr>\n",
              "    <tr>\n",
              "      <th>4916</th>\n",
              "      <td>Acne</td>\n",
              "      <td>skin rash</td>\n",
              "      <td>pus filled pimples</td>\n",
              "      <td>blackheads</td>\n",
              "      <td>scurring</td>\n",
              "      <td>NaN</td>\n",
              "      <td>NaN</td>\n",
              "      <td>NaN</td>\n",
              "      <td>NaN</td>\n",
              "      <td>NaN</td>\n",
              "      <td>NaN</td>\n",
              "      <td>NaN</td>\n",
              "      <td>NaN</td>\n",
              "      <td>NaN</td>\n",
              "      <td>NaN</td>\n",
              "      <td>NaN</td>\n",
              "      <td>NaN</td>\n",
              "      <td>NaN</td>\n",
              "    </tr>\n",
              "    <tr>\n",
              "      <th>1550</th>\n",
              "      <td>Hyperthyroidism</td>\n",
              "      <td>fatigue</td>\n",
              "      <td>mood swings</td>\n",
              "      <td>weight loss</td>\n",
              "      <td>restlessness</td>\n",
              "      <td>sweating</td>\n",
              "      <td>diarrhoea</td>\n",
              "      <td>fast heart rate</td>\n",
              "      <td>excessive hunger</td>\n",
              "      <td>muscle weakness</td>\n",
              "      <td>irritability</td>\n",
              "      <td>abnormal menstruation</td>\n",
              "      <td>NaN</td>\n",
              "      <td>NaN</td>\n",
              "      <td>NaN</td>\n",
              "      <td>NaN</td>\n",
              "      <td>NaN</td>\n",
              "      <td>NaN</td>\n",
              "    </tr>\n",
              "    <tr>\n",
              "      <th>3081</th>\n",
              "      <td>AIDS</td>\n",
              "      <td>muscle wasting</td>\n",
              "      <td>patches in throat</td>\n",
              "      <td>high fever</td>\n",
              "      <td>extra marital contacts</td>\n",
              "      <td>NaN</td>\n",
              "      <td>NaN</td>\n",
              "      <td>NaN</td>\n",
              "      <td>NaN</td>\n",
              "      <td>NaN</td>\n",
              "      <td>NaN</td>\n",
              "      <td>NaN</td>\n",
              "      <td>NaN</td>\n",
              "      <td>NaN</td>\n",
              "      <td>NaN</td>\n",
              "      <td>NaN</td>\n",
              "      <td>NaN</td>\n",
              "      <td>NaN</td>\n",
              "    </tr>\n",
              "    <tr>\n",
              "      <th>3857</th>\n",
              "      <td>Chronic cholestasis</td>\n",
              "      <td>itching</td>\n",
              "      <td>vomiting</td>\n",
              "      <td>yellowish skin</td>\n",
              "      <td>nausea</td>\n",
              "      <td>loss of appetite</td>\n",
              "      <td>abdominal pain</td>\n",
              "      <td>yellowing of eyes</td>\n",
              "      <td>NaN</td>\n",
              "      <td>NaN</td>\n",
              "      <td>NaN</td>\n",
              "      <td>NaN</td>\n",
              "      <td>NaN</td>\n",
              "      <td>NaN</td>\n",
              "      <td>NaN</td>\n",
              "      <td>NaN</td>\n",
              "      <td>NaN</td>\n",
              "      <td>NaN</td>\n",
              "    </tr>\n",
              "  </tbody>\n",
              "</table>\n",
              "</div>\n",
              "      <button class=\"colab-df-convert\" onclick=\"convertToInteractive('df-303b5834-2d79-420e-8e95-1a2bf3594cfe')\"\n",
              "              title=\"Convert this dataframe to an interactive table.\"\n",
              "              style=\"display:none;\">\n",
              "        \n",
              "  <svg xmlns=\"http://www.w3.org/2000/svg\" height=\"24px\"viewBox=\"0 0 24 24\"\n",
              "       width=\"24px\">\n",
              "    <path d=\"M0 0h24v24H0V0z\" fill=\"none\"/>\n",
              "    <path d=\"M18.56 5.44l.94 2.06.94-2.06 2.06-.94-2.06-.94-.94-2.06-.94 2.06-2.06.94zm-11 1L8.5 8.5l.94-2.06 2.06-.94-2.06-.94L8.5 2.5l-.94 2.06-2.06.94zm10 10l.94 2.06.94-2.06 2.06-.94-2.06-.94-.94-2.06-.94 2.06-2.06.94z\"/><path d=\"M17.41 7.96l-1.37-1.37c-.4-.4-.92-.59-1.43-.59-.52 0-1.04.2-1.43.59L10.3 9.45l-7.72 7.72c-.78.78-.78 2.05 0 2.83L4 21.41c.39.39.9.59 1.41.59.51 0 1.02-.2 1.41-.59l7.78-7.78 2.81-2.81c.8-.78.8-2.07 0-2.86zM5.41 20L4 18.59l7.72-7.72 1.47 1.35L5.41 20z\"/>\n",
              "  </svg>\n",
              "      </button>\n",
              "      \n",
              "  <style>\n",
              "    .colab-df-container {\n",
              "      display:flex;\n",
              "      flex-wrap:wrap;\n",
              "      gap: 12px;\n",
              "    }\n",
              "\n",
              "    .colab-df-convert {\n",
              "      background-color: #E8F0FE;\n",
              "      border: none;\n",
              "      border-radius: 50%;\n",
              "      cursor: pointer;\n",
              "      display: none;\n",
              "      fill: #1967D2;\n",
              "      height: 32px;\n",
              "      padding: 0 0 0 0;\n",
              "      width: 32px;\n",
              "    }\n",
              "\n",
              "    .colab-df-convert:hover {\n",
              "      background-color: #E2EBFA;\n",
              "      box-shadow: 0px 1px 2px rgba(60, 64, 67, 0.3), 0px 1px 3px 1px rgba(60, 64, 67, 0.15);\n",
              "      fill: #174EA6;\n",
              "    }\n",
              "\n",
              "    [theme=dark] .colab-df-convert {\n",
              "      background-color: #3B4455;\n",
              "      fill: #D2E3FC;\n",
              "    }\n",
              "\n",
              "    [theme=dark] .colab-df-convert:hover {\n",
              "      background-color: #434B5C;\n",
              "      box-shadow: 0px 1px 3px 1px rgba(0, 0, 0, 0.15);\n",
              "      filter: drop-shadow(0px 1px 2px rgba(0, 0, 0, 0.3));\n",
              "      fill: #FFFFFF;\n",
              "    }\n",
              "  </style>\n",
              "\n",
              "      <script>\n",
              "        const buttonEl =\n",
              "          document.querySelector('#df-303b5834-2d79-420e-8e95-1a2bf3594cfe button.colab-df-convert');\n",
              "        buttonEl.style.display =\n",
              "          google.colab.kernel.accessAllowed ? 'block' : 'none';\n",
              "\n",
              "        async function convertToInteractive(key) {\n",
              "          const element = document.querySelector('#df-303b5834-2d79-420e-8e95-1a2bf3594cfe');\n",
              "          const dataTable =\n",
              "            await google.colab.kernel.invokeFunction('convertToInteractive',\n",
              "                                                     [key], {});\n",
              "          if (!dataTable) return;\n",
              "\n",
              "          const docLinkHtml = 'Like what you see? Visit the ' +\n",
              "            '<a target=\"_blank\" href=https://colab.research.google.com/notebooks/data_table.ipynb>data table notebook</a>'\n",
              "            + ' to learn more about interactive tables.';\n",
              "          element.innerHTML = '';\n",
              "          dataTable['output_type'] = 'display_data';\n",
              "          await google.colab.output.renderOutput(dataTable, element);\n",
              "          const docLink = document.createElement('div');\n",
              "          docLink.innerHTML = docLinkHtml;\n",
              "          element.appendChild(docLink);\n",
              "        }\n",
              "      </script>\n",
              "    </div>\n",
              "  </div>\n",
              "  "
            ]
          },
          "metadata": {},
          "execution_count": 5
        }
      ]
    },
    {
      "cell_type": "markdown",
      "source": [
        "**Dataset characteristics**"
      ],
      "metadata": {
        "papermill": {
          "duration": 0.030266,
          "end_time": "2021-08-30T15:05:17.979853",
          "exception": false,
          "start_time": "2021-08-30T15:05:17.949587",
          "status": "completed"
        },
        "tags": [],
        "id": "O1Dd16JLtNAQ"
      }
    },
    {
      "cell_type": "code",
      "source": [
        "df.describe()"
      ],
      "metadata": {
        "papermill": {
          "duration": 0.139299,
          "end_time": "2021-08-30T15:05:18.145989",
          "exception": false,
          "start_time": "2021-08-30T15:05:18.00669",
          "status": "completed"
        },
        "tags": [],
        "execution": {
          "iopub.status.busy": "2022-06-18T14:12:51.738832Z",
          "iopub.execute_input": "2022-06-18T14:12:51.739136Z",
          "iopub.status.idle": "2022-06-18T14:12:51.808663Z",
          "shell.execute_reply.started": "2022-06-18T14:12:51.739075Z",
          "shell.execute_reply": "2022-06-18T14:12:51.807528Z"
        },
        "trusted": true,
        "colab": {
          "base_uri": "https://localhost:8080/",
          "height": 254
        },
        "id": "WRdDWAyxtNAQ",
        "outputId": "8228c5a2-bdf0-4981-fb57-2f4c5f44da96"
      },
      "execution_count": 6,
      "outputs": [
        {
          "output_type": "execute_result",
          "data": {
            "text/plain": [
              "       Disease  Symptom_1  Symptom_2 Symptom_3    Symptom_4  Symptom_5  \\\n",
              "count     4920       4920       4920      4920         4572       3714   \n",
              "unique      41         34         48        54           50         38   \n",
              "top       Acne   vomiting   vomiting   fatigue   high fever   headache   \n",
              "freq       120        822        870       726          378        348   \n",
              "\n",
              "       Symptom_6        Symptom_7        Symptom_8           Symptom_9  \\\n",
              "count       2934             2268             1944                1692   \n",
              "unique        32               26               21                  22   \n",
              "top       nausea   abdominal pain   abdominal pain   yellowing of eyes   \n",
              "freq         390              264              276                 228   \n",
              "\n",
              "                Symptom_10     Symptom_11 Symptom_12         Symptom_13  \\\n",
              "count                 1512           1194        744                504   \n",
              "unique                  21             18         11                  8   \n",
              "top      yellowing of eyes   irritability    malaise   stomach bleeding   \n",
              "freq                   198            120        126                 72   \n",
              "\n",
              "         Symptom_14   Symptom_15      Symptom_16    Symptom_17  \n",
              "count           306          240             192            72  \n",
              "unique            4            3               3             1  \n",
              "top      chest pain   chest pain   loss of smell   muscle pain  \n",
              "freq             96          144              72            72  "
            ],
            "text/html": [
              "\n",
              "  <div id=\"df-92f38490-202b-4c9a-9823-fdea02ee58ea\">\n",
              "    <div class=\"colab-df-container\">\n",
              "      <div>\n",
              "<style scoped>\n",
              "    .dataframe tbody tr th:only-of-type {\n",
              "        vertical-align: middle;\n",
              "    }\n",
              "\n",
              "    .dataframe tbody tr th {\n",
              "        vertical-align: top;\n",
              "    }\n",
              "\n",
              "    .dataframe thead th {\n",
              "        text-align: right;\n",
              "    }\n",
              "</style>\n",
              "<table border=\"1\" class=\"dataframe\">\n",
              "  <thead>\n",
              "    <tr style=\"text-align: right;\">\n",
              "      <th></th>\n",
              "      <th>Disease</th>\n",
              "      <th>Symptom_1</th>\n",
              "      <th>Symptom_2</th>\n",
              "      <th>Symptom_3</th>\n",
              "      <th>Symptom_4</th>\n",
              "      <th>Symptom_5</th>\n",
              "      <th>Symptom_6</th>\n",
              "      <th>Symptom_7</th>\n",
              "      <th>Symptom_8</th>\n",
              "      <th>Symptom_9</th>\n",
              "      <th>Symptom_10</th>\n",
              "      <th>Symptom_11</th>\n",
              "      <th>Symptom_12</th>\n",
              "      <th>Symptom_13</th>\n",
              "      <th>Symptom_14</th>\n",
              "      <th>Symptom_15</th>\n",
              "      <th>Symptom_16</th>\n",
              "      <th>Symptom_17</th>\n",
              "    </tr>\n",
              "  </thead>\n",
              "  <tbody>\n",
              "    <tr>\n",
              "      <th>count</th>\n",
              "      <td>4920</td>\n",
              "      <td>4920</td>\n",
              "      <td>4920</td>\n",
              "      <td>4920</td>\n",
              "      <td>4572</td>\n",
              "      <td>3714</td>\n",
              "      <td>2934</td>\n",
              "      <td>2268</td>\n",
              "      <td>1944</td>\n",
              "      <td>1692</td>\n",
              "      <td>1512</td>\n",
              "      <td>1194</td>\n",
              "      <td>744</td>\n",
              "      <td>504</td>\n",
              "      <td>306</td>\n",
              "      <td>240</td>\n",
              "      <td>192</td>\n",
              "      <td>72</td>\n",
              "    </tr>\n",
              "    <tr>\n",
              "      <th>unique</th>\n",
              "      <td>41</td>\n",
              "      <td>34</td>\n",
              "      <td>48</td>\n",
              "      <td>54</td>\n",
              "      <td>50</td>\n",
              "      <td>38</td>\n",
              "      <td>32</td>\n",
              "      <td>26</td>\n",
              "      <td>21</td>\n",
              "      <td>22</td>\n",
              "      <td>21</td>\n",
              "      <td>18</td>\n",
              "      <td>11</td>\n",
              "      <td>8</td>\n",
              "      <td>4</td>\n",
              "      <td>3</td>\n",
              "      <td>3</td>\n",
              "      <td>1</td>\n",
              "    </tr>\n",
              "    <tr>\n",
              "      <th>top</th>\n",
              "      <td>Acne</td>\n",
              "      <td>vomiting</td>\n",
              "      <td>vomiting</td>\n",
              "      <td>fatigue</td>\n",
              "      <td>high fever</td>\n",
              "      <td>headache</td>\n",
              "      <td>nausea</td>\n",
              "      <td>abdominal pain</td>\n",
              "      <td>abdominal pain</td>\n",
              "      <td>yellowing of eyes</td>\n",
              "      <td>yellowing of eyes</td>\n",
              "      <td>irritability</td>\n",
              "      <td>malaise</td>\n",
              "      <td>stomach bleeding</td>\n",
              "      <td>chest pain</td>\n",
              "      <td>chest pain</td>\n",
              "      <td>loss of smell</td>\n",
              "      <td>muscle pain</td>\n",
              "    </tr>\n",
              "    <tr>\n",
              "      <th>freq</th>\n",
              "      <td>120</td>\n",
              "      <td>822</td>\n",
              "      <td>870</td>\n",
              "      <td>726</td>\n",
              "      <td>378</td>\n",
              "      <td>348</td>\n",
              "      <td>390</td>\n",
              "      <td>264</td>\n",
              "      <td>276</td>\n",
              "      <td>228</td>\n",
              "      <td>198</td>\n",
              "      <td>120</td>\n",
              "      <td>126</td>\n",
              "      <td>72</td>\n",
              "      <td>96</td>\n",
              "      <td>144</td>\n",
              "      <td>72</td>\n",
              "      <td>72</td>\n",
              "    </tr>\n",
              "  </tbody>\n",
              "</table>\n",
              "</div>\n",
              "      <button class=\"colab-df-convert\" onclick=\"convertToInteractive('df-92f38490-202b-4c9a-9823-fdea02ee58ea')\"\n",
              "              title=\"Convert this dataframe to an interactive table.\"\n",
              "              style=\"display:none;\">\n",
              "        \n",
              "  <svg xmlns=\"http://www.w3.org/2000/svg\" height=\"24px\"viewBox=\"0 0 24 24\"\n",
              "       width=\"24px\">\n",
              "    <path d=\"M0 0h24v24H0V0z\" fill=\"none\"/>\n",
              "    <path d=\"M18.56 5.44l.94 2.06.94-2.06 2.06-.94-2.06-.94-.94-2.06-.94 2.06-2.06.94zm-11 1L8.5 8.5l.94-2.06 2.06-.94-2.06-.94L8.5 2.5l-.94 2.06-2.06.94zm10 10l.94 2.06.94-2.06 2.06-.94-2.06-.94-.94-2.06-.94 2.06-2.06.94z\"/><path d=\"M17.41 7.96l-1.37-1.37c-.4-.4-.92-.59-1.43-.59-.52 0-1.04.2-1.43.59L10.3 9.45l-7.72 7.72c-.78.78-.78 2.05 0 2.83L4 21.41c.39.39.9.59 1.41.59.51 0 1.02-.2 1.41-.59l7.78-7.78 2.81-2.81c.8-.78.8-2.07 0-2.86zM5.41 20L4 18.59l7.72-7.72 1.47 1.35L5.41 20z\"/>\n",
              "  </svg>\n",
              "      </button>\n",
              "      \n",
              "  <style>\n",
              "    .colab-df-container {\n",
              "      display:flex;\n",
              "      flex-wrap:wrap;\n",
              "      gap: 12px;\n",
              "    }\n",
              "\n",
              "    .colab-df-convert {\n",
              "      background-color: #E8F0FE;\n",
              "      border: none;\n",
              "      border-radius: 50%;\n",
              "      cursor: pointer;\n",
              "      display: none;\n",
              "      fill: #1967D2;\n",
              "      height: 32px;\n",
              "      padding: 0 0 0 0;\n",
              "      width: 32px;\n",
              "    }\n",
              "\n",
              "    .colab-df-convert:hover {\n",
              "      background-color: #E2EBFA;\n",
              "      box-shadow: 0px 1px 2px rgba(60, 64, 67, 0.3), 0px 1px 3px 1px rgba(60, 64, 67, 0.15);\n",
              "      fill: #174EA6;\n",
              "    }\n",
              "\n",
              "    [theme=dark] .colab-df-convert {\n",
              "      background-color: #3B4455;\n",
              "      fill: #D2E3FC;\n",
              "    }\n",
              "\n",
              "    [theme=dark] .colab-df-convert:hover {\n",
              "      background-color: #434B5C;\n",
              "      box-shadow: 0px 1px 3px 1px rgba(0, 0, 0, 0.15);\n",
              "      filter: drop-shadow(0px 1px 2px rgba(0, 0, 0, 0.3));\n",
              "      fill: #FFFFFF;\n",
              "    }\n",
              "  </style>\n",
              "\n",
              "      <script>\n",
              "        const buttonEl =\n",
              "          document.querySelector('#df-92f38490-202b-4c9a-9823-fdea02ee58ea button.colab-df-convert');\n",
              "        buttonEl.style.display =\n",
              "          google.colab.kernel.accessAllowed ? 'block' : 'none';\n",
              "\n",
              "        async function convertToInteractive(key) {\n",
              "          const element = document.querySelector('#df-92f38490-202b-4c9a-9823-fdea02ee58ea');\n",
              "          const dataTable =\n",
              "            await google.colab.kernel.invokeFunction('convertToInteractive',\n",
              "                                                     [key], {});\n",
              "          if (!dataTable) return;\n",
              "\n",
              "          const docLinkHtml = 'Like what you see? Visit the ' +\n",
              "            '<a target=\"_blank\" href=https://colab.research.google.com/notebooks/data_table.ipynb>data table notebook</a>'\n",
              "            + ' to learn more about interactive tables.';\n",
              "          element.innerHTML = '';\n",
              "          dataTable['output_type'] = 'display_data';\n",
              "          await google.colab.output.renderOutput(dataTable, element);\n",
              "          const docLink = document.createElement('div');\n",
              "          docLink.innerHTML = docLinkHtml;\n",
              "          element.appendChild(docLink);\n",
              "        }\n",
              "      </script>\n",
              "    </div>\n",
              "  </div>\n",
              "  "
            ]
          },
          "metadata": {},
          "execution_count": 6
        }
      ]
    },
    {
      "cell_type": "markdown",
      "source": [
        "**Check for null and NaN values**"
      ],
      "metadata": {
        "papermill": {
          "duration": 0.025542,
          "end_time": "2021-08-30T15:05:18.197707",
          "exception": false,
          "start_time": "2021-08-30T15:05:18.172165",
          "status": "completed"
        },
        "tags": [],
        "id": "x0lkeOS-tNAQ"
      }
    },
    {
      "cell_type": "code",
      "source": [
        "null_checker = df.apply(lambda x: sum(x.isnull())).to_frame(name='count')\n",
        "print(null_checker)"
      ],
      "metadata": {
        "execution": {
          "iopub.status.busy": "2022-06-18T14:12:51.810099Z",
          "iopub.execute_input": "2022-06-18T14:12:51.810331Z",
          "iopub.status.idle": "2022-06-18T14:12:51.847056Z",
          "shell.execute_reply.started": "2022-06-18T14:12:51.8103Z",
          "shell.execute_reply": "2022-06-18T14:12:51.846013Z"
        },
        "trusted": true,
        "colab": {
          "base_uri": "https://localhost:8080/"
        },
        "id": "MVgPDMcWtNAQ",
        "outputId": "61e89611-7213-4aa6-ecde-5a7d0c995fca"
      },
      "execution_count": 7,
      "outputs": [
        {
          "output_type": "stream",
          "name": "stdout",
          "text": [
            "            count\n",
            "Disease         0\n",
            "Symptom_1       0\n",
            "Symptom_2       0\n",
            "Symptom_3       0\n",
            "Symptom_4     348\n",
            "Symptom_5    1206\n",
            "Symptom_6    1986\n",
            "Symptom_7    2652\n",
            "Symptom_8    2976\n",
            "Symptom_9    3228\n",
            "Symptom_10   3408\n",
            "Symptom_11   3726\n",
            "Symptom_12   4176\n",
            "Symptom_13   4416\n",
            "Symptom_14   4614\n",
            "Symptom_15   4680\n",
            "Symptom_16   4728\n",
            "Symptom_17   4848\n"
          ]
        }
      ]
    },
    {
      "cell_type": "code",
      "source": [
        "plt.figure(figsize=(10,5))\n",
        "plt.plot(null_checker.index, null_checker['count'])\n",
        "plt.xticks(null_checker.index, null_checker.index, rotation=45,\n",
        "horizontalalignment='right')\n",
        "plt.title('Before removing Null values')\n",
        "plt.xlabel('column names')\n",
        "plt.margins(0.1)\n",
        "plt.show()"
      ],
      "metadata": {
        "papermill": {
          "duration": 0.044062,
          "end_time": "2021-08-30T15:05:18.267712",
          "exception": false,
          "start_time": "2021-08-30T15:05:18.22365",
          "status": "completed"
        },
        "tags": [],
        "execution": {
          "iopub.status.busy": "2022-06-18T14:12:51.848257Z",
          "iopub.execute_input": "2022-06-18T14:12:51.848564Z",
          "iopub.status.idle": "2022-06-18T14:12:52.091916Z",
          "shell.execute_reply.started": "2022-06-18T14:12:51.848528Z",
          "shell.execute_reply": "2022-06-18T14:12:52.091124Z"
        },
        "trusted": true,
        "colab": {
          "base_uri": "https://localhost:8080/",
          "height": 394
        },
        "id": "vtiGyYSPtNAR",
        "outputId": "6c16f79f-d8d2-41b7-bb30-904ae5510478"
      },
      "execution_count": 8,
      "outputs": [
        {
          "output_type": "display_data",
          "data": {
            "text/plain": [
              "<Figure size 720x360 with 1 Axes>"
            ],
            "image/png": "[encoded data removed]"
          },
          "metadata": {
            "needs_background": "light"
          }
        }
      ]
    },
    {
      "cell_type": "markdown",
      "source": [
        "**Remove the  space from the symptom columns**"
      ],
      "metadata": {
        "papermill": {
          "duration": 0.026579,
          "end_time": "2021-08-30T15:05:18.393419",
          "exception": false,
          "start_time": "2021-08-30T15:05:18.36684",
          "status": "completed"
        },
        "tags": [],
        "id": "Gl8id-4EtNAR"
      }
    },
    {
      "cell_type": "code",
      "source": [
        "cols = df.columns\n",
        "data = df[cols].values.flatten()\n",
        "\n",
        "s = pd.Series(data)\n",
        "s = s.str.strip()\n",
        "s = s.values.reshape(df.shape)\n",
        "\n",
        "df = pd.DataFrame(s, columns=df.columns)\n",
        "df.head()"
      ],
      "metadata": {
        "papermill": {
          "duration": 0.097172,
          "end_time": "2021-08-30T15:05:18.517252",
          "exception": false,
          "start_time": "2021-08-30T15:05:18.42008",
          "status": "completed"
        },
        "tags": [],
        "execution": {
          "iopub.status.busy": "2022-06-18T14:12:52.095029Z",
          "iopub.execute_input": "2022-06-18T14:12:52.095259Z",
          "iopub.status.idle": "2022-06-18T14:12:52.162541Z",
          "shell.execute_reply.started": "2022-06-18T14:12:52.095228Z",
          "shell.execute_reply": "2022-06-18T14:12:52.161832Z"
        },
        "trusted": true,
        "colab": {
          "base_uri": "https://localhost:8080/",
          "height": 336
        },
        "id": "L5RIpLZ5tNAS",
        "outputId": "bab4edc5-8101-4877-c374-b7dba4651b24"
      },
      "execution_count": 9,
      "outputs": [
        {
          "output_type": "execute_result",
          "data": {
            "text/plain": [
              "               Disease       Symptom_1           Symptom_2       Symptom_3  \\\n",
              "0                 Acne       skin rash          blackheads        scurring   \n",
              "1                 Acne       skin rash  pus filled pimples      blackheads   \n",
              "2      Hyperthyroidism         fatigue         mood swings     weight loss   \n",
              "3                 AIDS  muscle wasting   patches in throat      high fever   \n",
              "4  Chronic cholestasis         itching            vomiting  yellowish skin   \n",
              "\n",
              "                Symptom_4         Symptom_5       Symptom_6  \\\n",
              "0                     NaN               NaN             NaN   \n",
              "1                scurring               NaN             NaN   \n",
              "2            restlessness          sweating       diarrhoea   \n",
              "3  extra marital contacts               NaN             NaN   \n",
              "4                  nausea  loss of appetite  abdominal pain   \n",
              "\n",
              "           Symptom_7         Symptom_8        Symptom_9    Symptom_10  \\\n",
              "0                NaN               NaN              NaN           NaN   \n",
              "1                NaN               NaN              NaN           NaN   \n",
              "2    fast heart rate  excessive hunger  muscle weakness  irritability   \n",
              "3                NaN               NaN              NaN           NaN   \n",
              "4  yellowing of eyes               NaN              NaN           NaN   \n",
              "\n",
              "              Symptom_11 Symptom_12 Symptom_13 Symptom_14 Symptom_15  \\\n",
              "0                    NaN        NaN        NaN        NaN        NaN   \n",
              "1                    NaN        NaN        NaN        NaN        NaN   \n",
              "2  abnormal menstruation        NaN        NaN        NaN        NaN   \n",
              "3                    NaN        NaN        NaN        NaN        NaN   \n",
              "4                    NaN        NaN        NaN        NaN        NaN   \n",
              "\n",
              "  Symptom_16 Symptom_17  \n",
              "0        NaN        NaN  \n",
              "1        NaN        NaN  \n",
              "2        NaN        NaN  \n",
              "3        NaN        NaN  \n",
              "4        NaN        NaN  "
            ],
            "text/html": [
              "\n",
              "  <div id=\"df-c69c16b4-048f-4b77-8c4f-89ac1a45393a\">\n",
              "    <div class=\"colab-df-container\">\n",
              "      <div>\n",
              "<style scoped>\n",
              "    .dataframe tbody tr th:only-of-type {\n",
              "        vertical-align: middle;\n",
              "    }\n",
              "\n",
              "    .dataframe tbody tr th {\n",
              "        vertical-align: top;\n",
              "    }\n",
              "\n",
              "    .dataframe thead th {\n",
              "        text-align: right;\n",
              "    }\n",
              "</style>\n",
              "<table border=\"1\" class=\"dataframe\">\n",
              "  <thead>\n",
              "    <tr style=\"text-align: right;\">\n",
              "      <th></th>\n",
              "      <th>Disease</th>\n",
              "      <th>Symptom_1</th>\n",
              "      <th>Symptom_2</th>\n",
              "      <th>Symptom_3</th>\n",
              "      <th>Symptom_4</th>\n",
              "      <th>Symptom_5</th>\n",
              "      <th>Symptom_6</th>\n",
              "      <th>Symptom_7</th>\n",
              "      <th>Symptom_8</th>\n",
              "      <th>Symptom_9</th>\n",
              "      <th>Symptom_10</th>\n",
              "      <th>Symptom_11</th>\n",
              "      <th>Symptom_12</th>\n",
              "      <th>Symptom_13</th>\n",
              "      <th>Symptom_14</th>\n",
              "      <th>Symptom_15</th>\n",
              "      <th>Symptom_16</th>\n",
              "      <th>Symptom_17</th>\n",
              "    </tr>\n",
              "  </thead>\n",
              "  <tbody>\n",
              "    <tr>\n",
              "      <th>0</th>\n",
              "      <td>Acne</td>\n",
              "      <td>skin rash</td>\n",
              "      <td>blackheads</td>\n",
              "      <td>scurring</td>\n",
              "      <td>NaN</td>\n",
              "      <td>NaN</td>\n",
              "      <td>NaN</td>\n",
              "      <td>NaN</td>\n",
              "      <td>NaN</td>\n",
              "      <td>NaN</td>\n",
              "      <td>NaN</td>\n",
              "      <td>NaN</td>\n",
              "      <td>NaN</td>\n",
              "      <td>NaN</td>\n",
              "      <td>NaN</td>\n",
              "      <td>NaN</td>\n",
              "      <td>NaN</td>\n",
              "      <td>NaN</td>\n",
              "    </tr>\n",
              "    <tr>\n",
              "      <th>1</th>\n",
              "      <td>Acne</td>\n",
              "      <td>skin rash</td>\n",
              "      <td>pus filled pimples</td>\n",
              "      <td>blackheads</td>\n",
              "      <td>scurring</td>\n",
              "      <td>NaN</td>\n",
              "      <td>NaN</td>\n",
              "      <td>NaN</td>\n",
              "      <td>NaN</td>\n",
              "      <td>NaN</td>\n",
              "      <td>NaN</td>\n",
              "      <td>NaN</td>\n",
              "      <td>NaN</td>\n",
              "      <td>NaN</td>\n",
              "      <td>NaN</td>\n",
              "      <td>NaN</td>\n",
              "      <td>NaN</td>\n",
              "      <td>NaN</td>\n",
              "    </tr>\n",
              "    <tr>\n",
              "      <th>2</th>\n",
              "      <td>Hyperthyroidism</td>\n",
              "      <td>fatigue</td>\n",
              "      <td>mood swings</td>\n",
              "      <td>weight loss</td>\n",
              "      <td>restlessness</td>\n",
              "      <td>sweating</td>\n",
              "      <td>diarrhoea</td>\n",
              "      <td>fast heart rate</td>\n",
              "      <td>excessive hunger</td>\n",
              "      <td>muscle weakness</td>\n",
              "      <td>irritability</td>\n",
              "      <td>abnormal menstruation</td>\n",
              "      <td>NaN</td>\n",
              "      <td>NaN</td>\n",
              "      <td>NaN</td>\n",
              "      <td>NaN</td>\n",
              "      <td>NaN</td>\n",
              "      <td>NaN</td>\n",
              "    </tr>\n",
              "    <tr>\n",
              "      <th>3</th>\n",
              "      <td>AIDS</td>\n",
              "      <td>muscle wasting</td>\n",
              "      <td>patches in throat</td>\n",
              "      <td>high fever</td>\n",
              "      <td>extra marital contacts</td>\n",
              "      <td>NaN</td>\n",
              "      <td>NaN</td>\n",
              "      <td>NaN</td>\n",
              "      <td>NaN</td>\n",
              "      <td>NaN</td>\n",
              "      <td>NaN</td>\n",
              "      <td>NaN</td>\n",
              "      <td>NaN</td>\n",
              "      <td>NaN</td>\n",
              "      <td>NaN</td>\n",
              "      <td>NaN</td>\n",
              "      <td>NaN</td>\n",
              "      <td>NaN</td>\n",
              "    </tr>\n",
              "    <tr>\n",
              "      <th>4</th>\n",
              "      <td>Chronic cholestasis</td>\n",
              "      <td>itching</td>\n",
              "      <td>vomiting</td>\n",
              "      <td>yellowish skin</td>\n",
              "      <td>nausea</td>\n",
              "      <td>loss of appetite</td>\n",
              "      <td>abdominal pain</td>\n",
              "      <td>yellowing of eyes</td>\n",
              "      <td>NaN</td>\n",
              "      <td>NaN</td>\n",
              "      <td>NaN</td>\n",
              "      <td>NaN</td>\n",
              "      <td>NaN</td>\n",
              "      <td>NaN</td>\n",
              "      <td>NaN</td>\n",
              "      <td>NaN</td>\n",
              "      <td>NaN</td>\n",
              "      <td>NaN</td>\n",
              "    </tr>\n",
              "  </tbody>\n",
              "</table>\n",
              "</div>\n",
              "      <button class=\"colab-df-convert\" onclick=\"convertToInteractive('df-c69c16b4-048f-4b77-8c4f-89ac1a45393a')\"\n",
              "              title=\"Convert this dataframe to an interactive table.\"\n",
              "              style=\"display:none;\">\n",
              "        \n",
              "  <svg xmlns=\"http://www.w3.org/2000/svg\" height=\"24px\"viewBox=\"0 0 24 24\"\n",
              "       width=\"24px\">\n",
              "    <path d=\"M0 0h24v24H0V0z\" fill=\"none\"/>\n",
              "    <path d=\"M18.56 5.44l.94 2.06.94-2.06 2.06-.94-2.06-.94-.94-2.06-.94 2.06-2.06.94zm-11 1L8.5 8.5l.94-2.06 2.06-.94-2.06-.94L8.5 2.5l-.94 2.06-2.06.94zm10 10l.94 2.06.94-2.06 2.06-.94-2.06-.94-.94-2.06-.94 2.06-2.06.94z\"/><path d=\"M17.41 7.96l-1.37-1.37c-.4-.4-.92-.59-1.43-.59-.52 0-1.04.2-1.43.59L10.3 9.45l-7.72 7.72c-.78.78-.78 2.05 0 2.83L4 21.41c.39.39.9.59 1.41.59.51 0 1.02-.2 1.41-.59l7.78-7.78 2.81-2.81c.8-.78.8-2.07 0-2.86zM5.41 20L4 18.59l7.72-7.72 1.47 1.35L5.41 20z\"/>\n",
              "  </svg>\n",
              "      </button>\n",
              "      \n",
              "  <style>\n",
              "    .colab-df-container {\n",
              "      display:flex;\n",
              "      flex-wrap:wrap;\n",
              "      gap: 12px;\n",
              "    }\n",
              "\n",
              "    .colab-df-convert {\n",
              "      background-color: #E8F0FE;\n",
              "      border: none;\n",
              "      border-radius: 50%;\n",
              "      cursor: pointer;\n",
              "      display: none;\n",
              "      fill: #1967D2;\n",
              "      height: 32px;\n",
              "      padding: 0 0 0 0;\n",
              "      width: 32px;\n",
              "    }\n",
              "\n",
              "    .colab-df-convert:hover {\n",
              "      background-color: #E2EBFA;\n",
              "      box-shadow: 0px 1px 2px rgba(60, 64, 67, 0.3), 0px 1px 3px 1px rgba(60, 64, 67, 0.15);\n",
              "      fill: #174EA6;\n",
              "    }\n",
              "\n",
              "    [theme=dark] .colab-df-convert {\n",
              "      background-color: #3B4455;\n",
              "      fill: #D2E3FC;\n",
              "    }\n",
              "\n",
              "    [theme=dark] .colab-df-convert:hover {\n",
              "      background-color: #434B5C;\n",
              "      box-shadow: 0px 1px 3px 1px rgba(0, 0, 0, 0.15);\n",
              "      filter: drop-shadow(0px 1px 2px rgba(0, 0, 0, 0.3));\n",
              "      fill: #FFFFFF;\n",
              "    }\n",
              "  </style>\n",
              "\n",
              "      <script>\n",
              "        const buttonEl =\n",
              "          document.querySelector('#df-c69c16b4-048f-4b77-8c4f-89ac1a45393a button.colab-df-convert');\n",
              "        buttonEl.style.display =\n",
              "          google.colab.kernel.accessAllowed ? 'block' : 'none';\n",
              "\n",
              "        async function convertToInteractive(key) {\n",
              "          const element = document.querySelector('#df-c69c16b4-048f-4b77-8c4f-89ac1a45393a');\n",
              "          const dataTable =\n",
              "            await google.colab.kernel.invokeFunction('convertToInteractive',\n",
              "                                                     [key], {});\n",
              "          if (!dataTable) return;\n",
              "\n",
              "          const docLinkHtml = 'Like what you see? Visit the ' +\n",
              "            '<a target=\"_blank\" href=https://colab.research.google.com/notebooks/data_table.ipynb>data table notebook</a>'\n",
              "            + ' to learn more about interactive tables.';\n",
              "          element.innerHTML = '';\n",
              "          dataTable['output_type'] = 'display_data';\n",
              "          await google.colab.output.renderOutput(dataTable, element);\n",
              "          const docLink = document.createElement('div');\n",
              "          docLink.innerHTML = docLinkHtml;\n",
              "          element.appendChild(docLink);\n",
              "        }\n",
              "      </script>\n",
              "    </div>\n",
              "  </div>\n",
              "  "
            ]
          },
          "metadata": {},
          "execution_count": 9
        }
      ]
    },
    {
      "cell_type": "markdown",
      "source": [
        "**Fill the NaN values with zero**"
      ],
      "metadata": {
        "papermill": {
          "duration": 0.027747,
          "end_time": "2021-08-30T15:05:18.57314",
          "exception": false,
          "start_time": "2021-08-30T15:05:18.545393",
          "status": "completed"
        },
        "tags": [],
        "id": "-05YPQy8tNAS"
      }
    },
    {
      "cell_type": "code",
      "source": [
        "df = df.fillna(0)\n",
        "df.head()"
      ],
      "metadata": {
        "papermill": {
          "duration": 0.066576,
          "end_time": "2021-08-30T15:05:18.667519",
          "exception": false,
          "start_time": "2021-08-30T15:05:18.600943",
          "status": "completed"
        },
        "tags": [],
        "execution": {
          "iopub.status.busy": "2022-06-18T14:12:52.163775Z",
          "iopub.execute_input": "2022-06-18T14:12:52.163992Z",
          "iopub.status.idle": "2022-06-18T14:12:52.199995Z",
          "shell.execute_reply.started": "2022-06-18T14:12:52.163963Z",
          "shell.execute_reply": "2022-06-18T14:12:52.199209Z"
        },
        "trusted": true,
        "colab": {
          "base_uri": "https://localhost:8080/",
          "height": 336
        },
        "id": "tDTQ29MItNAT",
        "outputId": "fc8f8f91-2029-4862-c1e6-3b81f94866e6"
      },
      "execution_count": 10,
      "outputs": [
        {
          "output_type": "execute_result",
          "data": {
            "text/plain": [
              "               Disease       Symptom_1           Symptom_2       Symptom_3  \\\n",
              "0                 Acne       skin rash          blackheads        scurring   \n",
              "1                 Acne       skin rash  pus filled pimples      blackheads   \n",
              "2      Hyperthyroidism         fatigue         mood swings     weight loss   \n",
              "3                 AIDS  muscle wasting   patches in throat      high fever   \n",
              "4  Chronic cholestasis         itching            vomiting  yellowish skin   \n",
              "\n",
              "                Symptom_4         Symptom_5       Symptom_6  \\\n",
              "0                       0                 0               0   \n",
              "1                scurring                 0               0   \n",
              "2            restlessness          sweating       diarrhoea   \n",
              "3  extra marital contacts                 0               0   \n",
              "4                  nausea  loss of appetite  abdominal pain   \n",
              "\n",
              "           Symptom_7         Symptom_8        Symptom_9    Symptom_10  \\\n",
              "0                  0                 0                0             0   \n",
              "1                  0                 0                0             0   \n",
              "2    fast heart rate  excessive hunger  muscle weakness  irritability   \n",
              "3                  0                 0                0             0   \n",
              "4  yellowing of eyes                 0                0             0   \n",
              "\n",
              "              Symptom_11 Symptom_12 Symptom_13 Symptom_14 Symptom_15  \\\n",
              "0                      0          0          0          0          0   \n",
              "1                      0          0          0          0          0   \n",
              "2  abnormal menstruation          0          0          0          0   \n",
              "3                      0          0          0          0          0   \n",
              "4                      0          0          0          0          0   \n",
              "\n",
              "  Symptom_16 Symptom_17  \n",
              "0          0          0  \n",
              "1          0          0  \n",
              "2          0          0  \n",
              "3          0          0  \n",
              "4          0          0  "
            ],
            "text/html": [
              "\n",
              "  <div id=\"df-4ccbee05-37c6-4de2-9655-4ed02dd60fb5\">\n",
              "    <div class=\"colab-df-container\">\n",
              "      <div>\n",
              "<style scoped>\n",
              "    .dataframe tbody tr th:only-of-type {\n",
              "        vertical-align: middle;\n",
              "    }\n",
              "\n",
              "    .dataframe tbody tr th {\n",
              "        vertical-align: top;\n",
              "    }\n",
              "\n",
              "    .dataframe thead th {\n",
              "        text-align: right;\n",
              "    }\n",
              "</style>\n",
              "<table border=\"1\" class=\"dataframe\">\n",
              "  <thead>\n",
              "    <tr style=\"text-align: right;\">\n",
              "      <th></th>\n",
              "      <th>Disease</th>\n",
              "      <th>Symptom_1</th>\n",
              "      <th>Symptom_2</th>\n",
              "      <th>Symptom_3</th>\n",
              "      <th>Symptom_4</th>\n",
              "      <th>Symptom_5</th>\n",
              "      <th>Symptom_6</th>\n",
              "      <th>Symptom_7</th>\n",
              "      <th>Symptom_8</th>\n",
              "      <th>Symptom_9</th>\n",
              "      <th>Symptom_10</th>\n",
              "      <th>Symptom_11</th>\n",
              "      <th>Symptom_12</th>\n",
              "      <th>Symptom_13</th>\n",
              "      <th>Symptom_14</th>\n",
              "      <th>Symptom_15</th>\n",
              "      <th>Symptom_16</th>\n",
              "      <th>Symptom_17</th>\n",
              "    </tr>\n",
              "  </thead>\n",
              "  <tbody>\n",
              "    <tr>\n",
              "      <th>0</th>\n",
              "      <td>Acne</td>\n",
              "      <td>skin rash</td>\n",
              "      <td>blackheads</td>\n",
              "      <td>scurring</td>\n",
              "      <td>0</td>\n",
              "      <td>0</td>\n",
              "      <td>0</td>\n",
              "      <td>0</td>\n",
              "      <td>0</td>\n",
              "      <td>0</td>\n",
              "      <td>0</td>\n",
              "      <td>0</td>\n",
              "      <td>0</td>\n",
              "      <td>0</td>\n",
              "      <td>0</td>\n",
              "      <td>0</td>\n",
              "      <td>0</td>\n",
              "      <td>0</td>\n",
              "    </tr>\n",
              "    <tr>\n",
              "      <th>1</th>\n",
              "      <td>Acne</td>\n",
              "      <td>skin rash</td>\n",
              "      <td>pus filled pimples</td>\n",
              "      <td>blackheads</td>\n",
              "      <td>scurring</td>\n",
              "      <td>0</td>\n",
              "      <td>0</td>\n",
              "      <td>0</td>\n",
              "      <td>0</td>\n",
              "      <td>0</td>\n",
              "      <td>0</td>\n",
              "      <td>0</td>\n",
              "      <td>0</td>\n",
              "      <td>0</td>\n",
              "      <td>0</td>\n",
              "      <td>0</td>\n",
              "      <td>0</td>\n",
              "      <td>0</td>\n",
              "    </tr>\n",
              "    <tr>\n",
              "      <th>2</th>\n",
              "      <td>Hyperthyroidism</td>\n",
              "      <td>fatigue</td>\n",
              "      <td>mood swings</td>\n",
              "      <td>weight loss</td>\n",
              "      <td>restlessness</td>\n",
              "      <td>sweating</td>\n",
              "      <td>diarrhoea</td>\n",
              "      <td>fast heart rate</td>\n",
              "      <td>excessive hunger</td>\n",
              "      <td>muscle weakness</td>\n",
              "      <td>irritability</td>\n",
              "      <td>abnormal menstruation</td>\n",
              "      <td>0</td>\n",
              "      <td>0</td>\n",
              "      <td>0</td>\n",
              "      <td>0</td>\n",
              "      <td>0</td>\n",
              "      <td>0</td>\n",
              "    </tr>\n",
              "    <tr>\n",
              "      <th>3</th>\n",
              "      <td>AIDS</td>\n",
              "      <td>muscle wasting</td>\n",
              "      <td>patches in throat</td>\n",
              "      <td>high fever</td>\n",
              "      <td>extra marital contacts</td>\n",
              "      <td>0</td>\n",
              "      <td>0</td>\n",
              "      <td>0</td>\n",
              "      <td>0</td>\n",
              "      <td>0</td>\n",
              "      <td>0</td>\n",
              "      <td>0</td>\n",
              "      <td>0</td>\n",
              "      <td>0</td>\n",
              "      <td>0</td>\n",
              "      <td>0</td>\n",
              "      <td>0</td>\n",
              "      <td>0</td>\n",
              "    </tr>\n",
              "    <tr>\n",
              "      <th>4</th>\n",
              "      <td>Chronic cholestasis</td>\n",
              "      <td>itching</td>\n",
              "      <td>vomiting</td>\n",
              "      <td>yellowish skin</td>\n",
              "      <td>nausea</td>\n",
              "      <td>loss of appetite</td>\n",
              "      <td>abdominal pain</td>\n",
              "      <td>yellowing of eyes</td>\n",
              "      <td>0</td>\n",
              "      <td>0</td>\n",
              "      <td>0</td>\n",
              "      <td>0</td>\n",
              "      <td>0</td>\n",
              "      <td>0</td>\n",
              "      <td>0</td>\n",
              "      <td>0</td>\n",
              "      <td>0</td>\n",
              "      <td>0</td>\n",
              "    </tr>\n",
              "  </tbody>\n",
              "</table>\n",
              "</div>\n",
              "      <button class=\"colab-df-convert\" onclick=\"convertToInteractive('df-4ccbee05-37c6-4de2-9655-4ed02dd60fb5')\"\n",
              "              title=\"Convert this dataframe to an interactive table.\"\n",
              "              style=\"display:none;\">\n",
              "        \n",
              "  <svg xmlns=\"http://www.w3.org/2000/svg\" height=\"24px\"viewBox=\"0 0 24 24\"\n",
              "       width=\"24px\">\n",
              "    <path d=\"M0 0h24v24H0V0z\" fill=\"none\"/>\n",
              "    <path d=\"M18.56 5.44l.94 2.06.94-2.06 2.06-.94-2.06-.94-.94-2.06-.94 2.06-2.06.94zm-11 1L8.5 8.5l.94-2.06 2.06-.94-2.06-.94L8.5 2.5l-.94 2.06-2.06.94zm10 10l.94 2.06.94-2.06 2.06-.94-2.06-.94-.94-2.06-.94 2.06-2.06.94z\"/><path d=\"M17.41 7.96l-1.37-1.37c-.4-.4-.92-.59-1.43-.59-.52 0-1.04.2-1.43.59L10.3 9.45l-7.72 7.72c-.78.78-.78 2.05 0 2.83L4 21.41c.39.39.9.59 1.41.59.51 0 1.02-.2 1.41-.59l7.78-7.78 2.81-2.81c.8-.78.8-2.07 0-2.86zM5.41 20L4 18.59l7.72-7.72 1.47 1.35L5.41 20z\"/>\n",
              "  </svg>\n",
              "      </button>\n",
              "      \n",
              "  <style>\n",
              "    .colab-df-container {\n",
              "      display:flex;\n",
              "      flex-wrap:wrap;\n",
              "      gap: 12px;\n",
              "    }\n",
              "\n",
              "    .colab-df-convert {\n",
              "      background-color: #E8F0FE;\n",
              "      border: none;\n",
              "      border-radius: 50%;\n",
              "      cursor: pointer;\n",
              "      display: none;\n",
              "      fill: #1967D2;\n",
              "      height: 32px;\n",
              "      padding: 0 0 0 0;\n",
              "      width: 32px;\n",
              "    }\n",
              "\n",
              "    .colab-df-convert:hover {\n",
              "      background-color: #E2EBFA;\n",
              "      box-shadow: 0px 1px 2px rgba(60, 64, 67, 0.3), 0px 1px 3px 1px rgba(60, 64, 67, 0.15);\n",
              "      fill: #174EA6;\n",
              "    }\n",
              "\n",
              "    [theme=dark] .colab-df-convert {\n",
              "      background-color: #3B4455;\n",
              "      fill: #D2E3FC;\n",
              "    }\n",
              "\n",
              "    [theme=dark] .colab-df-convert:hover {\n",
              "      background-color: #434B5C;\n",
              "      box-shadow: 0px 1px 3px 1px rgba(0, 0, 0, 0.15);\n",
              "      filter: drop-shadow(0px 1px 2px rgba(0, 0, 0, 0.3));\n",
              "      fill: #FFFFFF;\n",
              "    }\n",
              "  </style>\n",
              "\n",
              "      <script>\n",
              "        const buttonEl =\n",
              "          document.querySelector('#df-4ccbee05-37c6-4de2-9655-4ed02dd60fb5 button.colab-df-convert');\n",
              "        buttonEl.style.display =\n",
              "          google.colab.kernel.accessAllowed ? 'block' : 'none';\n",
              "\n",
              "        async function convertToInteractive(key) {\n",
              "          const element = document.querySelector('#df-4ccbee05-37c6-4de2-9655-4ed02dd60fb5');\n",
              "          const dataTable =\n",
              "            await google.colab.kernel.invokeFunction('convertToInteractive',\n",
              "                                                     [key], {});\n",
              "          if (!dataTable) return;\n",
              "\n",
              "          const docLinkHtml = 'Like what you see? Visit the ' +\n",
              "            '<a target=\"_blank\" href=https://colab.research.google.com/notebooks/data_table.ipynb>data table notebook</a>'\n",
              "            + ' to learn more about interactive tables.';\n",
              "          element.innerHTML = '';\n",
              "          dataTable['output_type'] = 'display_data';\n",
              "          await google.colab.output.renderOutput(dataTable, element);\n",
              "          const docLink = document.createElement('div');\n",
              "          docLink.innerHTML = docLinkHtml;\n",
              "          element.appendChild(docLink);\n",
              "        }\n",
              "      </script>\n",
              "    </div>\n",
              "  </div>\n",
              "  "
            ]
          },
          "metadata": {},
          "execution_count": 10
        }
      ]
    },
    {
      "cell_type": "markdown",
      "source": [
        "**Symptom severity rank**"
      ],
      "metadata": {
        "papermill": {
          "duration": 0.027881,
          "end_time": "2021-08-30T15:05:18.7235",
          "exception": false,
          "start_time": "2021-08-30T15:05:18.695619",
          "status": "completed"
        },
        "tags": [],
        "id": "RkCwMYgFtNAT"
      }
    },
    {
      "cell_type": "code",
      "source": [
        "path1 = \"/content/drive/MyDrive/syptomsds/Symptom-severity.csv\"\n",
        "df1 = pd.read_csv(path1)\n",
        "df1['Symptom'] = df1['Symptom'].str.replace('_',' ')\n",
        "df1.head()\n"
      ],
      "metadata": {
        "papermill": {
          "duration": 0.04616,
          "end_time": "2021-08-30T15:05:18.797645",
          "exception": false,
          "start_time": "2021-08-30T15:05:18.751485",
          "status": "completed"
        },
        "tags": [],
        "execution": {
          "iopub.status.busy": "2022-06-18T14:12:52.201085Z",
          "iopub.execute_input": "2022-06-18T14:12:52.201319Z",
          "iopub.status.idle": "2022-06-18T14:12:52.220845Z",
          "shell.execute_reply.started": "2022-06-18T14:12:52.20129Z",
          "shell.execute_reply": "2022-06-18T14:12:52.22016Z"
        },
        "trusted": true,
        "colab": {
          "base_uri": "https://localhost:8080/",
          "height": 204
        },
        "id": "vyzswPAxtNAT",
        "outputId": "b6bdf5f7-776a-468a-cc94-bd1cc026e46f"
      },
      "execution_count": 11,
      "outputs": [
        {
          "output_type": "execute_result",
          "data": {
            "text/plain": [
              "                Symptom  weight\n",
              "0               itching       1\n",
              "1             skin rash       3\n",
              "2  nodal skin eruptions       4\n",
              "3   continuous sneezing       4\n",
              "4             shivering       5"
            ],
            "text/html": [
              "\n",
              "  <div id=\"df-3b23c1c6-b9dd-4cb9-bb8e-773f3467601b\">\n",
              "    <div class=\"colab-df-container\">\n",
              "      <div>\n",
              "<style scoped>\n",
              "    .dataframe tbody tr th:only-of-type {\n",
              "        vertical-align: middle;\n",
              "    }\n",
              "\n",
              "    .dataframe tbody tr th {\n",
              "        vertical-align: top;\n",
              "    }\n",
              "\n",
              "    .dataframe thead th {\n",
              "        text-align: right;\n",
              "    }\n",
              "</style>\n",
              "<table border=\"1\" class=\"dataframe\">\n",
              "  <thead>\n",
              "    <tr style=\"text-align: right;\">\n",
              "      <th></th>\n",
              "      <th>Symptom</th>\n",
              "      <th>weight</th>\n",
              "    </tr>\n",
              "  </thead>\n",
              "  <tbody>\n",
              "    <tr>\n",
              "      <th>0</th>\n",
              "      <td>itching</td>\n",
              "      <td>1</td>\n",
              "    </tr>\n",
              "    <tr>\n",
              "      <th>1</th>\n",
              "      <td>skin rash</td>\n",
              "      <td>3</td>\n",
              "    </tr>\n",
              "    <tr>\n",
              "      <th>2</th>\n",
              "      <td>nodal skin eruptions</td>\n",
              "      <td>4</td>\n",
              "    </tr>\n",
              "    <tr>\n",
              "      <th>3</th>\n",
              "      <td>continuous sneezing</td>\n",
              "      <td>4</td>\n",
              "    </tr>\n",
              "    <tr>\n",
              "      <th>4</th>\n",
              "      <td>shivering</td>\n",
              "      <td>5</td>\n",
              "    </tr>\n",
              "  </tbody>\n",
              "</table>\n",
              "</div>\n",
              "      <button class=\"colab-df-convert\" onclick=\"convertToInteractive('df-3b23c1c6-b9dd-4cb9-bb8e-773f3467601b')\"\n",
              "              title=\"Convert this dataframe to an interactive table.\"\n",
              "              style=\"display:none;\">\n",
              "        \n",
              "  <svg xmlns=\"http://www.w3.org/2000/svg\" height=\"24px\"viewBox=\"0 0 24 24\"\n",
              "       width=\"24px\">\n",
              "    <path d=\"M0 0h24v24H0V0z\" fill=\"none\"/>\n",
              "    <path d=\"M18.56 5.44l.94 2.06.94-2.06 2.06-.94-2.06-.94-.94-2.06-.94 2.06-2.06.94zm-11 1L8.5 8.5l.94-2.06 2.06-.94-2.06-.94L8.5 2.5l-.94 2.06-2.06.94zm10 10l.94 2.06.94-2.06 2.06-.94-2.06-.94-.94-2.06-.94 2.06-2.06.94z\"/><path d=\"M17.41 7.96l-1.37-1.37c-.4-.4-.92-.59-1.43-.59-.52 0-1.04.2-1.43.59L10.3 9.45l-7.72 7.72c-.78.78-.78 2.05 0 2.83L4 21.41c.39.39.9.59 1.41.59.51 0 1.02-.2 1.41-.59l7.78-7.78 2.81-2.81c.8-.78.8-2.07 0-2.86zM5.41 20L4 18.59l7.72-7.72 1.47 1.35L5.41 20z\"/>\n",
              "  </svg>\n",
              "      </button>\n",
              "      \n",
              "  <style>\n",
              "    .colab-df-container {\n",
              "      display:flex;\n",
              "      flex-wrap:wrap;\n",
              "      gap: 12px;\n",
              "    }\n",
              "\n",
              "    .colab-df-convert {\n",
              "      background-color: #E8F0FE;\n",
              "      border: none;\n",
              "      border-radius: 50%;\n",
              "      cursor: pointer;\n",
              "      display: none;\n",
              "      fill: #1967D2;\n",
              "      height: 32px;\n",
              "      padding: 0 0 0 0;\n",
              "      width: 32px;\n",
              "    }\n",
              "\n",
              "    .colab-df-convert:hover {\n",
              "      background-color: #E2EBFA;\n",
              "      box-shadow: 0px 1px 2px rgba(60, 64, 67, 0.3), 0px 1px 3px 1px rgba(60, 64, 67, 0.15);\n",
              "      fill: #174EA6;\n",
              "    }\n",
              "\n",
              "    [theme=dark] .colab-df-convert {\n",
              "      background-color: #3B4455;\n",
              "      fill: #D2E3FC;\n",
              "    }\n",
              "\n",
              "    [theme=dark] .colab-df-convert:hover {\n",
              "      background-color: #434B5C;\n",
              "      box-shadow: 0px 1px 3px 1px rgba(0, 0, 0, 0.15);\n",
              "      filter: drop-shadow(0px 1px 2px rgba(0, 0, 0, 0.3));\n",
              "      fill: #FFFFFF;\n",
              "    }\n",
              "  </style>\n",
              "\n",
              "      <script>\n",
              "        const buttonEl =\n",
              "          document.querySelector('#df-3b23c1c6-b9dd-4cb9-bb8e-773f3467601b button.colab-df-convert');\n",
              "        buttonEl.style.display =\n",
              "          google.colab.kernel.accessAllowed ? 'block' : 'none';\n",
              "\n",
              "        async function convertToInteractive(key) {\n",
              "          const element = document.querySelector('#df-3b23c1c6-b9dd-4cb9-bb8e-773f3467601b');\n",
              "          const dataTable =\n",
              "            await google.colab.kernel.invokeFunction('convertToInteractive',\n",
              "                                                     [key], {});\n",
              "          if (!dataTable) return;\n",
              "\n",
              "          const docLinkHtml = 'Like what you see? Visit the ' +\n",
              "            '<a target=\"_blank\" href=https://colab.research.google.com/notebooks/data_table.ipynb>data table notebook</a>'\n",
              "            + ' to learn more about interactive tables.';\n",
              "          element.innerHTML = '';\n",
              "          dataTable['output_type'] = 'display_data';\n",
              "          await google.colab.output.renderOutput(dataTable, element);\n",
              "          const docLink = document.createElement('div');\n",
              "          docLink.innerHTML = docLinkHtml;\n",
              "          element.appendChild(docLink);\n",
              "        }\n",
              "      </script>\n",
              "    </div>\n",
              "  </div>\n",
              "  "
            ]
          },
          "metadata": {},
          "execution_count": 11
        }
      ]
    },
    {
      "cell_type": "markdown",
      "source": [
        "**Get overall list of symptoms**"
      ],
      "metadata": {
        "papermill": {
          "duration": 0.028392,
          "end_time": "2021-08-30T15:05:18.854505",
          "exception": false,
          "start_time": "2021-08-30T15:05:18.826113",
          "status": "completed"
        },
        "tags": [],
        "id": "7fwAcc1StNAU"
      }
    },
    {
      "cell_type": "code",
      "source": [
        "df1['Symptom'].unique()"
      ],
      "metadata": {
        "papermill": {
          "duration": 0.039041,
          "end_time": "2021-08-30T15:05:18.92221",
          "exception": false,
          "start_time": "2021-08-30T15:05:18.883169",
          "status": "completed"
        },
        "tags": [],
        "execution": {
          "iopub.status.busy": "2022-06-18T14:12:52.22182Z",
          "iopub.execute_input": "2022-06-18T14:12:52.22203Z",
          "iopub.status.idle": "2022-06-18T14:12:52.230432Z",
          "shell.execute_reply.started": "2022-06-18T14:12:52.222001Z",
          "shell.execute_reply": "2022-06-18T14:12:52.229349Z"
        },
        "trusted": true,
        "colab": {
          "base_uri": "https://localhost:8080/"
        },
        "id": "plXJhTi0tNAU",
        "outputId": "5b15f844-745c-49b2-8443-3a142d982a7f"
      },
      "execution_count": 12,
      "outputs": [
        {
          "output_type": "execute_result",
          "data": {
            "text/plain": [
              "array(['itching', 'skin rash', 'nodal skin eruptions',\n",
              "       'continuous sneezing', 'shivering', 'chills', 'joint pain',\n",
              "       'stomach pain', 'acidity', 'ulcers on tongue', 'muscle wasting',\n",
              "       'vomiting', 'burning micturition', 'spotting urination', 'fatigue',\n",
              "       'weight gain', 'anxiety', 'cold hands and feets', 'mood swings',\n",
              "       'weight loss', 'restlessness', 'lethargy', 'patches in throat',\n",
              "       'irregular sugar level', 'cough', 'high fever', 'sunken eyes',\n",
              "       'breathlessness', 'sweating', 'dehydration', 'indigestion',\n",
              "       'headache', 'yellowish skin', 'dark urine', 'nausea',\n",
              "       'loss of appetite', 'pain behind the eyes', 'back pain',\n",
              "       'constipation', 'abdominal pain', 'diarrhoea', 'mild fever',\n",
              "       'yellow urine', 'yellowing of eyes', 'acute liver failure',\n",
              "       'fluid overload', 'swelling of stomach', 'swelled lymph nodes',\n",
              "       'malaise', 'blurred and distorted vision', 'phlegm',\n",
              "       'throat irritation', 'redness of eyes', 'sinus pressure',\n",
              "       'runny nose', 'congestion', 'chest pain', 'weakness in limbs',\n",
              "       'fast heart rate', 'pain during bowel movements',\n",
              "       'pain in anal region', 'bloody stool', 'irritation in anus',\n",
              "       'neck pain', 'dizziness', 'cramps', 'bruising', 'obesity',\n",
              "       'swollen legs', 'swollen blood vessels', 'puffy face and eyes',\n",
              "       'enlarged thyroid', 'brittle nails', 'swollen extremeties',\n",
              "       'excessive hunger', 'extra marital contacts',\n",
              "       'drying and tingling lips', 'slurred speech', 'knee pain',\n",
              "       'hip joint pain', 'muscle weakness', 'stiff neck',\n",
              "       'swelling joints', 'movement stiffness', 'spinning movements',\n",
              "       'loss of balance', 'unsteadiness', 'weakness of one body side',\n",
              "       'loss of smell', 'bladder discomfort', 'foul smell ofurine',\n",
              "       'continuous feel of urine', 'passage of gases', 'internal itching',\n",
              "       'toxic look (typhos)', 'depression', 'irritability', 'muscle pain',\n",
              "       'altered sensorium', 'red spots over body', 'belly pain',\n",
              "       'abnormal menstruation', 'dischromic patches',\n",
              "       'watering from eyes', 'increased appetite', 'polyuria',\n",
              "       'family history', 'mucoid sputum', 'rusty sputum',\n",
              "       'lack of concentration', 'visual disturbances',\n",
              "       'receiving blood transfusion', 'receiving unsterile injections',\n",
              "       'coma', 'stomach bleeding', 'distention of abdomen',\n",
              "       'history of alcohol consumption', 'blood in sputum',\n",
              "       'prominent veins on calf', 'palpitations', 'painful walking',\n",
              "       'pus filled pimples', 'blackheads', 'scurring', 'skin peeling',\n",
              "       'silver like dusting', 'small dents in nails',\n",
              "       'inflammatory nails', 'blister', 'red sore around nose',\n",
              "       'yellow crust ooze', 'prognosis'], dtype=object)"
            ]
          },
          "metadata": {},
          "execution_count": 12
        }
      ]
    },
    {
      "cell_type": "markdown",
      "source": [
        "**Encode symptoms in the data with the symptom rank**"
      ],
      "metadata": {
        "papermill": {
          "duration": 0.029149,
          "end_time": "2021-08-30T15:05:18.980116",
          "exception": false,
          "start_time": "2021-08-30T15:05:18.950967",
          "status": "completed"
        },
        "tags": [],
        "id": "gPtzu9x6tNAU"
      }
    },
    {
      "cell_type": "code",
      "source": [
        "vals = df.values\n",
        "symptoms = df1['Symptom'].unique()\n",
        "\n",
        "for i in range(len(symptoms)):\n",
        "    vals[vals == symptoms[i]] = df1[df1['Symptom'] == symptoms[i]]['weight'].values[0]\n",
        "    \n",
        "d = pd.DataFrame(vals, columns=cols)\n",
        "d.head()"
      ],
      "metadata": {
        "papermill": {
          "duration": 0.689792,
          "end_time": "2021-08-30T15:05:19.699129",
          "exception": false,
          "start_time": "2021-08-30T15:05:19.009337",
          "status": "completed"
        },
        "tags": [],
        "execution": {
          "iopub.status.busy": "2022-06-18T14:12:52.231263Z",
          "iopub.execute_input": "2022-06-18T14:12:52.231834Z",
          "iopub.status.idle": "2022-06-18T14:12:53.065032Z",
          "shell.execute_reply.started": "2022-06-18T14:12:52.231801Z",
          "shell.execute_reply": "2022-06-18T14:12:53.063945Z"
        },
        "trusted": true,
        "colab": {
          "base_uri": "https://localhost:8080/",
          "height": 285
        },
        "id": "A6jcJsm4tNAV",
        "outputId": "52214b0e-3f47-41e7-bb75-14a9519674f4"
      },
      "execution_count": 13,
      "outputs": [
        {
          "output_type": "execute_result",
          "data": {
            "text/plain": [
              "               Disease Symptom_1 Symptom_2 Symptom_3 Symptom_4 Symptom_5  \\\n",
              "0                 Acne         3         2         2         0         0   \n",
              "1                 Acne         3         2         2         2         0   \n",
              "2      Hyperthyroidism         4         3         3         5         3   \n",
              "3                 AIDS         3         6         7         5         0   \n",
              "4  Chronic cholestasis         1         5         3         5         4   \n",
              "\n",
              "  Symptom_6 Symptom_7 Symptom_8 Symptom_9 Symptom_10 Symptom_11 Symptom_12  \\\n",
              "0         0         0         0         0          0          0          0   \n",
              "1         0         0         0         0          0          0          0   \n",
              "2         6         5         4         2          2          6          0   \n",
              "3         0         0         0         0          0          0          0   \n",
              "4         4         4         0         0          0          0          0   \n",
              "\n",
              "  Symptom_13 Symptom_14 Symptom_15 Symptom_16 Symptom_17  \n",
              "0          0          0          0          0          0  \n",
              "1          0          0          0          0          0  \n",
              "2          0          0          0          0          0  \n",
              "3          0          0          0          0          0  \n",
              "4          0          0          0          0          0  "
            ],
            "text/html": [
              "\n",
              "  <div id=\"df-0c003e8c-c31f-44f0-a5ba-c23a8a0c965f\">\n",
              "    <div class=\"colab-df-container\">\n",
              "      <div>\n",
              "<style scoped>\n",
              "    .dataframe tbody tr th:only-of-type {\n",
              "        vertical-align: middle;\n",
              "    }\n",
              "\n",
              "    .dataframe tbody tr th {\n",
              "        vertical-align: top;\n",
              "    }\n",
              "\n",
              "    .dataframe thead th {\n",
              "        text-align: right;\n",
              "    }\n",
              "</style>\n",
              "<table border=\"1\" class=\"dataframe\">\n",
              "  <thead>\n",
              "    <tr style=\"text-align: right;\">\n",
              "      <th></th>\n",
              "      <th>Disease</th>\n",
              "      <th>Symptom_1</th>\n",
              "      <th>Symptom_2</th>\n",
              "      <th>Symptom_3</th>\n",
              "      <th>Symptom_4</th>\n",
              "      <th>Symptom_5</th>\n",
              "      <th>Symptom_6</th>\n",
              "      <th>Symptom_7</th>\n",
              "      <th>Symptom_8</th>\n",
              "      <th>Symptom_9</th>\n",
              "      <th>Symptom_10</th>\n",
              "      <th>Symptom_11</th>\n",
              "      <th>Symptom_12</th>\n",
              "      <th>Symptom_13</th>\n",
              "      <th>Symptom_14</th>\n",
              "      <th>Symptom_15</th>\n",
              "      <th>Symptom_16</th>\n",
              "      <th>Symptom_17</th>\n",
              "    </tr>\n",
              "  </thead>\n",
              "  <tbody>\n",
              "    <tr>\n",
              "      <th>0</th>\n",
              "      <td>Acne</td>\n",
              "      <td>3</td>\n",
              "      <td>2</td>\n",
              "      <td>2</td>\n",
              "      <td>0</td>\n",
              "      <td>0</td>\n",
              "      <td>0</td>\n",
              "      <td>0</td>\n",
              "      <td>0</td>\n",
              "      <td>0</td>\n",
              "      <td>0</td>\n",
              "      <td>0</td>\n",
              "      <td>0</td>\n",
              "      <td>0</td>\n",
              "      <td>0</td>\n",
              "      <td>0</td>\n",
              "      <td>0</td>\n",
              "      <td>0</td>\n",
              "    </tr>\n",
              "    <tr>\n",
              "      <th>1</th>\n",
              "      <td>Acne</td>\n",
              "      <td>3</td>\n",
              "      <td>2</td>\n",
              "      <td>2</td>\n",
              "      <td>2</td>\n",
              "      <td>0</td>\n",
              "      <td>0</td>\n",
              "      <td>0</td>\n",
              "      <td>0</td>\n",
              "      <td>0</td>\n",
              "      <td>0</td>\n",
              "      <td>0</td>\n",
              "      <td>0</td>\n",
              "      <td>0</td>\n",
              "      <td>0</td>\n",
              "      <td>0</td>\n",
              "      <td>0</td>\n",
              "      <td>0</td>\n",
              "    </tr>\n",
              "    <tr>\n",
              "      <th>2</th>\n",
              "      <td>Hyperthyroidism</td>\n",
              "      <td>4</td>\n",
              "      <td>3</td>\n",
              "      <td>3</td>\n",
              "      <td>5</td>\n",
              "      <td>3</td>\n",
              "      <td>6</td>\n",
              "      <td>5</td>\n",
              "      <td>4</td>\n",
              "      <td>2</td>\n",
              "      <td>2</td>\n",
              "      <td>6</td>\n",
              "      <td>0</td>\n",
              "      <td>0</td>\n",
              "      <td>0</td>\n",
              "      <td>0</td>\n",
              "      <td>0</td>\n",
              "      <td>0</td>\n",
              "    </tr>\n",
              "    <tr>\n",
              "      <th>3</th>\n",
              "      <td>AIDS</td>\n",
              "      <td>3</td>\n",
              "      <td>6</td>\n",
              "      <td>7</td>\n",
              "      <td>5</td>\n",
              "      <td>0</td>\n",
              "      <td>0</td>\n",
              "      <td>0</td>\n",
              "      <td>0</td>\n",
              "      <td>0</td>\n",
              "      <td>0</td>\n",
              "      <td>0</td>\n",
              "      <td>0</td>\n",
              "      <td>0</td>\n",
              "      <td>0</td>\n",
              "      <td>0</td>\n",
              "      <td>0</td>\n",
              "      <td>0</td>\n",
              "    </tr>\n",
              "    <tr>\n",
              "      <th>4</th>\n",
              "      <td>Chronic cholestasis</td>\n",
              "      <td>1</td>\n",
              "      <td>5</td>\n",
              "      <td>3</td>\n",
              "      <td>5</td>\n",
              "      <td>4</td>\n",
              "      <td>4</td>\n",
              "      <td>4</td>\n",
              "      <td>0</td>\n",
              "      <td>0</td>\n",
              "      <td>0</td>\n",
              "      <td>0</td>\n",
              "      <td>0</td>\n",
              "      <td>0</td>\n",
              "      <td>0</td>\n",
              "      <td>0</td>\n",
              "      <td>0</td>\n",
              "      <td>0</td>\n",
              "    </tr>\n",
              "  </tbody>\n",
              "</table>\n",
              "</div>\n",
              "      <button class=\"colab-df-convert\" onclick=\"convertToInteractive('df-0c003e8c-c31f-44f0-a5ba-c23a8a0c965f')\"\n",
              "              title=\"Convert this dataframe to an interactive table.\"\n",
              "              style=\"display:none;\">\n",
              "        \n",
              "  <svg xmlns=\"http://www.w3.org/2000/svg\" height=\"24px\"viewBox=\"0 0 24 24\"\n",
              "       width=\"24px\">\n",
              "    <path d=\"M0 0h24v24H0V0z\" fill=\"none\"/>\n",
              "    <path d=\"M18.56 5.44l.94 2.06.94-2.06 2.06-.94-2.06-.94-.94-2.06-.94 2.06-2.06.94zm-11 1L8.5 8.5l.94-2.06 2.06-.94-2.06-.94L8.5 2.5l-.94 2.06-2.06.94zm10 10l.94 2.06.94-2.06 2.06-.94-2.06-.94-.94-2.06-.94 2.06-2.06.94z\"/><path d=\"M17.41 7.96l-1.37-1.37c-.4-.4-.92-.59-1.43-.59-.52 0-1.04.2-1.43.59L10.3 9.45l-7.72 7.72c-.78.78-.78 2.05 0 2.83L4 21.41c.39.39.9.59 1.41.59.51 0 1.02-.2 1.41-.59l7.78-7.78 2.81-2.81c.8-.78.8-2.07 0-2.86zM5.41 20L4 18.59l7.72-7.72 1.47 1.35L5.41 20z\"/>\n",
              "  </svg>\n",
              "      </button>\n",
              "      \n",
              "  <style>\n",
              "    .colab-df-container {\n",
              "      display:flex;\n",
              "      flex-wrap:wrap;\n",
              "      gap: 12px;\n",
              "    }\n",
              "\n",
              "    .colab-df-convert {\n",
              "      background-color: #E8F0FE;\n",
              "      border: none;\n",
              "      border-radius: 50%;\n",
              "      cursor: pointer;\n",
              "      display: none;\n",
              "      fill: #1967D2;\n",
              "      height: 32px;\n",
              "      padding: 0 0 0 0;\n",
              "      width: 32px;\n",
              "    }\n",
              "\n",
              "    .colab-df-convert:hover {\n",
              "      background-color: #E2EBFA;\n",
              "      box-shadow: 0px 1px 2px rgba(60, 64, 67, 0.3), 0px 1px 3px 1px rgba(60, 64, 67, 0.15);\n",
              "      fill: #174EA6;\n",
              "    }\n",
              "\n",
              "    [theme=dark] .colab-df-convert {\n",
              "      background-color: #3B4455;\n",
              "      fill: #D2E3FC;\n",
              "    }\n",
              "\n",
              "    [theme=dark] .colab-df-convert:hover {\n",
              "      background-color: #434B5C;\n",
              "      box-shadow: 0px 1px 3px 1px rgba(0, 0, 0, 0.15);\n",
              "      filter: drop-shadow(0px 1px 2px rgba(0, 0, 0, 0.3));\n",
              "      fill: #FFFFFF;\n",
              "    }\n",
              "  </style>\n",
              "\n",
              "      <script>\n",
              "        const buttonEl =\n",
              "          document.querySelector('#df-0c003e8c-c31f-44f0-a5ba-c23a8a0c965f button.colab-df-convert');\n",
              "        buttonEl.style.display =\n",
              "          google.colab.kernel.accessAllowed ? 'block' : 'none';\n",
              "\n",
              "        async function convertToInteractive(key) {\n",
              "          const element = document.querySelector('#df-0c003e8c-c31f-44f0-a5ba-c23a8a0c965f');\n",
              "          const dataTable =\n",
              "            await google.colab.kernel.invokeFunction('convertToInteractive',\n",
              "                                                     [key], {});\n",
              "          if (!dataTable) return;\n",
              "\n",
              "          const docLinkHtml = 'Like what you see? Visit the ' +\n",
              "            '<a target=\"_blank\" href=https://colab.research.google.com/notebooks/data_table.ipynb>data table notebook</a>'\n",
              "            + ' to learn more about interactive tables.';\n",
              "          element.innerHTML = '';\n",
              "          dataTable['output_type'] = 'display_data';\n",
              "          await google.colab.output.renderOutput(dataTable, element);\n",
              "          const docLink = document.createElement('div');\n",
              "          docLink.innerHTML = docLinkHtml;\n",
              "          element.appendChild(docLink);\n",
              "        }\n",
              "      </script>\n",
              "    </div>\n",
              "  </div>\n",
              "  "
            ]
          },
          "metadata": {},
          "execution_count": 13
        }
      ]
    },
    {
      "cell_type": "markdown",
      "source": [
        "**Assign symptoms with no rank to zero**"
      ],
      "metadata": {
        "papermill": {
          "duration": 0.029325,
          "end_time": "2021-08-30T15:05:19.757938",
          "exception": false,
          "start_time": "2021-08-30T15:05:19.728613",
          "status": "completed"
        },
        "tags": [],
        "id": "8TPo7kKHtNAV"
      }
    },
    {
      "cell_type": "code",
      "source": [
        "d = d.replace('dischromic  patches', 0)\n",
        "d = d.replace('spotting  urination',0)\n",
        "df = d.replace('foul smell of urine',0)\n",
        "df.head(10)"
      ],
      "metadata": {
        "papermill": {
          "duration": 0.100573,
          "end_time": "2021-08-30T15:05:19.888131",
          "exception": false,
          "start_time": "2021-08-30T15:05:19.787558",
          "status": "completed"
        },
        "tags": [],
        "execution": {
          "iopub.status.busy": "2022-06-18T14:12:53.06655Z",
          "iopub.execute_input": "2022-06-18T14:12:53.066839Z",
          "iopub.status.idle": "2022-06-18T14:12:53.108977Z",
          "shell.execute_reply.started": "2022-06-18T14:12:53.066805Z",
          "shell.execute_reply": "2022-06-18T14:12:53.108526Z"
        },
        "trusted": true,
        "colab": {
          "base_uri": "https://localhost:8080/",
          "height": 440
        },
        "id": "IRdNLXRptNAV",
        "outputId": "1a83e0cf-821f-4dd7-bc0c-83ec086eacfe"
      },
      "execution_count": 14,
      "outputs": [
        {
          "output_type": "execute_result",
          "data": {
            "text/plain": [
              "               Disease  Symptom_1  Symptom_2  Symptom_3  Symptom_4  Symptom_5  \\\n",
              "0                 Acne          3          2          2          0          0   \n",
              "1                 Acne          3          2          2          2          0   \n",
              "2      Hyperthyroidism          4          3          3          5          3   \n",
              "3                 AIDS          3          6          7          5          0   \n",
              "4  Chronic cholestasis          1          5          3          5          4   \n",
              "5         Hypertension          3          7          4          4          3   \n",
              "6         Hypoglycemia          5          4          4          3          3   \n",
              "7            Arthritis          2          4          5          2          0   \n",
              "8          Hepatitis B          1          4          2          3          4   \n",
              "9             Migraine          3          5          3          5          4   \n",
              "\n",
              "   Symptom_6  Symptom_7  Symptom_8  Symptom_9  Symptom_10  Symptom_11  \\\n",
              "0          0          0          0          0           0           0   \n",
              "1          0          0          0          0           0           0   \n",
              "2          6          5          4          2           2           6   \n",
              "3          0          0          0          0           0           0   \n",
              "4          4          4          0          0           0           0   \n",
              "5          0          0          0          0           0           0   \n",
              "6          5          5          4          4           4           2   \n",
              "7          0          0          0          0           0           0   \n",
              "8          4          4          4          4           6           5   \n",
              "9          4          3          2          3           0           0   \n",
              "\n",
              "   Symptom_12  Symptom_13  Symptom_14  Symptom_15  Symptom_16  Symptom_17  \n",
              "0           0           0           0           0           0           0  \n",
              "1           0           0           0           0           0           0  \n",
              "2           0           0           0           0           0           0  \n",
              "3           0           0           0           0           0           0  \n",
              "4           0           0           0           0           0           0  \n",
              "5           0           0           0           0           0           0  \n",
              "6           4           0           0           0           0           0  \n",
              "7           0           0           0           0           0           0  \n",
              "8           2           0           0           0           0           0  \n",
              "9           0           0           0           0           0           0  "
            ],
            "text/html": [
              "\n",
              "  <div id=\"df-fd91b1df-8c17-4c44-9fed-a443b0f6d2f6\">\n",
              "    <div class=\"colab-df-container\">\n",
              "      <div>\n",
              "<style scoped>\n",
              "    .dataframe tbody tr th:only-of-type {\n",
              "        vertical-align: middle;\n",
              "    }\n",
              "\n",
              "    .dataframe tbody tr th {\n",
              "        vertical-align: top;\n",
              "    }\n",
              "\n",
              "    .dataframe thead th {\n",
              "        text-align: right;\n",
              "    }\n",
              "</style>\n",
              "<table border=\"1\" class=\"dataframe\">\n",
              "  <thead>\n",
              "    <tr style=\"text-align: right;\">\n",
              "      <th></th>\n",
              "      <th>Disease</th>\n",
              "      <th>Symptom_1</th>\n",
              "      <th>Symptom_2</th>\n",
              "      <th>Symptom_3</th>\n",
              "      <th>Symptom_4</th>\n",
              "      <th>Symptom_5</th>\n",
              "      <th>Symptom_6</th>\n",
              "      <th>Symptom_7</th>\n",
              "      <th>Symptom_8</th>\n",
              "      <th>Symptom_9</th>\n",
              "      <th>Symptom_10</th>\n",
              "      <th>Symptom_11</th>\n",
              "      <th>Symptom_12</th>\n",
              "      <th>Symptom_13</th>\n",
              "      <th>Symptom_14</th>\n",
              "      <th>Symptom_15</th>\n",
              "      <th>Symptom_16</th>\n",
              "      <th>Symptom_17</th>\n",
              "    </tr>\n",
              "  </thead>\n",
              "  <tbody>\n",
              "    <tr>\n",
              "      <th>0</th>\n",
              "      <td>Acne</td>\n",
              "      <td>3</td>\n",
              "      <td>2</td>\n",
              "      <td>2</td>\n",
              "      <td>0</td>\n",
              "      <td>0</td>\n",
              "      <td>0</td>\n",
              "      <td>0</td>\n",
              "      <td>0</td>\n",
              "      <td>0</td>\n",
              "      <td>0</td>\n",
              "      <td>0</td>\n",
              "      <td>0</td>\n",
              "      <td>0</td>\n",
              "      <td>0</td>\n",
              "      <td>0</td>\n",
              "      <td>0</td>\n",
              "      <td>0</td>\n",
              "    </tr>\n",
              "    <tr>\n",
              "      <th>1</th>\n",
              "      <td>Acne</td>\n",
              "      <td>3</td>\n",
              "      <td>2</td>\n",
              "      <td>2</td>\n",
              "      <td>2</td>\n",
              "      <td>0</td>\n",
              "      <td>0</td>\n",
              "      <td>0</td>\n",
              "      <td>0</td>\n",
              "      <td>0</td>\n",
              "      <td>0</td>\n",
              "      <td>0</td>\n",
              "      <td>0</td>\n",
              "      <td>0</td>\n",
              "      <td>0</td>\n",
              "      <td>0</td>\n",
              "      <td>0</td>\n",
              "      <td>0</td>\n",
              "    </tr>\n",
              "    <tr>\n",
              "      <th>2</th>\n",
              "      <td>Hyperthyroidism</td>\n",
              "      <td>4</td>\n",
              "      <td>3</td>\n",
              "      <td>3</td>\n",
              "      <td>5</td>\n",
              "      <td>3</td>\n",
              "      <td>6</td>\n",
              "      <td>5</td>\n",
              "      <td>4</td>\n",
              "      <td>2</td>\n",
              "      <td>2</td>\n",
              "      <td>6</td>\n",
              "      <td>0</td>\n",
              "      <td>0</td>\n",
              "      <td>0</td>\n",
              "      <td>0</td>\n",
              "      <td>0</td>\n",
              "      <td>0</td>\n",
              "    </tr>\n",
              "    <tr>\n",
              "      <th>3</th>\n",
              "      <td>AIDS</td>\n",
              "      <td>3</td>\n",
              "      <td>6</td>\n",
              "      <td>7</td>\n",
              "      <td>5</td>\n",
              "      <td>0</td>\n",
              "      <td>0</td>\n",
              "      <td>0</td>\n",
              "      <td>0</td>\n",
              "      <td>0</td>\n",
              "      <td>0</td>\n",
              "      <td>0</td>\n",
              "      <td>0</td>\n",
              "      <td>0</td>\n",
              "      <td>0</td>\n",
              "      <td>0</td>\n",
              "      <td>0</td>\n",
              "      <td>0</td>\n",
              "    </tr>\n",
              "    <tr>\n",
              "      <th>4</th>\n",
              "      <td>Chronic cholestasis</td>\n",
              "      <td>1</td>\n",
              "      <td>5</td>\n",
              "      <td>3</td>\n",
              "      <td>5</td>\n",
              "      <td>4</td>\n",
              "      <td>4</td>\n",
              "      <td>4</td>\n",
              "      <td>0</td>\n",
              "      <td>0</td>\n",
              "      <td>0</td>\n",
              "      <td>0</td>\n",
              "      <td>0</td>\n",
              "      <td>0</td>\n",
              "      <td>0</td>\n",
              "      <td>0</td>\n",
              "      <td>0</td>\n",
              "      <td>0</td>\n",
              "    </tr>\n",
              "    <tr>\n",
              "      <th>5</th>\n",
              "      <td>Hypertension</td>\n",
              "      <td>3</td>\n",
              "      <td>7</td>\n",
              "      <td>4</td>\n",
              "      <td>4</td>\n",
              "      <td>3</td>\n",
              "      <td>0</td>\n",
              "      <td>0</td>\n",
              "      <td>0</td>\n",
              "      <td>0</td>\n",
              "      <td>0</td>\n",
              "      <td>0</td>\n",
              "      <td>0</td>\n",
              "      <td>0</td>\n",
              "      <td>0</td>\n",
              "      <td>0</td>\n",
              "      <td>0</td>\n",
              "      <td>0</td>\n",
              "    </tr>\n",
              "    <tr>\n",
              "      <th>6</th>\n",
              "      <td>Hypoglycemia</td>\n",
              "      <td>5</td>\n",
              "      <td>4</td>\n",
              "      <td>4</td>\n",
              "      <td>3</td>\n",
              "      <td>3</td>\n",
              "      <td>5</td>\n",
              "      <td>5</td>\n",
              "      <td>4</td>\n",
              "      <td>4</td>\n",
              "      <td>4</td>\n",
              "      <td>2</td>\n",
              "      <td>4</td>\n",
              "      <td>0</td>\n",
              "      <td>0</td>\n",
              "      <td>0</td>\n",
              "      <td>0</td>\n",
              "      <td>0</td>\n",
              "    </tr>\n",
              "    <tr>\n",
              "      <th>7</th>\n",
              "      <td>Arthritis</td>\n",
              "      <td>2</td>\n",
              "      <td>4</td>\n",
              "      <td>5</td>\n",
              "      <td>2</td>\n",
              "      <td>0</td>\n",
              "      <td>0</td>\n",
              "      <td>0</td>\n",
              "      <td>0</td>\n",
              "      <td>0</td>\n",
              "      <td>0</td>\n",
              "      <td>0</td>\n",
              "      <td>0</td>\n",
              "      <td>0</td>\n",
              "      <td>0</td>\n",
              "      <td>0</td>\n",
              "      <td>0</td>\n",
              "      <td>0</td>\n",
              "    </tr>\n",
              "    <tr>\n",
              "      <th>8</th>\n",
              "      <td>Hepatitis B</td>\n",
              "      <td>1</td>\n",
              "      <td>4</td>\n",
              "      <td>2</td>\n",
              "      <td>3</td>\n",
              "      <td>4</td>\n",
              "      <td>4</td>\n",
              "      <td>4</td>\n",
              "      <td>4</td>\n",
              "      <td>4</td>\n",
              "      <td>6</td>\n",
              "      <td>5</td>\n",
              "      <td>2</td>\n",
              "      <td>0</td>\n",
              "      <td>0</td>\n",
              "      <td>0</td>\n",
              "      <td>0</td>\n",
              "      <td>0</td>\n",
              "    </tr>\n",
              "    <tr>\n",
              "      <th>9</th>\n",
              "      <td>Migraine</td>\n",
              "      <td>3</td>\n",
              "      <td>5</td>\n",
              "      <td>3</td>\n",
              "      <td>5</td>\n",
              "      <td>4</td>\n",
              "      <td>4</td>\n",
              "      <td>3</td>\n",
              "      <td>2</td>\n",
              "      <td>3</td>\n",
              "      <td>0</td>\n",
              "      <td>0</td>\n",
              "      <td>0</td>\n",
              "      <td>0</td>\n",
              "      <td>0</td>\n",
              "      <td>0</td>\n",
              "      <td>0</td>\n",
              "      <td>0</td>\n",
              "    </tr>\n",
              "  </tbody>\n",
              "</table>\n",
              "</div>\n",
              "      <button class=\"colab-df-convert\" onclick=\"convertToInteractive('df-fd91b1df-8c17-4c44-9fed-a443b0f6d2f6')\"\n",
              "              title=\"Convert this dataframe to an interactive table.\"\n",
              "              style=\"display:none;\">\n",
              "        \n",
              "  <svg xmlns=\"http://www.w3.org/2000/svg\" height=\"24px\"viewBox=\"0 0 24 24\"\n",
              "       width=\"24px\">\n",
              "    <path d=\"M0 0h24v24H0V0z\" fill=\"none\"/>\n",
              "    <path d=\"M18.56 5.44l.94 2.06.94-2.06 2.06-.94-2.06-.94-.94-2.06-.94 2.06-2.06.94zm-11 1L8.5 8.5l.94-2.06 2.06-.94-2.06-.94L8.5 2.5l-.94 2.06-2.06.94zm10 10l.94 2.06.94-2.06 2.06-.94-2.06-.94-.94-2.06-.94 2.06-2.06.94z\"/><path d=\"M17.41 7.96l-1.37-1.37c-.4-.4-.92-.59-1.43-.59-.52 0-1.04.2-1.43.59L10.3 9.45l-7.72 7.72c-.78.78-.78 2.05 0 2.83L4 21.41c.39.39.9.59 1.41.59.51 0 1.02-.2 1.41-.59l7.78-7.78 2.81-2.81c.8-.78.8-2.07 0-2.86zM5.41 20L4 18.59l7.72-7.72 1.47 1.35L5.41 20z\"/>\n",
              "  </svg>\n",
              "      </button>\n",
              "      \n",
              "  <style>\n",
              "    .colab-df-container {\n",
              "      display:flex;\n",
              "      flex-wrap:wrap;\n",
              "      gap: 12px;\n",
              "    }\n",
              "\n",
              "    .colab-df-convert {\n",
              "      background-color: #E8F0FE;\n",
              "      border: none;\n",
              "      border-radius: 50%;\n",
              "      cursor: pointer;\n",
              "      display: none;\n",
              "      fill: #1967D2;\n",
              "      height: 32px;\n",
              "      padding: 0 0 0 0;\n",
              "      width: 32px;\n",
              "    }\n",
              "\n",
              "    .colab-df-convert:hover {\n",
              "      background-color: #E2EBFA;\n",
              "      box-shadow: 0px 1px 2px rgba(60, 64, 67, 0.3), 0px 1px 3px 1px rgba(60, 64, 67, 0.15);\n",
              "      fill: #174EA6;\n",
              "    }\n",
              "\n",
              "    [theme=dark] .colab-df-convert {\n",
              "      background-color: #3B4455;\n",
              "      fill: #D2E3FC;\n",
              "    }\n",
              "\n",
              "    [theme=dark] .colab-df-convert:hover {\n",
              "      background-color: #434B5C;\n",
              "      box-shadow: 0px 1px 3px 1px rgba(0, 0, 0, 0.15);\n",
              "      filter: drop-shadow(0px 1px 2px rgba(0, 0, 0, 0.3));\n",
              "      fill: #FFFFFF;\n",
              "    }\n",
              "  </style>\n",
              "\n",
              "      <script>\n",
              "        const buttonEl =\n",
              "          document.querySelector('#df-fd91b1df-8c17-4c44-9fed-a443b0f6d2f6 button.colab-df-convert');\n",
              "        buttonEl.style.display =\n",
              "          google.colab.kernel.accessAllowed ? 'block' : 'none';\n",
              "\n",
              "        async function convertToInteractive(key) {\n",
              "          const element = document.querySelector('#df-fd91b1df-8c17-4c44-9fed-a443b0f6d2f6');\n",
              "          const dataTable =\n",
              "            await google.colab.kernel.invokeFunction('convertToInteractive',\n",
              "                                                     [key], {});\n",
              "          if (!dataTable) return;\n",
              "\n",
              "          const docLinkHtml = 'Like what you see? Visit the ' +\n",
              "            '<a target=\"_blank\" href=https://colab.research.google.com/notebooks/data_table.ipynb>data table notebook</a>'\n",
              "            + ' to learn more about interactive tables.';\n",
              "          element.innerHTML = '';\n",
              "          dataTable['output_type'] = 'display_data';\n",
              "          await google.colab.output.renderOutput(dataTable, element);\n",
              "          const docLink = document.createElement('div');\n",
              "          docLink.innerHTML = docLinkHtml;\n",
              "          element.appendChild(docLink);\n",
              "        }\n",
              "      </script>\n",
              "    </div>\n",
              "  </div>\n",
              "  "
            ]
          },
          "metadata": {},
          "execution_count": 14
        }
      ]
    },
    {
      "cell_type": "markdown",
      "source": [
        "**Check if entire columns have zero values so we can drop those values**"
      ],
      "metadata": {
        "papermill": {
          "duration": 0.02973,
          "end_time": "2021-08-30T15:05:19.948081",
          "exception": false,
          "start_time": "2021-08-30T15:05:19.918351",
          "status": "completed"
        },
        "tags": [],
        "id": "GQHLORAotNAW"
      }
    },
    {
      "cell_type": "code",
      "source": [
        "null_checker = df.apply(lambda x: sum(x.isnull())).to_frame(name='count')\n",
        "print(null_checker)"
      ],
      "metadata": {
        "papermill": {
          "duration": 0.046686,
          "end_time": "2021-08-30T15:05:20.024958",
          "exception": false,
          "start_time": "2021-08-30T15:05:19.978272",
          "status": "completed"
        },
        "tags": [],
        "execution": {
          "iopub.status.busy": "2022-06-18T14:12:53.109934Z",
          "iopub.execute_input": "2022-06-18T14:12:53.110262Z",
          "iopub.status.idle": "2022-06-18T14:12:53.137575Z",
          "shell.execute_reply.started": "2022-06-18T14:12:53.110223Z",
          "shell.execute_reply": "2022-06-18T14:12:53.13674Z"
        },
        "trusted": true,
        "colab": {
          "base_uri": "https://localhost:8080/"
        },
        "id": "YERCHLectNAW",
        "outputId": "169efcce-89fc-434a-e752-9f6811f3a755"
      },
      "execution_count": 15,
      "outputs": [
        {
          "output_type": "stream",
          "name": "stdout",
          "text": [
            "            count\n",
            "Disease         0\n",
            "Symptom_1       0\n",
            "Symptom_2       0\n",
            "Symptom_3       0\n",
            "Symptom_4       0\n",
            "Symptom_5       0\n",
            "Symptom_6       0\n",
            "Symptom_7       0\n",
            "Symptom_8       0\n",
            "Symptom_9       0\n",
            "Symptom_10      0\n",
            "Symptom_11      0\n",
            "Symptom_12      0\n",
            "Symptom_13      0\n",
            "Symptom_14      0\n",
            "Symptom_15      0\n",
            "Symptom_16      0\n",
            "Symptom_17      0\n"
          ]
        }
      ]
    },
    {
      "cell_type": "code",
      "source": [
        "plt.figure(figsize=(10,5))\n",
        "plt.plot(null_checker.index, null_checker['count'])\n",
        "plt.xticks(null_checker.index, null_checker.index, rotation=45,\n",
        "horizontalalignment='right')\n",
        "plt.title('After removing Null values')\n",
        "plt.xlabel('column names')\n",
        "plt.margins(0.01)\n",
        "plt.show()"
      ],
      "metadata": {
        "execution": {
          "iopub.status.busy": "2022-06-18T14:12:53.138695Z",
          "iopub.execute_input": "2022-06-18T14:12:53.138982Z",
          "iopub.status.idle": "2022-06-18T14:12:53.354048Z",
          "shell.execute_reply.started": "2022-06-18T14:12:53.13895Z",
          "shell.execute_reply": "2022-06-18T14:12:53.353339Z"
        },
        "trusted": true,
        "colab": {
          "base_uri": "https://localhost:8080/",
          "height": 394
        },
        "id": "TvMKNeGstNAX",
        "outputId": "8f84a5b6-01d9-4122-aa07-22cf3c9e7ceb"
      },
      "execution_count": 16,
      "outputs": [
        {
          "output_type": "display_data",
          "data": {
            "text/plain": [
              "<Figure size 720x360 with 1 Axes>"
            ],
            "image/png": "[encoded data removed]"
          },
          "metadata": {
            "needs_background": "light"
          }
        }
      ]
    },
    {
      "cell_type": "code",
      "source": [
        "print(\"Number of symptoms used to identify the disease \",len(df1['Symptom'].unique()))\n",
        "print(\"Number of diseases that can be identified \",len(df['Disease'].unique()))"
      ],
      "metadata": {
        "execution": {
          "iopub.status.busy": "2022-06-18T14:12:53.354976Z",
          "iopub.execute_input": "2022-06-18T14:12:53.35518Z",
          "iopub.status.idle": "2022-06-18T14:12:53.362002Z",
          "shell.execute_reply.started": "2022-06-18T14:12:53.355151Z",
          "shell.execute_reply": "2022-06-18T14:12:53.361302Z"
        },
        "trusted": true,
        "colab": {
          "base_uri": "https://localhost:8080/"
        },
        "id": "T4gyq5vNtNAX",
        "outputId": "15143b30-ba6d-476f-f0c4-85a00208d8a5"
      },
      "execution_count": 17,
      "outputs": [
        {
          "output_type": "stream",
          "name": "stdout",
          "text": [
            "Number of symptoms used to identify the disease  132\n",
            "Number of diseases that can be identified  41\n"
          ]
        }
      ]
    },
    {
      "cell_type": "markdown",
      "source": [
        "**Diseases name from the dataset**"
      ],
      "metadata": {
        "papermill": {
          "duration": 0.031307,
          "end_time": "2021-08-30T15:05:20.164109",
          "exception": false,
          "start_time": "2021-08-30T15:05:20.132802",
          "status": "completed"
        },
        "tags": [],
        "id": "_88COfNgtNAZ"
      }
    },
    {
      "cell_type": "code",
      "source": [
        "df['Disease'].unique()"
      ],
      "metadata": {
        "papermill": {
          "duration": 0.041096,
          "end_time": "2021-08-30T15:05:20.236599",
          "exception": false,
          "start_time": "2021-08-30T15:05:20.195503",
          "status": "completed"
        },
        "tags": [],
        "execution": {
          "iopub.status.busy": "2022-06-18T14:13:16.428998Z",
          "iopub.execute_input": "2022-06-18T14:13:16.429442Z",
          "iopub.status.idle": "2022-06-18T14:13:16.43438Z",
          "shell.execute_reply.started": "2022-06-18T14:13:16.42941Z",
          "shell.execute_reply": "2022-06-18T14:13:16.433913Z"
        },
        "trusted": true,
        "colab": {
          "base_uri": "https://localhost:8080/"
        },
        "id": "n1jdHYsNtNAZ",
        "outputId": "db49b277-5db5-4452-adf3-8ef8696ecfa0"
      },
      "execution_count": 18,
      "outputs": [
        {
          "output_type": "execute_result",
          "data": {
            "text/plain": [
              "array(['Acne', 'Hyperthyroidism', 'AIDS', 'Chronic cholestasis',\n",
              "       'Hypertension', 'Hypoglycemia', 'Arthritis', 'Hepatitis B',\n",
              "       'Migraine', 'Urinary tract infection', 'Diabetes', 'Hepatitis D',\n",
              "       'Psoriasis', 'Alcoholic hepatitis', 'Dimorphic hemmorhoids(piles)',\n",
              "       'Hepatitis E', 'Cervical spondylosis', 'Bronchial Asthma',\n",
              "       'hepatitis A', 'Allergy', 'Hepatitis C', 'Pneumonia',\n",
              "       'Hypothyroidism', 'Gastroenteritis', 'Varicose veins', 'Jaundice',\n",
              "       'Drug Reaction', '(vertigo) Paroymsal  Positional Vertigo',\n",
              "       'Heart attack', 'Tuberculosis', 'Typhoid', 'Common Cold',\n",
              "       'Peptic ulcer diseae', 'Paralysis (brain hemorrhage)',\n",
              "       'Fungal infection', 'Impetigo', 'GERD', 'Dengue', 'Malaria',\n",
              "       'Chicken pox', 'Osteoarthristis'], dtype=object)"
            ]
          },
          "metadata": {},
          "execution_count": 18
        }
      ]
    },
    {
      "cell_type": "markdown",
      "source": [
        "**Feature Selection**\n"
      ],
      "metadata": {
        "papermill": {
          "duration": 0.031128,
          "end_time": "2021-08-30T15:05:20.299065",
          "exception": false,
          "start_time": "2021-08-30T15:05:20.267937",
          "status": "completed"
        },
        "tags": [],
        "id": "WXXlkBcFtNAZ"
      }
    },
    {
      "cell_type": "code",
      "source": [
        "data = df.iloc[:,1:].values\n",
        "labels = df['Disease'].values\n"
      ],
      "metadata": {
        "id": "BdpA7xLi-oKe"
      },
      "execution_count": 19,
      "outputs": []
    },
    {
      "cell_type": "markdown",
      "source": [
        "**Splitting the dataset to training (80%) and testing (20%)**\n",
        "\n"
      ],
      "metadata": {
        "papermill": {
          "duration": 0.030902,
          "end_time": "2021-08-30T15:05:20.497131",
          "exception": false,
          "start_time": "2021-08-30T15:05:20.466229",
          "status": "completed"
        },
        "tags": [],
        "id": "X8C_sBLBtNAa"
      }
    },
    {
      "cell_type": "code",
      "source": [
        "x_train, x_test, y_train, y_test = train_test_split(data, labels, train_size = 0.8,random_state=42)\n",
        "print(x_train.shape, x_test.shape, y_train.shape, y_test.shape)"
      ],
      "metadata": {
        "execution": {
          "iopub.status.busy": "2022-06-18T14:13:27.844081Z",
          "iopub.execute_input": "2022-06-18T14:13:27.844575Z",
          "iopub.status.idle": "2022-06-18T14:13:27.851848Z",
          "shell.execute_reply.started": "2022-06-18T14:13:27.844538Z",
          "shell.execute_reply": "2022-06-18T14:13:27.851028Z"
        },
        "trusted": true,
        "colab": {
          "base_uri": "https://localhost:8080/"
        },
        "id": "f2tlNje3tNAa",
        "outputId": "7dd97d54-f576-4615-b36e-8b1e213d4d1a"
      },
      "execution_count": 20,
      "outputs": [
        {
          "output_type": "stream",
          "name": "stdout",
          "text": [
            "(3936, 17) (984, 17) (3936,) (984,)\n"
          ]
        }
      ]
    },
    {
      "cell_type": "markdown",
      "source": [
        "\n",
        "### **Support vector classifier**"
      ],
      "metadata": {
        "papermill": {
          "duration": 0.03164,
          "end_time": "2021-08-30T15:05:20.636211",
          "exception": false,
          "start_time": "2021-08-30T15:05:20.604571",
          "status": "completed"
        },
        "tags": [],
        "id": "VH_M4ztntNAa"
      }
    },
    {
      "cell_type": "code",
      "source": [
        "SVM_unhyperd= SVC()\n",
        "SVM_unhyperd.fit(x_train, y_train)"
      ],
      "metadata": {
        "execution": {
          "iopub.status.busy": "2022-06-18T14:13:30.359444Z",
          "iopub.execute_input": "2022-06-18T14:13:30.359977Z",
          "iopub.status.idle": "2022-06-18T14:13:30.602466Z",
          "shell.execute_reply.started": "2022-06-18T14:13:30.359934Z",
          "shell.execute_reply": "2022-06-18T14:13:30.60186Z"
        },
        "trusted": true,
        "colab": {
          "base_uri": "https://localhost:8080/"
        },
        "id": "MRvyQuR3tNAa",
        "outputId": "01da6971-8f23-40c6-e710-a0135eb12479"
      },
      "execution_count": 21,
      "outputs": [
        {
          "output_type": "execute_result",
          "data": {
            "text/plain": [
              "SVC()"
            ]
          },
          "metadata": {},
          "execution_count": 21
        }
      ]
    },
    {
      "cell_type": "code",
      "source": [
        "preds = SVM_unhyperd.predict(x_test)\n",
        "conf_mat = confusion_matrix(y_test, preds)\n",
        "df_cm = pd.DataFrame(conf_mat, index=df['Disease'].unique(), columns=df['Disease'].unique())\n",
        "print('F1-score% =', f1_score(y_test, preds, average='macro')*100, '|', 'Accuracy% =', accuracy_score(y_test, preds)*100,'|', 'Precision% =', precision_score(y_test, preds,average='macro')*100 ,'|',  'recall% =', recall_score(y_test, preds,average='macro')*100)"
      ],
      "metadata": {
        "scrolled": true,
        "execution": {
          "iopub.status.busy": "2022-06-18T14:13:33.718649Z",
          "iopub.execute_input": "2022-06-18T14:13:33.719112Z",
          "iopub.status.idle": "2022-06-18T14:13:33.926314Z",
          "shell.execute_reply.started": "2022-06-18T14:13:33.719073Z",
          "shell.execute_reply": "2022-06-18T14:13:33.925515Z"
        },
        "trusted": true,
        "colab": {
          "base_uri": "https://localhost:8080/"
        },
        "id": "nTXeXjbrtNAb",
        "outputId": "faf99787-fe0a-4c11-b19b-246480ee5d17"
      },
      "execution_count": 22,
      "outputs": [
        {
          "output_type": "stream",
          "name": "stdout",
          "text": [
            "F1-score% = 93.10485856410196 | Accuracy% = 93.4959349593496 | Precision% = 94.2446688327875 | recall% = 93.21243856813689\n"
          ]
        }
      ]
    },
    {
      "cell_type": "code",
      "source": [
        "sns.heatmap(df_cm)"
      ],
      "metadata": {
        "execution": {
          "iopub.status.busy": "2022-06-18T14:13:38.275678Z",
          "iopub.execute_input": "2022-06-18T14:13:38.27595Z",
          "iopub.status.idle": "2022-06-18T14:13:38.691576Z",
          "shell.execute_reply.started": "2022-06-18T14:13:38.275922Z",
          "shell.execute_reply": "2022-06-18T14:13:38.690376Z"
        },
        "trusted": true,
        "colab": {
          "base_uri": "https://localhost:8080/",
          "height": 429
        },
        "id": "207TuMIZtNAb",
        "outputId": "acf5b4b1-727d-4dcb-a63a-7881d3c0c82a"
      },
      "execution_count": 23,
      "outputs": [
        {
          "output_type": "execute_result",
          "data": {
            "text/plain": [
              "<matplotlib.axes._subplots.AxesSubplot at 0x7f7f1d7aef50>"
            ]
          },
          "metadata": {},
          "execution_count": 23
        },
        {
          "output_type": "display_data",
          "data": {
            "text/plain": [
              "<Figure size 432x288 with 2 Axes>"
            ],
            "image/png": "[encoded data removed]"
          },
          "metadata": {
            "needs_background": "light"
          }
        }
      ]
    },
    {
      "cell_type": "code",
      "source": [
        "kfold = KFold(n_splits=10,shuffle=True,random_state=42)\n",
        "SVM_unhyperd_train =cross_val_score(SVM_unhyperd, x_train, y_train, cv=kfold, scoring='accuracy')\n",
        "pd.DataFrame(SVM_unhyperd_train,columns=['Scores'])\n",
        "print(\"Mean Accuracy: %.3f%%, Standard Deviation: (%.2f%%)\" % (SVM_unhyperd_train.mean()*100.0, SVM_unhyperd_train.std()*100.0))"
      ],
      "metadata": {
        "execution": {
          "iopub.status.busy": "2022-06-18T14:13:44.473443Z",
          "iopub.execute_input": "2022-06-18T14:13:44.473717Z",
          "iopub.status.idle": "2022-06-18T14:13:45.839272Z",
          "shell.execute_reply.started": "2022-06-18T14:13:44.473689Z",
          "shell.execute_reply": "2022-06-18T14:13:45.838457Z"
        },
        "trusted": true,
        "colab": {
          "base_uri": "https://localhost:8080/"
        },
        "id": "HDba0zBOtNAb",
        "outputId": "959b2e18-c4da-4845-c36b-ad0ae15fdf8f"
      },
      "execution_count": 24,
      "outputs": [
        {
          "output_type": "stream",
          "name": "stdout",
          "text": [
            "Mean Accuracy: 92.988%, Standard Deviation: (0.85%)\n"
          ]
        }
      ]
    },
    {
      "cell_type": "code",
      "source": [
        "kfold = KFold(n_splits=10,shuffle=True,random_state=42)\n",
        "SVM_unhyperd_test =cross_val_score(SVM_unhyperd, x_test, y_test, cv=kfold, scoring='accuracy')\n",
        "pd.DataFrame(SVM_unhyperd_test,columns=['Scores'])\n",
        "print(\"Mean Accuracy: %.3f%%, Standard Deviation: (%.2f%%)\" % (SVM_unhyperd_test.mean()*100.0, SVM_unhyperd_test.std()*100.0))"
      ],
      "metadata": {
        "execution": {
          "iopub.status.busy": "2022-06-18T14:13:46.253061Z",
          "iopub.execute_input": "2022-06-18T14:13:46.253336Z",
          "iopub.status.idle": "2022-06-18T14:13:46.529994Z",
          "shell.execute_reply.started": "2022-06-18T14:13:46.253308Z",
          "shell.execute_reply": "2022-06-18T14:13:46.529253Z"
        },
        "trusted": true,
        "colab": {
          "base_uri": "https://localhost:8080/"
        },
        "id": "WFZbedAxtNAc",
        "outputId": "a577b060-231b-4c91-9c74-8d705eb01046"
      },
      "execution_count": 25,
      "outputs": [
        {
          "output_type": "stream",
          "name": "stdout",
          "text": [
            "Mean Accuracy: 82.623%, Standard Deviation: (2.54%)\n"
          ]
        }
      ]
    },
    {
      "cell_type": "code",
      "source": [
        "SVM_unhyperd.predict([x_test[1]])\n"
      ],
      "metadata": {
        "colab": {
          "base_uri": "https://localhost:8080/"
        },
        "id": "Vhttns-W6OHx",
        "outputId": "0e2872cd-59eb-4f02-85ff-a6e022e3ec7f"
      },
      "execution_count": 26,
      "outputs": [
        {
          "output_type": "execute_result",
          "data": {
            "text/plain": [
              "array(['Peptic ulcer diseae'], dtype=object)"
            ]
          },
          "metadata": {},
          "execution_count": 26
        }
      ]
    },
    {
      "cell_type": "code",
      "source": [
        "SVM_unhyperd.predict([x_test[5]])"
      ],
      "metadata": {
        "colab": {
          "base_uri": "https://localhost:8080/"
        },
        "id": "uJ282-2F6lJa",
        "outputId": "74c9b485-702a-47d0-d2f6-297dc5dff791"
      },
      "execution_count": 27,
      "outputs": [
        {
          "output_type": "execute_result",
          "data": {
            "text/plain": [
              "array(['Hepatitis B'], dtype=object)"
            ]
          },
          "metadata": {},
          "execution_count": 27
        }
      ]
    },
    {
      "cell_type": "code",
      "source": [
        "SVM_unhyperd.predict([x_test[12]])"
      ],
      "metadata": {
        "colab": {
          "base_uri": "https://localhost:8080/"
        },
        "id": "WWkOT7ha6nru",
        "outputId": "961b6e7a-342b-4fdc-c344-f1a297281d9d"
      },
      "execution_count": 28,
      "outputs": [
        {
          "output_type": "execute_result",
          "data": {
            "text/plain": [
              "array(['Cervical spondylosis'], dtype=object)"
            ]
          },
          "metadata": {},
          "execution_count": 28
        }
      ]
    },
    {
      "cell_type": "code",
      "source": [
        "print(classification_report(y_test, preds))"
      ],
      "metadata": {
        "execution": {
          "iopub.status.busy": "2022-06-18T14:13:47.641589Z",
          "iopub.execute_input": "2022-06-18T14:13:47.642302Z",
          "iopub.status.idle": "2022-06-18T14:13:47.692717Z",
          "shell.execute_reply.started": "2022-06-18T14:13:47.642268Z",
          "shell.execute_reply": "2022-06-18T14:13:47.692137Z"
        },
        "trusted": true,
        "colab": {
          "base_uri": "https://localhost:8080/"
        },
        "id": "nEyacsxGtNAc",
        "outputId": "d9fe2279-aa22-4d61-ed8f-fb48f27f7337"
      },
      "execution_count": 29,
      "outputs": [
        {
          "output_type": "stream",
          "name": "stdout",
          "text": [
            "                                         precision    recall  f1-score   support\n",
            "\n",
            "(vertigo) Paroymsal  Positional Vertigo       0.88      0.83      0.86        18\n",
            "                                   AIDS       0.95      1.00      0.98        20\n",
            "                                   Acne       1.00      1.00      1.00        32\n",
            "                    Alcoholic hepatitis       0.96      0.86      0.91        29\n",
            "                                Allergy       0.89      0.84      0.86        19\n",
            "                              Arthritis       0.91      0.97      0.94        31\n",
            "                       Bronchial Asthma       0.85      0.61      0.71        28\n",
            "                   Cervical spondylosis       0.74      0.97      0.84        30\n",
            "                            Chicken pox       1.00      1.00      1.00        27\n",
            "                    Chronic cholestasis       0.75      0.95      0.84        19\n",
            "                            Common Cold       1.00      1.00      1.00        25\n",
            "                                 Dengue       1.00      1.00      1.00        22\n",
            "                               Diabetes       1.00      1.00      1.00        23\n",
            "           Dimorphic hemmorhoids(piles)       0.94      1.00      0.97        30\n",
            "                          Drug Reaction       1.00      0.90      0.95        21\n",
            "                       Fungal infection       0.86      1.00      0.93        25\n",
            "                                   GERD       0.88      0.96      0.92        24\n",
            "                        Gastroenteritis       0.58      0.95      0.72        20\n",
            "                           Heart attack       1.00      0.50      0.67        18\n",
            "                            Hepatitis B       1.00      1.00      1.00        28\n",
            "                            Hepatitis C       0.95      0.95      0.95        19\n",
            "                            Hepatitis D       1.00      1.00      1.00        22\n",
            "                            Hepatitis E       1.00      1.00      1.00        30\n",
            "                           Hypertension       0.96      0.79      0.87        29\n",
            "                        Hyperthyroidism       1.00      1.00      1.00        24\n",
            "                           Hypoglycemia       1.00      1.00      1.00        27\n",
            "                         Hypothyroidism       1.00      1.00      1.00        28\n",
            "                               Impetigo       1.00      0.96      0.98        24\n",
            "                               Jaundice       1.00      0.72      0.84        25\n",
            "                                Malaria       1.00      1.00      1.00        26\n",
            "                               Migraine       1.00      1.00      1.00        18\n",
            "                        Osteoarthristis       1.00      0.95      0.97        20\n",
            "           Paralysis (brain hemorrhage)       0.70      0.84      0.76        19\n",
            "                    Peptic ulcer diseae       0.90      1.00      0.95        27\n",
            "                              Pneumonia       1.00      1.00      1.00        21\n",
            "                              Psoriasis       1.00      1.00      1.00        22\n",
            "                           Tuberculosis       1.00      1.00      1.00        23\n",
            "                                Typhoid       1.00      1.00      1.00        20\n",
            "                Urinary tract infection       0.94      0.67      0.78        24\n",
            "                         Varicose veins       1.00      1.00      1.00        26\n",
            "                            hepatitis A       1.00      1.00      1.00        21\n",
            "\n",
            "                               accuracy                           0.93       984\n",
            "                              macro avg       0.94      0.93      0.93       984\n",
            "                           weighted avg       0.94      0.93      0.93       984\n",
            "\n"
          ]
        }
      ]
    },
    {
      "cell_type": "markdown",
      "source": [
        "## **Hyperparameter tuned SVC**"
      ],
      "metadata": {
        "id": "0icIgrnftNAc"
      }
    },
    {
      "cell_type": "code",
      "source": [
        "param_grid = {'C': [0.2,0.4,0.6], 'gamma': [0.2,0.3,0.4,0],'kernel': ['linear','poly', 'sigmoid']}\n",
        "grid = GridSearchCV(SVC(),param_grid,refit=True,verbose=2)\n",
        "grid.fit(x_train,y_train)\n",
        "print(grid.best_estimator_)\n",
        "grid_predictions = grid.predict(x_test)\n",
        "print(confusion_matrix(y_test,grid_predictions))\n",
        "print(classification_report(y_test,grid_predictions))"
      ],
      "metadata": {
        "execution": {
          "iopub.status.busy": "2022-06-18T14:13:57.271529Z",
          "iopub.execute_input": "2022-06-18T14:13:57.271867Z",
          "iopub.status.idle": "2022-06-18T14:13:57.274748Z",
          "shell.execute_reply.started": "2022-06-18T14:13:57.271839Z",
          "shell.execute_reply": "2022-06-18T14:13:57.27427Z"
        },
        "trusted": true,
        "id": "MZ2siI-6tNAc",
        "colab": {
          "base_uri": "https://localhost:8080/"
        },
        "outputId": "5c96f552-66e4-4c64-c22d-03a41735a020"
      },
      "execution_count": 30,
      "outputs": [
        {
          "output_type": "stream",
          "name": "stdout",
          "text": [
            "Fitting 5 folds for each of 36 candidates, totalling 180 fits\n",
            "[CV] END ....................C=0.2, gamma=0.2, kernel=linear; total time=   0.1s\n",
            "[CV] END ....................C=0.2, gamma=0.2, kernel=linear; total time=   0.1s\n",
            "[CV] END ....................C=0.2, gamma=0.2, kernel=linear; total time=   0.1s\n",
            "[CV] END ....................C=0.2, gamma=0.2, kernel=linear; total time=   0.1s\n",
            "[CV] END ....................C=0.2, gamma=0.2, kernel=linear; total time=   0.1s\n",
            "[CV] END ......................C=0.2, gamma=0.2, kernel=poly; total time=   0.1s\n",
            "[CV] END ......................C=0.2, gamma=0.2, kernel=poly; total time=   0.1s\n",
            "[CV] END ......................C=0.2, gamma=0.2, kernel=poly; total time=   0.1s\n",
            "[CV] END ......................C=0.2, gamma=0.2, kernel=poly; total time=   0.1s\n",
            "[CV] END ......................C=0.2, gamma=0.2, kernel=poly; total time=   0.1s\n",
            "[CV] END ...................C=0.2, gamma=0.2, kernel=sigmoid; total time=   1.5s\n",
            "[CV] END ...................C=0.2, gamma=0.2, kernel=sigmoid; total time=   1.5s\n",
            "[CV] END ...................C=0.2, gamma=0.2, kernel=sigmoid; total time=   1.5s\n",
            "[CV] END ...................C=0.2, gamma=0.2, kernel=sigmoid; total time=   1.5s\n",
            "[CV] END ...................C=0.2, gamma=0.2, kernel=sigmoid; total time=   1.5s\n",
            "[CV] END ....................C=0.2, gamma=0.3, kernel=linear; total time=   0.1s\n",
            "[CV] END ....................C=0.2, gamma=0.3, kernel=linear; total time=   0.1s\n",
            "[CV] END ....................C=0.2, gamma=0.3, kernel=linear; total time=   0.1s\n",
            "[CV] END ....................C=0.2, gamma=0.3, kernel=linear; total time=   0.1s\n",
            "[CV] END ....................C=0.2, gamma=0.3, kernel=linear; total time=   0.1s\n",
            "[CV] END ......................C=0.2, gamma=0.3, kernel=poly; total time=   0.1s\n",
            "[CV] END ......................C=0.2, gamma=0.3, kernel=poly; total time=   0.1s\n",
            "[CV] END ......................C=0.2, gamma=0.3, kernel=poly; total time=   0.1s\n",
            "[CV] END ......................C=0.2, gamma=0.3, kernel=poly; total time=   0.1s\n",
            "[CV] END ......................C=0.2, gamma=0.3, kernel=poly; total time=   0.1s\n",
            "[CV] END ...................C=0.2, gamma=0.3, kernel=sigmoid; total time=   1.2s\n",
            "[CV] END ...................C=0.2, gamma=0.3, kernel=sigmoid; total time=   1.2s\n",
            "[CV] END ...................C=0.2, gamma=0.3, kernel=sigmoid; total time=   1.2s\n",
            "[CV] END ...................C=0.2, gamma=0.3, kernel=sigmoid; total time=   1.2s\n",
            "[CV] END ...................C=0.2, gamma=0.3, kernel=sigmoid; total time=   1.2s\n",
            "[CV] END ....................C=0.2, gamma=0.4, kernel=linear; total time=   0.1s\n",
            "[CV] END ....................C=0.2, gamma=0.4, kernel=linear; total time=   0.1s\n",
            "[CV] END ....................C=0.2, gamma=0.4, kernel=linear; total time=   0.1s\n",
            "[CV] END ....................C=0.2, gamma=0.4, kernel=linear; total time=   0.1s\n",
            "[CV] END ....................C=0.2, gamma=0.4, kernel=linear; total time=   0.1s\n",
            "[CV] END ......................C=0.2, gamma=0.4, kernel=poly; total time=   0.1s\n",
            "[CV] END ......................C=0.2, gamma=0.4, kernel=poly; total time=   0.1s\n",
            "[CV] END ......................C=0.2, gamma=0.4, kernel=poly; total time=   0.1s\n",
            "[CV] END ......................C=0.2, gamma=0.4, kernel=poly; total time=   0.1s\n",
            "[CV] END ......................C=0.2, gamma=0.4, kernel=poly; total time=   0.1s\n",
            "[CV] END ...................C=0.2, gamma=0.4, kernel=sigmoid; total time=   1.0s\n",
            "[CV] END ...................C=0.2, gamma=0.4, kernel=sigmoid; total time=   1.0s\n",
            "[CV] END ...................C=0.2, gamma=0.4, kernel=sigmoid; total time=   1.0s\n",
            "[CV] END ...................C=0.2, gamma=0.4, kernel=sigmoid; total time=   1.0s\n",
            "[CV] END ...................C=0.2, gamma=0.4, kernel=sigmoid; total time=   1.1s\n",
            "[CV] END ......................C=0.2, gamma=0, kernel=linear; total time=   0.1s\n",
            "[CV] END ......................C=0.2, gamma=0, kernel=linear; total time=   0.1s\n",
            "[CV] END ......................C=0.2, gamma=0, kernel=linear; total time=   0.1s\n",
            "[CV] END ......................C=0.2, gamma=0, kernel=linear; total time=   0.1s\n",
            "[CV] END ......................C=0.2, gamma=0, kernel=linear; total time=   0.1s\n",
            "[CV] END ........................C=0.2, gamma=0, kernel=poly; total time=   0.9s\n",
            "[CV] END ........................C=0.2, gamma=0, kernel=poly; total time=   0.9s\n",
            "[CV] END ........................C=0.2, gamma=0, kernel=poly; total time=   0.9s\n",
            "[CV] END ........................C=0.2, gamma=0, kernel=poly; total time=   0.9s\n",
            "[CV] END ........................C=0.2, gamma=0, kernel=poly; total time=   0.9s\n",
            "[CV] END .....................C=0.2, gamma=0, kernel=sigmoid; total time=   0.9s\n",
            "[CV] END .....................C=0.2, gamma=0, kernel=sigmoid; total time=   0.9s\n",
            "[CV] END .....................C=0.2, gamma=0, kernel=sigmoid; total time=   0.8s\n",
            "[CV] END .....................C=0.2, gamma=0, kernel=sigmoid; total time=   0.8s\n",
            "[CV] END .....................C=0.2, gamma=0, kernel=sigmoid; total time=   0.8s\n",
            "[CV] END ....................C=0.4, gamma=0.2, kernel=linear; total time=   0.1s\n",
            "[CV] END ....................C=0.4, gamma=0.2, kernel=linear; total time=   0.1s\n",
            "[CV] END ....................C=0.4, gamma=0.2, kernel=linear; total time=   0.1s\n",
            "[CV] END ....................C=0.4, gamma=0.2, kernel=linear; total time=   0.1s\n",
            "[CV] END ....................C=0.4, gamma=0.2, kernel=linear; total time=   0.1s\n",
            "[CV] END ......................C=0.4, gamma=0.2, kernel=poly; total time=   0.1s\n",
            "[CV] END ......................C=0.4, gamma=0.2, kernel=poly; total time=   0.1s\n",
            "[CV] END ......................C=0.4, gamma=0.2, kernel=poly; total time=   0.1s\n",
            "[CV] END ......................C=0.4, gamma=0.2, kernel=poly; total time=   0.1s\n",
            "[CV] END ......................C=0.4, gamma=0.2, kernel=poly; total time=   0.1s\n",
            "[CV] END ...................C=0.4, gamma=0.2, kernel=sigmoid; total time=   1.5s\n",
            "[CV] END ...................C=0.4, gamma=0.2, kernel=sigmoid; total time=   1.5s\n",
            "[CV] END ...................C=0.4, gamma=0.2, kernel=sigmoid; total time=   1.4s\n",
            "[CV] END ...................C=0.4, gamma=0.2, kernel=sigmoid; total time=   1.4s\n",
            "[CV] END ...................C=0.4, gamma=0.2, kernel=sigmoid; total time=   1.4s\n",
            "[CV] END ....................C=0.4, gamma=0.3, kernel=linear; total time=   0.1s\n",
            "[CV] END ....................C=0.4, gamma=0.3, kernel=linear; total time=   0.1s\n",
            "[CV] END ....................C=0.4, gamma=0.3, kernel=linear; total time=   0.1s\n",
            "[CV] END ....................C=0.4, gamma=0.3, kernel=linear; total time=   0.1s\n",
            "[CV] END ....................C=0.4, gamma=0.3, kernel=linear; total time=   0.1s\n",
            "[CV] END ......................C=0.4, gamma=0.3, kernel=poly; total time=   0.1s\n",
            "[CV] END ......................C=0.4, gamma=0.3, kernel=poly; total time=   0.1s\n",
            "[CV] END ......................C=0.4, gamma=0.3, kernel=poly; total time=   0.1s\n",
            "[CV] END ......................C=0.4, gamma=0.3, kernel=poly; total time=   0.1s\n",
            "[CV] END ......................C=0.4, gamma=0.3, kernel=poly; total time=   0.1s\n",
            "[CV] END ...................C=0.4, gamma=0.3, kernel=sigmoid; total time=   1.2s\n",
            "[CV] END ...................C=0.4, gamma=0.3, kernel=sigmoid; total time=   1.2s\n",
            "[CV] END ...................C=0.4, gamma=0.3, kernel=sigmoid; total time=   1.2s\n",
            "[CV] END ...................C=0.4, gamma=0.3, kernel=sigmoid; total time=   1.2s\n",
            "[CV] END ...................C=0.4, gamma=0.3, kernel=sigmoid; total time=   1.2s\n",
            "[CV] END ....................C=0.4, gamma=0.4, kernel=linear; total time=   0.1s\n",
            "[CV] END ....................C=0.4, gamma=0.4, kernel=linear; total time=   0.1s\n",
            "[CV] END ....................C=0.4, gamma=0.4, kernel=linear; total time=   0.1s\n",
            "[CV] END ....................C=0.4, gamma=0.4, kernel=linear; total time=   0.1s\n",
            "[CV] END ....................C=0.4, gamma=0.4, kernel=linear; total time=   0.1s\n",
            "[CV] END ......................C=0.4, gamma=0.4, kernel=poly; total time=   0.1s\n",
            "[CV] END ......................C=0.4, gamma=0.4, kernel=poly; total time=   0.1s\n",
            "[CV] END ......................C=0.4, gamma=0.4, kernel=poly; total time=   0.1s\n",
            "[CV] END ......................C=0.4, gamma=0.4, kernel=poly; total time=   0.1s\n",
            "[CV] END ......................C=0.4, gamma=0.4, kernel=poly; total time=   0.1s\n",
            "[CV] END ...................C=0.4, gamma=0.4, kernel=sigmoid; total time=   1.0s\n",
            "[CV] END ...................C=0.4, gamma=0.4, kernel=sigmoid; total time=   1.1s\n",
            "[CV] END ...................C=0.4, gamma=0.4, kernel=sigmoid; total time=   1.1s\n",
            "[CV] END ...................C=0.4, gamma=0.4, kernel=sigmoid; total time=   1.1s\n",
            "[CV] END ...................C=0.4, gamma=0.4, kernel=sigmoid; total time=   1.0s\n",
            "[CV] END ......................C=0.4, gamma=0, kernel=linear; total time=   0.1s\n",
            "[CV] END ......................C=0.4, gamma=0, kernel=linear; total time=   0.1s\n",
            "[CV] END ......................C=0.4, gamma=0, kernel=linear; total time=   0.1s\n",
            "[CV] END ......................C=0.4, gamma=0, kernel=linear; total time=   0.1s\n",
            "[CV] END ......................C=0.4, gamma=0, kernel=linear; total time=   0.1s\n",
            "[CV] END ........................C=0.4, gamma=0, kernel=poly; total time=   0.9s\n",
            "[CV] END ........................C=0.4, gamma=0, kernel=poly; total time=   0.9s\n",
            "[CV] END ........................C=0.4, gamma=0, kernel=poly; total time=   0.9s\n",
            "[CV] END ........................C=0.4, gamma=0, kernel=poly; total time=   0.9s\n",
            "[CV] END ........................C=0.4, gamma=0, kernel=poly; total time=   0.9s\n",
            "[CV] END .....................C=0.4, gamma=0, kernel=sigmoid; total time=   0.8s\n",
            "[CV] END .....................C=0.4, gamma=0, kernel=sigmoid; total time=   0.8s\n",
            "[CV] END .....................C=0.4, gamma=0, kernel=sigmoid; total time=   0.8s\n",
            "[CV] END .....................C=0.4, gamma=0, kernel=sigmoid; total time=   0.8s\n",
            "[CV] END .....................C=0.4, gamma=0, kernel=sigmoid; total time=   0.8s\n",
            "[CV] END ....................C=0.6, gamma=0.2, kernel=linear; total time=   0.1s\n",
            "[CV] END ....................C=0.6, gamma=0.2, kernel=linear; total time=   0.1s\n",
            "[CV] END ....................C=0.6, gamma=0.2, kernel=linear; total time=   0.1s\n",
            "[CV] END ....................C=0.6, gamma=0.2, kernel=linear; total time=   0.1s\n",
            "[CV] END ....................C=0.6, gamma=0.2, kernel=linear; total time=   0.1s\n",
            "[CV] END ......................C=0.6, gamma=0.2, kernel=poly; total time=   0.1s\n",
            "[CV] END ......................C=0.6, gamma=0.2, kernel=poly; total time=   0.1s\n",
            "[CV] END ......................C=0.6, gamma=0.2, kernel=poly; total time=   0.1s\n",
            "[CV] END ......................C=0.6, gamma=0.2, kernel=poly; total time=   0.1s\n",
            "[CV] END ......................C=0.6, gamma=0.2, kernel=poly; total time=   0.1s\n",
            "[CV] END ...................C=0.6, gamma=0.2, kernel=sigmoid; total time=   1.4s\n",
            "[CV] END ...................C=0.6, gamma=0.2, kernel=sigmoid; total time=   1.4s\n",
            "[CV] END ...................C=0.6, gamma=0.2, kernel=sigmoid; total time=   1.4s\n",
            "[CV] END ...................C=0.6, gamma=0.2, kernel=sigmoid; total time=   1.4s\n",
            "[CV] END ...................C=0.6, gamma=0.2, kernel=sigmoid; total time=   1.5s\n",
            "[CV] END ....................C=0.6, gamma=0.3, kernel=linear; total time=   0.1s\n",
            "[CV] END ....................C=0.6, gamma=0.3, kernel=linear; total time=   0.1s\n",
            "[CV] END ....................C=0.6, gamma=0.3, kernel=linear; total time=   0.1s\n",
            "[CV] END ....................C=0.6, gamma=0.3, kernel=linear; total time=   0.1s\n",
            "[CV] END ....................C=0.6, gamma=0.3, kernel=linear; total time=   0.1s\n",
            "[CV] END ......................C=0.6, gamma=0.3, kernel=poly; total time=   0.1s\n",
            "[CV] END ......................C=0.6, gamma=0.3, kernel=poly; total time=   0.1s\n",
            "[CV] END ......................C=0.6, gamma=0.3, kernel=poly; total time=   0.1s\n",
            "[CV] END ......................C=0.6, gamma=0.3, kernel=poly; total time=   0.1s\n",
            "[CV] END ......................C=0.6, gamma=0.3, kernel=poly; total time=   0.1s\n",
            "[CV] END ...................C=0.6, gamma=0.3, kernel=sigmoid; total time=   1.8s\n",
            "[CV] END ...................C=0.6, gamma=0.3, kernel=sigmoid; total time=   1.9s\n",
            "[CV] END ...................C=0.6, gamma=0.3, kernel=sigmoid; total time=   1.3s\n",
            "[CV] END ...................C=0.6, gamma=0.3, kernel=sigmoid; total time=   1.2s\n",
            "[CV] END ...................C=0.6, gamma=0.3, kernel=sigmoid; total time=   1.2s\n",
            "[CV] END ....................C=0.6, gamma=0.4, kernel=linear; total time=   0.1s\n",
            "[CV] END ....................C=0.6, gamma=0.4, kernel=linear; total time=   0.1s\n",
            "[CV] END ....................C=0.6, gamma=0.4, kernel=linear; total time=   0.1s\n",
            "[CV] END ....................C=0.6, gamma=0.4, kernel=linear; total time=   0.1s\n",
            "[CV] END ....................C=0.6, gamma=0.4, kernel=linear; total time=   0.1s\n",
            "[CV] END ......................C=0.6, gamma=0.4, kernel=poly; total time=   0.1s\n",
            "[CV] END ......................C=0.6, gamma=0.4, kernel=poly; total time=   0.1s\n",
            "[CV] END ......................C=0.6, gamma=0.4, kernel=poly; total time=   0.1s\n",
            "[CV] END ......................C=0.6, gamma=0.4, kernel=poly; total time=   0.1s\n",
            "[CV] END ......................C=0.6, gamma=0.4, kernel=poly; total time=   0.1s\n",
            "[CV] END ...................C=0.6, gamma=0.4, kernel=sigmoid; total time=   1.1s\n",
            "[CV] END ...................C=0.6, gamma=0.4, kernel=sigmoid; total time=   1.0s\n",
            "[CV] END ...................C=0.6, gamma=0.4, kernel=sigmoid; total time=   1.1s\n",
            "[CV] END ...................C=0.6, gamma=0.4, kernel=sigmoid; total time=   1.0s\n",
            "[CV] END ...................C=0.6, gamma=0.4, kernel=sigmoid; total time=   1.1s\n",
            "[CV] END ......................C=0.6, gamma=0, kernel=linear; total time=   0.1s\n",
            "[CV] END ......................C=0.6, gamma=0, kernel=linear; total time=   0.1s\n",
            "[CV] END ......................C=0.6, gamma=0, kernel=linear; total time=   0.1s\n",
            "[CV] END ......................C=0.6, gamma=0, kernel=linear; total time=   0.1s\n",
            "[CV] END ......................C=0.6, gamma=0, kernel=linear; total time=   0.1s\n",
            "[CV] END ........................C=0.6, gamma=0, kernel=poly; total time=   0.9s\n",
            "[CV] END ........................C=0.6, gamma=0, kernel=poly; total time=   0.9s\n",
            "[CV] END ........................C=0.6, gamma=0, kernel=poly; total time=   0.9s\n",
            "[CV] END ........................C=0.6, gamma=0, kernel=poly; total time=   1.4s\n",
            "[CV] END ........................C=0.6, gamma=0, kernel=poly; total time=   0.9s\n",
            "[CV] END .....................C=0.6, gamma=0, kernel=sigmoid; total time=   0.8s\n",
            "[CV] END .....................C=0.6, gamma=0, kernel=sigmoid; total time=   0.9s\n",
            "[CV] END .....................C=0.6, gamma=0, kernel=sigmoid; total time=   0.8s\n",
            "[CV] END .....................C=0.6, gamma=0, kernel=sigmoid; total time=   0.8s\n",
            "[CV] END .....................C=0.6, gamma=0, kernel=sigmoid; total time=   0.8s\n",
            "SVC(C=0.2, gamma=0.2, kernel='poly')\n",
            "[[18  0  0 ...  0  0  0]\n",
            " [ 0 20  0 ...  0  0  0]\n",
            " [ 0  0 32 ...  0  0  0]\n",
            " ...\n",
            " [ 0  0  0 ... 24  0  0]\n",
            " [ 0  0  0 ...  0 26  0]\n",
            " [ 0  0  0 ...  0  0 21]]\n",
            "                                         precision    recall  f1-score   support\n",
            "\n",
            "(vertigo) Paroymsal  Positional Vertigo       1.00      1.00      1.00        18\n",
            "                                   AIDS       1.00      1.00      1.00        20\n",
            "                                   Acne       1.00      1.00      1.00        32\n",
            "                    Alcoholic hepatitis       1.00      1.00      1.00        29\n",
            "                                Allergy       0.90      1.00      0.95        19\n",
            "                              Arthritis       1.00      1.00      1.00        31\n",
            "                       Bronchial Asthma       1.00      1.00      1.00        28\n",
            "                   Cervical spondylosis       0.94      1.00      0.97        30\n",
            "                            Chicken pox       1.00      1.00      1.00        27\n",
            "                    Chronic cholestasis       1.00      1.00      1.00        19\n",
            "                            Common Cold       1.00      1.00      1.00        25\n",
            "                                 Dengue       1.00      1.00      1.00        22\n",
            "                               Diabetes       1.00      1.00      1.00        23\n",
            "           Dimorphic hemmorhoids(piles)       1.00      1.00      1.00        30\n",
            "                          Drug Reaction       1.00      1.00      1.00        21\n",
            "                       Fungal infection       1.00      1.00      1.00        25\n",
            "                                   GERD       1.00      1.00      1.00        24\n",
            "                        Gastroenteritis       1.00      0.95      0.97        20\n",
            "                           Heart attack       1.00      1.00      1.00        18\n",
            "                            Hepatitis B       1.00      1.00      1.00        28\n",
            "                            Hepatitis C       1.00      1.00      1.00        19\n",
            "                            Hepatitis D       1.00      1.00      1.00        22\n",
            "                            Hepatitis E       1.00      1.00      1.00        30\n",
            "                           Hypertension       1.00      0.93      0.96        29\n",
            "                        Hyperthyroidism       1.00      1.00      1.00        24\n",
            "                           Hypoglycemia       1.00      1.00      1.00        27\n",
            "                         Hypothyroidism       1.00      1.00      1.00        28\n",
            "                               Impetigo       1.00      1.00      1.00        24\n",
            "                               Jaundice       1.00      1.00      1.00        25\n",
            "                                Malaria       1.00      1.00      1.00        26\n",
            "                               Migraine       1.00      1.00      1.00        18\n",
            "                        Osteoarthristis       1.00      1.00      1.00        20\n",
            "           Paralysis (brain hemorrhage)       1.00      0.95      0.97        19\n",
            "                    Peptic ulcer diseae       1.00      1.00      1.00        27\n",
            "                              Pneumonia       1.00      1.00      1.00        21\n",
            "                              Psoriasis       1.00      1.00      1.00        22\n",
            "                           Tuberculosis       1.00      1.00      1.00        23\n",
            "                                Typhoid       1.00      1.00      1.00        20\n",
            "                Urinary tract infection       1.00      1.00      1.00        24\n",
            "                         Varicose veins       1.00      1.00      1.00        26\n",
            "                            hepatitis A       1.00      1.00      1.00        21\n",
            "\n",
            "                               accuracy                           1.00       984\n",
            "                              macro avg       1.00      1.00      1.00       984\n",
            "                           weighted avg       1.00      1.00      1.00       984\n",
            "\n"
          ]
        }
      ]
    },
    {
      "cell_type": "code",
      "source": [
        "SVM_hyperd = SVC(C=0.02, gamma=0.3, kernel='poly')\n",
        "SVM_hyperd.fit(x_train, y_train)\n",
        "preds = SVM_hyperd.predict(x_test)\n",
        "conf_mat = confusion_matrix(y_test, preds)\n",
        "df_cm = pd.DataFrame(conf_mat, index=df['Disease'].unique(), columns=df['Disease'].unique())\n",
        "print('F1-score% =', f1_score(y_test, preds, average='macro')*100, '|', 'Accuracy% =', accuracy_score(y_test, preds)*100 ,'|', 'Precision% =', precision_score(y_test, preds,average='macro')*100 ,'|',  'recall% =', recall_score(y_test, preds,average='macro')*100)\n",
        "sns.heatmap(df_cm)"
      ],
      "metadata": {
        "execution": {
          "iopub.status.busy": "2022-06-18T14:13:58.91268Z",
          "iopub.execute_input": "2022-06-18T14:13:58.913036Z",
          "iopub.status.idle": "2022-06-18T14:13:59.40305Z",
          "shell.execute_reply.started": "2022-06-18T14:13:58.913006Z",
          "shell.execute_reply": "2022-06-18T14:13:59.402079Z"
        },
        "trusted": true,
        "colab": {
          "base_uri": "https://localhost:8080/",
          "height": 446
        },
        "id": "rYU2SWl2tNAd",
        "outputId": "dedc3a34-cdd8-4c08-9ec3-72174e44f954"
      },
      "execution_count": 31,
      "outputs": [
        {
          "output_type": "stream",
          "name": "stdout",
          "text": [
            "F1-score% = 99.58380389536958 | Accuracy% = 99.59349593495935 | Precision% = 99.61527293844367 | recall% = 99.58147049710061\n"
          ]
        },
        {
          "output_type": "execute_result",
          "data": {
            "text/plain": [
              "<matplotlib.axes._subplots.AxesSubplot at 0x7f7f1a5fefd0>"
            ]
          },
          "metadata": {},
          "execution_count": 31
        },
        {
          "output_type": "display_data",
          "data": {
            "text/plain": [
              "<Figure size 432x288 with 2 Axes>"
            ],
            "image/png": "[encoded data removed]"
          },
          "metadata": {
            "needs_background": "light"
          }
        }
      ]
    },
    {
      "cell_type": "code",
      "source": [
        "kfold = KFold(n_splits=10,shuffle=True,random_state=42)\n",
        "SVM_hyperd_train =cross_val_score(SVM_hyperd, x_train, y_train, cv=kfold, scoring='accuracy')\n",
        "pd.DataFrame(SVM_hyperd_train,columns=['Scores'])\n",
        "print(\"Mean Accuracy: %.3f%%, Standard Deviation: (%.2f%%)\" % (SVM_hyperd_train.mean()*100.0, SVM_hyperd_train.std()*100.0))"
      ],
      "metadata": {
        "execution": {
          "iopub.status.busy": "2022-06-18T14:14:02.218149Z",
          "iopub.execute_input": "2022-06-18T14:14:02.218905Z",
          "iopub.status.idle": "2022-06-18T14:14:02.681684Z",
          "shell.execute_reply.started": "2022-06-18T14:14:02.218872Z",
          "shell.execute_reply": "2022-06-18T14:14:02.680849Z"
        },
        "trusted": true,
        "colab": {
          "base_uri": "https://localhost:8080/"
        },
        "id": "TDRK0-jntNAd",
        "outputId": "5b94901e-060f-4eab-a4fc-ea239f3bb744"
      },
      "execution_count": 32,
      "outputs": [
        {
          "output_type": "stream",
          "name": "stdout",
          "text": [
            "Mean Accuracy: 99.492%, Standard Deviation: (0.38%)\n"
          ]
        }
      ]
    },
    {
      "cell_type": "code",
      "source": [
        "kfold = KFold(n_splits=10,shuffle=True,random_state=42)\n",
        "SVM_hyperd_test =cross_val_score(SVM_hyperd, x_test, y_test, cv=kfold, scoring='accuracy')\n",
        "pd.DataFrame(SVM_hyperd_test,columns=['Scores'])\n",
        "print(\"Mean Accuracy: %.3f%%, Standard Deviation: (%.2f%%)\" % (SVM_hyperd_test.mean()*100.0, SVM_hyperd_test.std()*100.0))"
      ],
      "metadata": {
        "execution": {
          "iopub.status.busy": "2022-06-18T14:14:06.095229Z",
          "iopub.execute_input": "2022-06-18T14:14:06.095489Z",
          "iopub.status.idle": "2022-06-18T14:14:06.245023Z",
          "shell.execute_reply.started": "2022-06-18T14:14:06.095445Z",
          "shell.execute_reply": "2022-06-18T14:14:06.244212Z"
        },
        "trusted": true,
        "colab": {
          "base_uri": "https://localhost:8080/"
        },
        "id": "BIZTUwkjtNAd",
        "outputId": "37fa31aa-624e-4203-d07c-f110c619729c"
      },
      "execution_count": 33,
      "outputs": [
        {
          "output_type": "stream",
          "name": "stdout",
          "text": [
            "Mean Accuracy: 96.639%, Standard Deviation: (1.94%)\n"
          ]
        }
      ]
    },
    {
      "cell_type": "code",
      "source": [
        "SVM_hyperd.predict([x_test[1]])\n"
      ],
      "metadata": {
        "colab": {
          "base_uri": "https://localhost:8080/"
        },
        "id": "HKy4HNUi6uxh",
        "outputId": "3d068f37-c4f5-42b9-8841-9849dd5474bd"
      },
      "execution_count": 34,
      "outputs": [
        {
          "output_type": "execute_result",
          "data": {
            "text/plain": [
              "array(['Peptic ulcer diseae'], dtype=object)"
            ]
          },
          "metadata": {},
          "execution_count": 34
        }
      ]
    },
    {
      "cell_type": "code",
      "source": [
        "SVM_hyperd.predict([x_test[5]])"
      ],
      "metadata": {
        "colab": {
          "base_uri": "https://localhost:8080/"
        },
        "id": "TYU8ML3V6xhE",
        "outputId": "932eefb8-5813-4fc2-a49a-ef960e82282a"
      },
      "execution_count": 35,
      "outputs": [
        {
          "output_type": "execute_result",
          "data": {
            "text/plain": [
              "array(['Hepatitis B'], dtype=object)"
            ]
          },
          "metadata": {},
          "execution_count": 35
        }
      ]
    },
    {
      "cell_type": "code",
      "source": [
        "SVM_hyperd.predict([x_test[12]])"
      ],
      "metadata": {
        "colab": {
          "base_uri": "https://localhost:8080/"
        },
        "id": "zcKLvZ9x6zs1",
        "outputId": "32094e02-7be2-4108-99fe-07efb7a279ce"
      },
      "execution_count": 36,
      "outputs": [
        {
          "output_type": "execute_result",
          "data": {
            "text/plain": [
              "array(['Cervical spondylosis'], dtype=object)"
            ]
          },
          "metadata": {},
          "execution_count": 36
        }
      ]
    },
    {
      "cell_type": "markdown",
      "source": [
        "# Naive Bayes Model"
      ],
      "metadata": {
        "id": "GxaHklOltNAd"
      }
    },
    {
      "cell_type": "code",
      "source": [
        "from sklearn.naive_bayes import GaussianNB\n",
        "gaussian = GaussianNB()\n",
        "gaussian.fit(x_train, y_train)\n",
        "preds=gaussian.predict(x_test)\n",
        "conf_mat = confusion_matrix(y_test, preds)\n",
        "df_cm = pd.DataFrame(conf_mat, index=df['Disease'].unique(), columns=df['Disease'].unique())\n",
        "print('F1-score% =', f1_score(y_test, preds, average='macro')*100, '|', 'Accuracy% =', accuracy_score(y_test, preds)*100 ,'|', 'Precision% =', precision_score(y_test, preds,average='macro')*100 ,'|',  'recall% =', recall_score(y_test, preds,average='macro')*100)\n",
        "sns.heatmap(df_cm)"
      ],
      "metadata": {
        "execution": {
          "iopub.status.busy": "2022-06-18T14:14:10.715Z",
          "iopub.execute_input": "2022-06-18T14:14:10.715855Z",
          "iopub.status.idle": "2022-06-18T14:14:11.162785Z",
          "shell.execute_reply.started": "2022-06-18T14:14:10.71582Z",
          "shell.execute_reply": "2022-06-18T14:14:11.161994Z"
        },
        "trusted": true,
        "colab": {
          "base_uri": "https://localhost:8080/",
          "height": 446
        },
        "id": "HA3WiTTotNAe",
        "outputId": "ebb1693f-34af-4731-df39-87190bc70701"
      },
      "execution_count": 37,
      "outputs": [
        {
          "output_type": "stream",
          "name": "stdout",
          "text": [
            "F1-score% = 86.58357842139314 | Accuracy% = 87.70325203252033 | Precision% = 88.66837788311372 | recall% = 87.43870293145767\n"
          ]
        },
        {
          "output_type": "execute_result",
          "data": {
            "text/plain": [
              "<matplotlib.axes._subplots.AxesSubplot at 0x7f7f1a4a8750>"
            ]
          },
          "metadata": {},
          "execution_count": 37
        },
        {
          "output_type": "display_data",
          "data": {
            "text/plain": [
              "<Figure size 432x288 with 2 Axes>"
            ],
            "image/png": "[encoded data removed]"
          },
          "metadata": {
            "needs_background": "light"
          }
        }
      ]
    },
    {
      "cell_type": "code",
      "source": [
        "kfold = KFold(n_splits=10,shuffle=True,random_state=42)\n",
        "gaussian_train =cross_val_score(gaussian, x_train, y_train, cv=kfold, scoring='accuracy')\n",
        "pd.DataFrame(gaussian_train,columns=['Scores'])\n",
        "print(\"Mean Accuracy: %.3f%%, Standard Deviation: (%.2f%%)\" % (gaussian_train.mean()*100.0, gaussian_train.std()*100.0))"
      ],
      "metadata": {
        "execution": {
          "iopub.status.busy": "2022-06-18T14:14:14.205561Z",
          "iopub.execute_input": "2022-06-18T14:14:14.205811Z",
          "iopub.status.idle": "2022-06-18T14:14:14.333042Z",
          "shell.execute_reply.started": "2022-06-18T14:14:14.205784Z",
          "shell.execute_reply": "2022-06-18T14:14:14.332267Z"
        },
        "trusted": true,
        "colab": {
          "base_uri": "https://localhost:8080/"
        },
        "id": "5GTJJHRktNAe",
        "outputId": "9ff7b1e3-55f4-4c68-dec8-79e94c3cf642"
      },
      "execution_count": 38,
      "outputs": [
        {
          "output_type": "stream",
          "name": "stdout",
          "text": [
            "Mean Accuracy: 86.840%, Standard Deviation: (1.65%)\n"
          ]
        }
      ]
    },
    {
      "cell_type": "code",
      "source": [
        "kfold = KFold(n_splits=10,shuffle=True,random_state=42)\n",
        "gaussian_test =cross_val_score(gaussian, x_test, y_test, cv=kfold, scoring='accuracy')\n",
        "pd.DataFrame(gaussian_test,columns=['Scores'])\n",
        "print(\"Mean Accuracy: %.3f%%, Standard Deviation: (%.2f%%)\" % (gaussian_test.mean()*100.0, gaussian_test.std()*100.0))"
      ],
      "metadata": {
        "execution": {
          "iopub.status.busy": "2022-06-18T14:14:16.846012Z",
          "iopub.execute_input": "2022-06-18T14:14:16.846275Z",
          "iopub.status.idle": "2022-06-18T14:14:16.916451Z",
          "shell.execute_reply.started": "2022-06-18T14:14:16.846246Z",
          "shell.execute_reply": "2022-06-18T14:14:16.915725Z"
        },
        "trusted": true,
        "colab": {
          "base_uri": "https://localhost:8080/"
        },
        "id": "Q9cT1Oz_tNAe",
        "outputId": "672fbc9c-c310-47e8-8597-5f4152fddd9e"
      },
      "execution_count": 39,
      "outputs": [
        {
          "output_type": "stream",
          "name": "stdout",
          "text": [
            "Mean Accuracy: 85.666%, Standard Deviation: (1.77%)\n"
          ]
        }
      ]
    },
    {
      "cell_type": "code",
      "source": [
        "gaussian.predict([x_test[1]])\n"
      ],
      "metadata": {
        "colab": {
          "base_uri": "https://localhost:8080/"
        },
        "id": "YfI5URjQMCYE",
        "outputId": "5bbdbf6e-8329-451d-fe3c-26098aff3308"
      },
      "execution_count": 40,
      "outputs": [
        {
          "output_type": "execute_result",
          "data": {
            "text/plain": [
              "array(['Peptic ulcer diseae'], dtype='<U39')"
            ]
          },
          "metadata": {},
          "execution_count": 40
        }
      ]
    },
    {
      "cell_type": "code",
      "source": [
        "gaussian.predict([x_test[46]])"
      ],
      "metadata": {
        "colab": {
          "base_uri": "https://localhost:8080/"
        },
        "id": "Som3YmWpMQt5",
        "outputId": "7c134142-8d4d-4eb5-a536-65986017d7d0"
      },
      "execution_count": 41,
      "outputs": [
        {
          "output_type": "execute_result",
          "data": {
            "text/plain": [
              "array(['Arthritis'], dtype='<U39')"
            ]
          },
          "metadata": {},
          "execution_count": 41
        }
      ]
    },
    {
      "cell_type": "code",
      "source": [
        "gaussian.predict([x_test[69]])"
      ],
      "metadata": {
        "colab": {
          "base_uri": "https://localhost:8080/"
        },
        "id": "y5P3wW2nMcSG",
        "outputId": "8aef616c-bea1-4161-a19f-f7e97648d680"
      },
      "execution_count": 42,
      "outputs": [
        {
          "output_type": "execute_result",
          "data": {
            "text/plain": [
              "array(['Tuberculosis'], dtype='<U39')"
            ]
          },
          "metadata": {},
          "execution_count": 42
        }
      ]
    },
    {
      "cell_type": "markdown",
      "source": [
        "# **Decision Tree**"
      ],
      "metadata": {
        "id": "Z55SOh0ttNAe"
      }
    },
    {
      "cell_type": "code",
      "source": [
        "tree =DecisionTreeClassifier(criterion='gini',random_state=42,max_depth=13)\n",
        "tree.fit(x_train, y_train)\n",
        "preds=tree.predict(x_test)\n",
        "conf_mat = confusion_matrix(y_test, preds)\n",
        "df_cm = pd.DataFrame(conf_mat, index=df['Disease'].unique(), columns=df['Disease'].unique())\n",
        "print('F1-score% =', f1_score(y_test, preds, average='macro')*100, '|', 'Accuracy% =', accuracy_score(y_test, preds)*100,'|', 'Precision% =', precision_score(y_test, preds,average='macro')*100 ,'|',  'recall% =', recall_score(y_test, preds,average='macro')*100)\n",
        "sns.heatmap(df_cm)"
      ],
      "metadata": {
        "execution": {
          "iopub.status.busy": "2022-06-18T14:14:19.611325Z",
          "iopub.execute_input": "2022-06-18T14:14:19.61184Z",
          "iopub.status.idle": "2022-06-18T14:14:20.160064Z",
          "shell.execute_reply.started": "2022-06-18T14:14:19.611805Z",
          "shell.execute_reply": "2022-06-18T14:14:20.159326Z"
        },
        "trusted": true,
        "colab": {
          "base_uri": "https://localhost:8080/",
          "height": 446
        },
        "id": "TVb3WEy_tNAe",
        "outputId": "5c689a5b-0d19-4562-9090-89ebec96a2ca"
      },
      "execution_count": 43,
      "outputs": [
        {
          "output_type": "stream",
          "name": "stdout",
          "text": [
            "F1-score% = 95.7812664665753 | Accuracy% = 95.83333333333334 | Precision% = 97.79234551238793 | recall% = 95.44777143352154\n"
          ]
        },
        {
          "output_type": "execute_result",
          "data": {
            "text/plain": [
              "<matplotlib.axes._subplots.AxesSubplot at 0x7f7f1a3c0950>"
            ]
          },
          "metadata": {},
          "execution_count": 43
        },
        {
          "output_type": "display_data",
          "data": {
            "text/plain": [
              "<Figure size 432x288 with 2 Axes>"
            ],
            "image/png": "[encoded data removed]"
          },
          "metadata": {
            "needs_background": "light"
          }
        }
      ]
    },
    {
      "cell_type": "code",
      "source": [
        "kfold = KFold(n_splits=10,shuffle=True,random_state=42)\n",
        "tree_train =cross_val_score(tree, x_train, y_train, cv=kfold, scoring='accuracy')\n",
        "pd.DataFrame(tree_train,columns=['Scores'])\n",
        "print(\"Mean Accuracy: %.3f%%, Standard Deviation: (%.2f%%)\" % (tree_train.mean()*100.0, tree_train.std()*100.0))"
      ],
      "metadata": {
        "execution": {
          "iopub.status.busy": "2022-06-18T14:14:22.810699Z",
          "iopub.execute_input": "2022-06-18T14:14:22.810939Z",
          "iopub.status.idle": "2022-06-18T14:14:22.916876Z",
          "shell.execute_reply.started": "2022-06-18T14:14:22.810912Z",
          "shell.execute_reply": "2022-06-18T14:14:22.916192Z"
        },
        "trusted": true,
        "colab": {
          "base_uri": "https://localhost:8080/"
        },
        "id": "FX51BjhUtNAf",
        "outputId": "9ae14aca-f6eb-422f-b55c-464c0853a134"
      },
      "execution_count": 44,
      "outputs": [
        {
          "output_type": "stream",
          "name": "stdout",
          "text": [
            "Mean Accuracy: 95.706%, Standard Deviation: (1.99%)\n"
          ]
        }
      ]
    },
    {
      "cell_type": "code",
      "source": [
        "kfold = KFold(n_splits=10,shuffle=True,random_state=42)\n",
        "tree_test =cross_val_score(tree, x_test, y_test, cv=kfold, scoring='accuracy')\n",
        "pd.DataFrame(tree_test,columns=['Scores'])\n",
        "print(\"Mean Accuracy: %.3f%%, Standard Deviation: (%.2f%%)\" % (tree_test.mean()*100.0, tree_test.std()*100.0))"
      ],
      "metadata": {
        "execution": {
          "iopub.status.busy": "2022-06-18T14:14:24.165711Z",
          "iopub.execute_input": "2022-06-18T14:14:24.165994Z",
          "iopub.status.idle": "2022-06-18T14:14:24.227931Z",
          "shell.execute_reply.started": "2022-06-18T14:14:24.165959Z",
          "shell.execute_reply": "2022-06-18T14:14:24.227323Z"
        },
        "trusted": true,
        "colab": {
          "base_uri": "https://localhost:8080/"
        },
        "id": "T5F7XGixtNAf",
        "outputId": "63b8252a-8e15-425a-93ee-7102cdd12fd5"
      },
      "execution_count": 45,
      "outputs": [
        {
          "output_type": "stream",
          "name": "stdout",
          "text": [
            "Mean Accuracy: 94.198%, Standard Deviation: (3.57%)\n"
          ]
        }
      ]
    },
    {
      "cell_type": "code",
      "source": [
        "\n",
        "tree.predict([x_test[1]])"
      ],
      "metadata": {
        "colab": {
          "base_uri": "https://localhost:8080/"
        },
        "id": "mWe-IGqWLhYU",
        "outputId": "996d12a2-de67-45f6-d505-4ec0204f7385"
      },
      "execution_count": 46,
      "outputs": [
        {
          "output_type": "execute_result",
          "data": {
            "text/plain": [
              "array(['Peptic ulcer diseae'], dtype=object)"
            ]
          },
          "metadata": {},
          "execution_count": 46
        }
      ]
    },
    {
      "cell_type": "code",
      "source": [
        "tree.predict([x_test[2]])"
      ],
      "metadata": {
        "colab": {
          "base_uri": "https://localhost:8080/"
        },
        "id": "2Dkion7lLwa8",
        "outputId": "ed4b957f-bd8f-46fd-e73b-24d1d696b159"
      },
      "execution_count": 47,
      "outputs": [
        {
          "output_type": "execute_result",
          "data": {
            "text/plain": [
              "array(['Fungal infection'], dtype=object)"
            ]
          },
          "metadata": {},
          "execution_count": 47
        }
      ]
    },
    {
      "cell_type": "code",
      "source": [
        "tree.predict([x_test[8]])"
      ],
      "metadata": {
        "colab": {
          "base_uri": "https://localhost:8080/"
        },
        "id": "L04RfjiuLwrt",
        "outputId": "4a393667-4020-41f4-be82-405366c19c77"
      },
      "execution_count": 48,
      "outputs": [
        {
          "output_type": "execute_result",
          "data": {
            "text/plain": [
              "array(['AIDS'], dtype=object)"
            ]
          },
          "metadata": {},
          "execution_count": 48
        }
      ]
    },
    {
      "cell_type": "markdown",
      "source": [
        "# **Basic Ensemble Techniques**\n",
        "1. Max Voting using voting classifier"
      ],
      "metadata": {
        "id": "bSnrlV5DNqNI"
      }
    },
    {
      "cell_type": "code",
      "source": [
        "from sklearn.ensemble import VotingClassifier\n",
        "\n",
        "model = VotingClassifier(estimators=[('lr', SVM_hyperd), ('dt', tree)], voting='hard')\n",
        "model.fit(x_train,y_train)\n",
        "model.score(x_test,y_test)"
      ],
      "metadata": {
        "colab": {
          "base_uri": "https://localhost:8080/"
        },
        "id": "owtR8lndNFBD",
        "outputId": "2ac11a06-f012-40b0-b615-13477dbb9e7c"
      },
      "execution_count": 50,
      "outputs": [
        {
          "output_type": "execute_result",
          "data": {
            "text/plain": [
              "0.9878048780487805"
            ]
          },
          "metadata": {},
          "execution_count": 50
        }
      ]
    },
    {
      "cell_type": "markdown",
      "source": [
        "2. Average"
      ],
      "metadata": {
        "id": "iq3NWOedQPlC"
      }
    },
    {
      "cell_type": "code",
      "source": [
        "\n",
        "\n",
        "#tree.fit(x_train,y_train)\n",
        "#gaussian.fit(x_train,y_train)\n",
        "#SVM_hyperd.fit(x_train,y_train)\n",
        "\n",
        "pred1=tree.predict_proba(x_test)\n",
        "pred2=gaussian.predict_proba(x_test)\n",
        "#pred3=SVM_hyperd.predict_proba(x_test)\n",
        "\n",
        "finalpred=(pred1+pred2)/2\n",
        "print(finalpred)"
      ],
      "metadata": {
        "colab": {
          "base_uri": "https://localhost:8080/"
        },
        "id": "E1fZgde0OPn1",
        "outputId": "664252c0-e499-4d6d-82e6-94b978dc3872"
      },
      "execution_count": 54,
      "outputs": [
        {
          "output_type": "stream",
          "name": "stdout",
          "text": [
            "[[0.00000000e+00 0.00000000e+00 0.00000000e+00 ... 0.00000000e+00\n",
            "  0.00000000e+00 2.08471254e-26]\n",
            " [6.90233514e-10 0.00000000e+00 0.00000000e+00 ... 0.00000000e+00\n",
            "  0.00000000e+00 0.00000000e+00]\n",
            " [0.00000000e+00 3.59273084e-32 0.00000000e+00 ... 1.80442294e-17\n",
            "  0.00000000e+00 0.00000000e+00]\n",
            " ...\n",
            " [0.00000000e+00 8.71211722e-04 0.00000000e+00 ... 1.71839647e-13\n",
            "  0.00000000e+00 0.00000000e+00]\n",
            " [0.00000000e+00 0.00000000e+00 0.00000000e+00 ... 0.00000000e+00\n",
            "  0.00000000e+00 9.80794175e-77]\n",
            " [0.00000000e+00 0.00000000e+00 0.00000000e+00 ... 0.00000000e+00\n",
            "  0.00000000e+00 0.00000000e+00]]\n"
          ]
        }
      ]
    },
    {
      "cell_type": "markdown",
      "source": [
        "3. Weighted average"
      ],
      "metadata": {
        "id": "PzVDJGpoQSRC"
      }
    },
    {
      "cell_type": "code",
      "source": [
        "\n",
        "\n",
        "pred1=tree.predict_proba(x_test)\n",
        "pred2=gaussian.predict_proba(x_test)\n",
        "#pred3=SVM_hyperd.predict_proba(x_test)\n",
        "\n",
        "finalpred=(pred1*0.3+pred2*0.4)\n",
        "print(finalpred)"
      ],
      "metadata": {
        "colab": {
          "base_uri": "https://localhost:8080/"
        },
        "id": "i-jJUk70Pj4E",
        "outputId": "58ae5616-e09a-43b5-c1e4-161e33fe8532"
      },
      "execution_count": 57,
      "outputs": [
        {
          "output_type": "stream",
          "name": "stdout",
          "text": [
            "[[0.00000000e+00 0.00000000e+00 0.00000000e+00 ... 0.00000000e+00\n",
            "  0.00000000e+00 1.66777004e-26]\n",
            " [5.52186811e-10 0.00000000e+00 0.00000000e+00 ... 0.00000000e+00\n",
            "  0.00000000e+00 0.00000000e+00]\n",
            " [0.00000000e+00 2.87418467e-32 0.00000000e+00 ... 1.44353836e-17\n",
            "  0.00000000e+00 0.00000000e+00]\n",
            " ...\n",
            " [0.00000000e+00 6.96969377e-04 0.00000000e+00 ... 1.37471718e-13\n",
            "  0.00000000e+00 0.00000000e+00]\n",
            " [0.00000000e+00 0.00000000e+00 0.00000000e+00 ... 0.00000000e+00\n",
            "  0.00000000e+00 7.84635340e-77]\n",
            " [0.00000000e+00 0.00000000e+00 0.00000000e+00 ... 0.00000000e+00\n",
            "  0.00000000e+00 0.00000000e+00]]\n"
          ]
        }
      ]
    },
    {
      "cell_type": "markdown",
      "source": [
        "# **Advanced Ensemble Techniques**\n",
        "1. Bagging"
      ],
      "metadata": {
        "id": "vhKrUcL_QZEa"
      }
    },
    {
      "cell_type": "code",
      "source": [
        "from sklearn.ensemble import BaggingClassifier\n",
        "from sklearn import tree\n",
        "model = BaggingClassifier(tree.DecisionTreeClassifier(random_state=1))\n",
        "model.fit(x_train, y_train)\n",
        "model.score(x_test,y_test)\n"
      ],
      "metadata": {
        "colab": {
          "base_uri": "https://localhost:8080/"
        },
        "id": "34HPLgRuVlHk",
        "outputId": "b1d224dd-d01b-45d6-8e3f-9d98544b8ccd"
      },
      "execution_count": 58,
      "outputs": [
        {
          "output_type": "execute_result",
          "data": {
            "text/plain": [
              "0.9959349593495935"
            ]
          },
          "metadata": {},
          "execution_count": 58
        }
      ]
    },
    {
      "cell_type": "markdown",
      "source": [
        "# Algorithm based on Bagging technique :\n",
        " \n",
        "\n",
        "\n",
        "#  Random forest\n",
        "\n",
        "\n",
        "\n",
        "\n",
        "\n",
        "\n"
      ],
      "metadata": {
        "id": "Lsripkx2ukdO"
      }
    },
    {
      "cell_type": "code",
      "source": [
        "rfc=RandomForestClassifier(random_state=42)"
      ],
      "metadata": {
        "execution": {
          "iopub.status.busy": "2022-06-18T14:14:26.158288Z",
          "iopub.execute_input": "2022-06-18T14:14:26.158541Z",
          "iopub.status.idle": "2022-06-18T14:14:26.1626Z",
          "shell.execute_reply.started": "2022-06-18T14:14:26.158514Z",
          "shell.execute_reply": "2022-06-18T14:14:26.161653Z"
        },
        "trusted": true,
        "id": "44NrfE-yteCA"
      },
      "execution_count": 59,
      "outputs": []
    },
    {
      "cell_type": "code",
      "source": [
        "rnd_forest = RandomForestClassifier(random_state=42, max_features='sqrt', n_estimators= 500, max_depth=13)\n",
        "rnd_forest.fit(x_train,y_train)\n",
        "preds=rnd_forest.predict(x_test)\n",
        "conf_mat = confusion_matrix(y_test, preds)\n",
        "df_cm = pd.DataFrame(conf_mat, index=df['Disease'].unique(), columns=df['Disease'].unique())\n",
        "print('F1-score% =', f1_score(y_test, preds, average='macro')*100, '|', 'Accuracy% =', accuracy_score(y_test, preds)*100,'|', 'Precision% =', precision_score(y_test, preds,average='macro')*100 ,'|',  'recall% =', recall_score(y_test, preds,average='macro')*100)\n",
        "sns.heatmap(df_cm)"
      ],
      "metadata": {
        "execution": {
          "iopub.status.busy": "2022-06-18T14:14:27.715211Z",
          "iopub.execute_input": "2022-06-18T14:14:27.715467Z",
          "iopub.status.idle": "2022-06-18T14:14:29.823059Z",
          "shell.execute_reply.started": "2022-06-18T14:14:27.715438Z",
          "shell.execute_reply": "2022-06-18T14:14:29.822346Z"
        },
        "trusted": true,
        "colab": {
          "base_uri": "https://localhost:8080/",
          "height": 446
        },
        "outputId": "041cd77a-d194-4274-cdb9-152b6112376b",
        "id": "w20cHQXfteCA"
      },
      "execution_count": 60,
      "outputs": [
        {
          "output_type": "stream",
          "name": "stdout",
          "text": [
            "F1-score% = 99.58380389536958 | Accuracy% = 99.59349593495935 | Precision% = 99.61527293844367 | recall% = 99.58147049710061\n"
          ]
        },
        {
          "output_type": "execute_result",
          "data": {
            "text/plain": [
              "<matplotlib.axes._subplots.AxesSubplot at 0x7f7f1a245250>"
            ]
          },
          "metadata": {},
          "execution_count": 60
        },
        {
          "output_type": "display_data",
          "data": {
            "text/plain": [
              "<Figure size 432x288 with 2 Axes>"
            ],
            "image/png": "[encoded data removed]"
          },
          "metadata": {
            "needs_background": "light"
          }
        }
      ]
    },
    {
      "cell_type": "code",
      "source": [
        "kfold = KFold(n_splits=10,shuffle=True,random_state=42)\n",
        "rnd_forest_train =cross_val_score(rnd_forest, x_train, y_train, cv=kfold, scoring='accuracy')\n",
        "pd.DataFrame(rnd_forest_train,columns=['Scores'])\n",
        "print(\"Mean Accuracy: %.3f%%, Standard Deviation: (%.2f%%)\" % (rnd_forest_train.mean()*100.0, rnd_forest_train.std()*100.0))"
      ],
      "metadata": {
        "execution": {
          "iopub.status.busy": "2022-06-18T14:14:29.824251Z",
          "iopub.execute_input": "2022-06-18T14:14:29.824438Z",
          "iopub.status.idle": "2022-06-18T14:14:45.060007Z",
          "shell.execute_reply.started": "2022-06-18T14:14:29.824413Z",
          "shell.execute_reply": "2022-06-18T14:14:45.059069Z"
        },
        "trusted": true,
        "colab": {
          "base_uri": "https://localhost:8080/"
        },
        "outputId": "210ff9b6-36c6-48ed-9fb9-9bcef19b5c69",
        "id": "wGlCojMnteCB"
      },
      "execution_count": 61,
      "outputs": [
        {
          "output_type": "stream",
          "name": "stdout",
          "text": [
            "Mean Accuracy: 99.187%, Standard Deviation: (0.44%)\n"
          ]
        }
      ]
    },
    {
      "cell_type": "code",
      "source": [
        "kfold = KFold(n_splits=10,shuffle=True,random_state=42)\n",
        "rnd_forest_test =cross_val_score(rnd_forest, x_test, y_test, cv=kfold, scoring='accuracy')\n",
        "pd.DataFrame(rnd_forest_test,columns=['Scores'])\n",
        "print(\"Mean Accuracy: %.3f%%, Standard Deviation: (%.2f%%)\" % (rnd_forest_test.mean()*100.0, rnd_forest_test.std()*100.0))"
      ],
      "metadata": {
        "execution": {
          "iopub.status.busy": "2022-06-18T14:15:24.105132Z",
          "iopub.execute_input": "2022-06-18T14:15:24.106038Z",
          "iopub.status.idle": "2022-06-18T14:15:32.893168Z",
          "shell.execute_reply.started": "2022-06-18T14:15:24.106003Z",
          "shell.execute_reply": "2022-06-18T14:15:32.892178Z"
        },
        "trusted": true,
        "colab": {
          "base_uri": "https://localhost:8080/"
        },
        "outputId": "e8bad800-b703-43ad-b9ef-5a809588f6cb",
        "id": "HrmSrqvsteCC"
      },
      "execution_count": 62,
      "outputs": [
        {
          "output_type": "stream",
          "name": "stdout",
          "text": [
            "Mean Accuracy: 98.575%, Standard Deviation: (1.31%)\n"
          ]
        }
      ]
    },
    {
      "cell_type": "code",
      "source": [
        "rnd_forest.predict([x_test[1]])"
      ],
      "metadata": {
        "colab": {
          "base_uri": "https://localhost:8080/"
        },
        "outputId": "42777c53-3a64-4d00-a7c8-134a523a92ba",
        "id": "YzEbKx_QteCC"
      },
      "execution_count": 63,
      "outputs": [
        {
          "output_type": "execute_result",
          "data": {
            "text/plain": [
              "array(['Peptic ulcer diseae'], dtype=object)"
            ]
          },
          "metadata": {},
          "execution_count": 63
        }
      ]
    },
    {
      "cell_type": "code",
      "source": [
        "rnd_forest.predict([x_test[57]])"
      ],
      "metadata": {
        "colab": {
          "base_uri": "https://localhost:8080/"
        },
        "outputId": "96a219c3-226f-4da6-bd11-3726b6732711",
        "id": "c5v7r0tCteCC"
      },
      "execution_count": 64,
      "outputs": [
        {
          "output_type": "execute_result",
          "data": {
            "text/plain": [
              "array(['AIDS'], dtype=object)"
            ]
          },
          "metadata": {},
          "execution_count": 64
        }
      ]
    },
    {
      "cell_type": "code",
      "source": [
        "rnd_forest.predict([x_test[100]])"
      ],
      "metadata": {
        "colab": {
          "base_uri": "https://localhost:8080/"
        },
        "outputId": "9b164e7c-b830-4725-fb81-df4af8679109",
        "id": "QSOhF7CpteCD"
      },
      "execution_count": 65,
      "outputs": [
        {
          "output_type": "execute_result",
          "data": {
            "text/plain": [
              "array(['Hypertension'], dtype=object)"
            ]
          },
          "metadata": {},
          "execution_count": 65
        }
      ]
    },
    {
      "cell_type": "markdown",
      "source": [
        "# **Algorithms based on Boosting Techniques**\n",
        " **1. Gradient boosting**"
      ],
      "metadata": {
        "id": "ZzhwZhINtgcF"
      }
    },
    {
      "cell_type": "code",
      "source": [
        "GBC_model = GradientBoostingClassifier(learning_rate=0.01, random_state=1,max_depth=13)\n",
        "GBC_model.fit(x_train, y_train)\n",
        "preds=GBC_model.predict(x_test)\n",
        "conf_mat = confusion_matrix(y_test, preds)\n",
        "df_cm = pd.DataFrame(conf_mat, index=df['Disease'].unique(), columns=df['Disease'].unique())\n",
        "print('F1-score% =', f1_score(y_test, preds, average='macro')*100, '|', 'Accuracy% =', accuracy_score(y_test, preds)*100,'|', 'Precision% =', precision_score(y_test, preds,average='macro')*100 ,'|',  'recall% =', recall_score(y_test, preds,average='macro')*100)\n",
        "sns.heatmap(df_cm)"
      ],
      "metadata": {
        "colab": {
          "base_uri": "https://localhost:8080/",
          "height": 446
        },
        "outputId": "b15dc8d8-7bf7-4b7f-c726-10380ee96b57",
        "id": "a_KrdBtluFuP"
      },
      "execution_count": 66,
      "outputs": [
        {
          "output_type": "stream",
          "name": "stdout",
          "text": [
            "F1-score% = 99.58380389536958 | Accuracy% = 99.59349593495935 | Precision% = 99.61527293844367 | recall% = 99.58147049710061\n"
          ]
        },
        {
          "output_type": "execute_result",
          "data": {
            "text/plain": [
              "<matplotlib.axes._subplots.AxesSubplot at 0x7f7f19efc810>"
            ]
          },
          "metadata": {},
          "execution_count": 66
        },
        {
          "output_type": "display_data",
          "data": {
            "text/plain": [
              "<Figure size 432x288 with 2 Axes>"
            ],
            "image/png": "[encoded data removed]"
          },
          "metadata": {
            "needs_background": "light"
          }
        }
      ]
    },
    {
      "cell_type": "code",
      "source": [
        "\n",
        "kfold = KFold(n_splits=10,shuffle=True,random_state=42)\n",
        "GBC_model_train =cross_val_score(GBC_model, x_train, y_train, cv=kfold, scoring='accuracy')\n",
        "pd.DataFrame(GBC_model_train,columns=['Scores'])\n",
        "print(\"Mean Accuracy: %.3f%%, Standard Deviation: (%.2f%%)\" % (GBC_model_train.mean()*100.0, GBC_model_train.std()*100.0))\n"
      ],
      "metadata": {
        "colab": {
          "base_uri": "https://localhost:8080/"
        },
        "outputId": "e06da101-d2b2-4ac5-eeda-61f6cf0ff448",
        "id": "xbEruLbguFuR"
      },
      "execution_count": 67,
      "outputs": [
        {
          "output_type": "stream",
          "name": "stdout",
          "text": [
            "Mean Accuracy: 99.441%, Standard Deviation: (0.34%)\n"
          ]
        }
      ]
    },
    {
      "cell_type": "code",
      "source": [
        "\n",
        "kfold = KFold(n_splits=10,shuffle=True,random_state=42)\n",
        "GBC_model_test =cross_val_score(GBC_model, x_test, y_test, cv=kfold, scoring='accuracy')\n",
        "pd.DataFrame(GBC_model_test,columns=['Scores'])\n",
        "print(\"Mean Accuracy: %.3f%%, Standard Deviation: (%.2f%%)\" % (GBC_model_test.mean()*100.0, GBC_model_test.std()*100.0))\n"
      ],
      "metadata": {
        "colab": {
          "base_uri": "https://localhost:8080/"
        },
        "outputId": "acfcda4e-c160-4dfc-e3c9-1183c5808f7c",
        "id": "GJu936GguFuR"
      },
      "execution_count": 68,
      "outputs": [
        {
          "output_type": "stream",
          "name": "stdout",
          "text": [
            "Mean Accuracy: 96.134%, Standard Deviation: (2.45%)\n"
          ]
        }
      ]
    },
    {
      "cell_type": "code",
      "source": [
        "GBC_model.predict([x_test[1]])"
      ],
      "metadata": {
        "colab": {
          "base_uri": "https://localhost:8080/"
        },
        "outputId": "3cdcc24e-d218-4ae9-9f95-440d4f1c6f04",
        "id": "cg05RbBMuFuS"
      },
      "execution_count": 69,
      "outputs": [
        {
          "output_type": "execute_result",
          "data": {
            "text/plain": [
              "array(['Peptic ulcer diseae'], dtype=object)"
            ]
          },
          "metadata": {},
          "execution_count": 69
        }
      ]
    },
    {
      "cell_type": "code",
      "source": [
        "GBC_model.predict([x_test[2]])"
      ],
      "metadata": {
        "colab": {
          "base_uri": "https://localhost:8080/"
        },
        "outputId": "b1fb6eac-b125-4a06-c1b3-0b7c59b1b701",
        "id": "11rgqvrMuFuS"
      },
      "execution_count": 70,
      "outputs": [
        {
          "output_type": "execute_result",
          "data": {
            "text/plain": [
              "array(['Fungal infection'], dtype=object)"
            ]
          },
          "metadata": {},
          "execution_count": 70
        }
      ]
    },
    {
      "cell_type": "code",
      "source": [
        "GBC_model.predict([x_test[3]])"
      ],
      "metadata": {
        "colab": {
          "base_uri": "https://localhost:8080/"
        },
        "outputId": "63f95997-5890-491a-cb20-d08524c87094",
        "id": "PIPywVmNuFuT"
      },
      "execution_count": 71,
      "outputs": [
        {
          "output_type": "execute_result",
          "data": {
            "text/plain": [
              "array(['Hypoglycemia'], dtype=object)"
            ]
          },
          "metadata": {},
          "execution_count": 71
        }
      ]
    },
    {
      "cell_type": "markdown",
      "source": [
        "**2. XGBoost**"
      ],
      "metadata": {
        "id": "_JdD0JutW2sM"
      }
    },
    {
      "cell_type": "code",
      "source": [
        "import xgboost as xgb\n",
        "model=xgb.XGBClassifier(random_state=1,learning_rate=0.01)\n",
        "model.fit(x_train, y_train)\n",
        "model.score(x_test,y_test)"
      ],
      "metadata": {
        "colab": {
          "base_uri": "https://localhost:8080/"
        },
        "id": "FVsmGhRMWyrU",
        "outputId": "6569465f-0cbd-44e8-de2d-1311fb123f29"
      },
      "execution_count": 72,
      "outputs": [
        {
          "output_type": "execute_result",
          "data": {
            "text/plain": [
              "0.9654471544715447"
            ]
          },
          "metadata": {},
          "execution_count": 72
        }
      ]
    },
    {
      "cell_type": "markdown",
      "source": [
        ""
      ],
      "metadata": {
        "id": "OkSn41_-uMk4"
      }
    },
    {
      "cell_type": "markdown",
      "source": [
        "# Predictive Analysis\n",
        "\n",
        "**1. Checking the predictions**"
      ],
      "metadata": {
        "id": "8DH70L9Ks6CF"
      }
    },
    {
      "cell_type": "code",
      "source": [
        "def predd(S1,S2,S3,S4,S5,S6,S7,S8,S9,S10,S11,S12,S13,S14,S15,S16,S17,x):\n",
        "    psymptoms = [S1,S2,S3,S4,S5,S6,S7,S8,S9,S10,S11,S12,S13,S14,S15,S16,S17]\n",
        "    print(psymptoms)\n",
        "    a = np.array(df1[\"Symptom\"])\n",
        "    b = np.array(df1[\"weight\"])\n",
        "    for j in range(len(psymptoms)):\n",
        "        for k in range(len(a)):\n",
        "            if psymptoms[j]==a[k]:\n",
        "                psymptoms[j]=b[k]\n",
        "\n",
        "    psy = [psymptoms]\n",
        "\n",
        "    pred2 = x.predict(psy)\n",
        "    print(\"The prediction is\",pred2[0])"
      ],
      "metadata": {
        "execution": {
          "iopub.status.busy": "2022-06-18T14:15:32.894287Z",
          "iopub.execute_input": "2022-06-18T14:15:32.894547Z",
          "iopub.status.idle": "2022-06-18T14:15:32.901651Z",
          "shell.execute_reply.started": "2022-06-18T14:15:32.894514Z",
          "shell.execute_reply": "2022-06-18T14:15:32.900641Z"
        },
        "trusted": true,
        "id": "LmyiDlf-s6CG"
      },
      "execution_count": 73,
      "outputs": []
    },
    {
      "cell_type": "code",
      "source": [
        "sympList=df1[\"Symptom\"].to_list()\n",
        "predd(sympList[7],sympList[5],sympList[2],sympList[80],0,0,0,0,0,0,0,0,0,0,0,0,0,rnd_forest)"
      ],
      "metadata": {
        "execution": {
          "iopub.status.busy": "2022-06-18T14:15:32.902828Z",
          "iopub.execute_input": "2022-06-18T14:15:32.903075Z",
          "iopub.status.idle": "2022-06-18T14:15:32.961055Z",
          "shell.execute_reply.started": "2022-06-18T14:15:32.903045Z",
          "shell.execute_reply": "2022-06-18T14:15:32.960199Z"
        },
        "trusted": true,
        "colab": {
          "base_uri": "https://localhost:8080/"
        },
        "outputId": "2ade82a0-dde2-4067-e4da-e001a0c3996a",
        "id": "PHVs8-bys6CI"
      },
      "execution_count": 74,
      "outputs": [
        {
          "output_type": "stream",
          "name": "stdout",
          "text": [
            "['stomach pain', 'chills', 'nodal skin eruptions', 'muscle weakness', 0, 0, 0, 0, 0, 0, 0, 0, 0, 0, 0, 0, 0]\n",
            "The prediction is Paralysis (brain hemorrhage)\n"
          ]
        }
      ]
    },
    {
      "cell_type": "code",
      "source": [
        "sympList=df1[\"Symptom\"].to_list()\n",
        "predd(sympList[8],sympList[1],sympList[2],sympList[80],0,0,0,0,0,0,0,0,0,0,0,0,0,SVM_hyperd)"
      ],
      "metadata": {
        "execution": {
          "iopub.status.busy": "2022-06-18T14:15:32.962041Z",
          "iopub.execute_input": "2022-06-18T14:15:32.962249Z",
          "iopub.status.idle": "2022-06-18T14:15:32.969397Z",
          "shell.execute_reply.started": "2022-06-18T14:15:32.962223Z",
          "shell.execute_reply": "2022-06-18T14:15:32.968875Z"
        },
        "trusted": true,
        "colab": {
          "base_uri": "https://localhost:8080/"
        },
        "outputId": "47964591-ba07-4ca9-dc36-f790c0b0b8d3",
        "id": "3EkwCR2Ks6CJ"
      },
      "execution_count": 75,
      "outputs": [
        {
          "output_type": "stream",
          "name": "stdout",
          "text": [
            "['acidity', 'skin rash', 'nodal skin eruptions', 'muscle weakness', 0, 0, 0, 0, 0, 0, 0, 0, 0, 0, 0, 0, 0]\n",
            "The prediction is Paralysis (brain hemorrhage)\n"
          ]
        }
      ]
    },
    {
      "cell_type": "code",
      "source": [
        "sympList=df1[\"Symptom\"].to_list()\n",
        "predd(sympList[8],sympList[5],sympList[2],sympList[80],0,0,0,0,0,0,0,0,0,0,0,0,0,SVM_unhyperd)"
      ],
      "metadata": {
        "execution": {
          "iopub.status.busy": "2022-06-18T14:15:32.971234Z",
          "iopub.execute_input": "2022-06-18T14:15:32.971781Z",
          "iopub.status.idle": "2022-06-18T14:15:32.982616Z",
          "shell.execute_reply.started": "2022-06-18T14:15:32.971748Z",
          "shell.execute_reply": "2022-06-18T14:15:32.98189Z"
        },
        "trusted": true,
        "colab": {
          "base_uri": "https://localhost:8080/"
        },
        "outputId": "c0418f3e-74e9-4a78-89fa-3d1c27db30d9",
        "id": "kNUUaAjas6CJ"
      },
      "execution_count": 76,
      "outputs": [
        {
          "output_type": "stream",
          "name": "stdout",
          "text": [
            "['acidity', 'chills', 'nodal skin eruptions', 'muscle weakness', 0, 0, 0, 0, 0, 0, 0, 0, 0, 0, 0, 0, 0]\n",
            "The prediction is Allergy\n"
          ]
        }
      ]
    },
    {
      "cell_type": "markdown",
      "source": [
        "### **2. Comparing the results of different**"
      ],
      "metadata": {
        "id": "_PDUnf-vs6CK"
      }
    },
    {
      "cell_type": "code",
      "source": [
        "n_groups = 6\n",
        "algorithms = ('Naive Bayes','Unhyperd SVM', 'Hyperd SVM','Decision Tree', 'Gradient Boosting' , 'Random Forest')\n",
        "train_accuracy = (gaussian_train.mean()*100.0, \n",
        "                 SVM_unhyperd_train.mean()*100.0,\n",
        "                 SVM_hyperd_train.mean()*100.0,\n",
        "                 tree_train.mean()*100.0,\n",
        "                 GBC_model_train.mean()*100.0,\n",
        "                 rnd_forest_train.mean()*100.0,\n",
        "                 )\n",
        "\n",
        "\n",
        "test_accuracy = (gaussian_test.mean()*100.0, \n",
        "                 SVM_unhyperd_test.mean()*100.0,\n",
        "                 SVM_hyperd_test.mean()*100.0,\n",
        "                 tree_test.mean()*100.0,\n",
        "                 GBC_model_test.mean()*100.0,\n",
        "                 rnd_forest_test.mean()*100.0\n",
        "                )\n",
        "\n",
        "Standard_Deviation=(gaussian_test.std()*100.0, \n",
        "                 SVM_unhyperd_test.std()*100.0,\n",
        "                 SVM_hyperd_test.std()*100.0,\n",
        "                 tree_test.std()*100.0,\n",
        "                 GBC_model_test.std()*100.0,      \n",
        "                 rnd_forest_test.std()*100.0\n",
        "                 \n",
        "                   )\n",
        "\n",
        "# create plot\n",
        "fig, ax = plt.subplots(figsize=(15, 10))\n",
        "index = np.arange(n_groups)\n",
        "bar_width = 0.3\n",
        "opacity = 1\n",
        "rects1 = plt.bar(index, train_accuracy, bar_width, alpha = opacity, color='red', label='Train')\n",
        "rects2 = plt.bar(index + bar_width, test_accuracy, bar_width, alpha = opacity, color='green', label='Test')\n",
        "rects3 = plt.bar(index + bar_width, Standard_Deviation, bar_width, alpha = opacity, color='yellow', label='Standard Deviation')\n",
        "plt.xlabel('Algorithm') # x axis label\n",
        "plt.ylabel('Accuracy (%)') # y axis label\n",
        "plt.ylim(0, 115)\n",
        "plt.title('Comparison of Algorithm Accuracies') # plot title\n",
        "plt.xticks(index + bar_width * 0.5, algorithms) # x axis data labels\n",
        "plt.legend(loc = 'upper right') # show legend\n",
        "for index, data in enumerate(train_accuracy):\n",
        "    plt.text(x = index - 0.035, y = data + 1, s = round(data, 2), fontdict = dict(fontsize = 8))\n",
        "for index, data in enumerate(test_accuracy):\n",
        "    plt.text(x = index + 0.25, y = data + 1, s = round(data, 2), fontdict = dict(fontsize = 8))\n",
        "for index, data in enumerate(Standard_Deviation):\n",
        "    plt.text(x = index + 0.25, y = data + 1, s = round(data, 2), fontdict = dict(fontsize = 8))    "
      ],
      "metadata": {
        "execution": {
          "iopub.status.busy": "2022-06-18T14:15:32.983774Z",
          "iopub.execute_input": "2022-06-18T14:15:32.98418Z",
          "iopub.status.idle": "2022-06-18T14:15:33.261127Z",
          "shell.execute_reply.started": "2022-06-18T14:15:32.984142Z",
          "shell.execute_reply": "2022-06-18T14:15:33.260269Z"
        },
        "trusted": true,
        "colab": {
          "base_uri": "https://localhost:8080/",
          "height": 621
        },
        "outputId": "59825555-7e99-47d9-c915-12e26b9d3fb3",
        "id": "17ZfZ93xs6CK"
      },
      "execution_count": 77,
      "outputs": [
        {
          "output_type": "display_data",
          "data": {
            "text/plain": [
              "<Figure size 1080x720 with 1 Axes>"
            ],
            "image/png": "[encoded data removed]"
          },
          "metadata": {
            "needs_background": "light"
          }
        }
      ]
    }
  ]
}